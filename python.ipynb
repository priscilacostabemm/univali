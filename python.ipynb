{
  "nbformat": 4,
  "nbformat_minor": 0,
  "metadata": {
    "colab": {
      "provenance": [],
      "collapsed_sections": [
        "_HeOx5wyGW0p",
        "Ib-A5v7Ms8dL",
        "8S_JQT40smuL",
        "2sauUG0Jx7MW",
        "5eWbpe4ZQW9D",
        "Tc5FVq9WfpTz",
        "PrI5P8UYsD3h",
        "z9-3rywSs1qH",
        "PX3GLbEJFrLV",
        "mbyxm1DZGNgr",
        "47E7D2BrM0pz"
      ],
      "toc_visible": true,
      "mount_file_id": "1S0LeGd3APlIsIBQsDHVeMwcKbw-Vc8_H",
      "authorship_tag": "ABX9TyNq3rtGseq2SZHVBKbSIEVY",
      "include_colab_link": true
    },
    "kernelspec": {
      "name": "python3",
      "display_name": "Python 3"
    },
    "language_info": {
      "name": "python"
    }
  },
  "cells": [
    {
      "cell_type": "markdown",
      "metadata": {
        "id": "view-in-github",
        "colab_type": "text"
      },
      "source": [
        "<a href=\"https://colab.research.google.com/github/priscilacostabemm/univali/blob/main/python.ipynb\" target=\"_parent\"><img src=\"https://colab.research.google.com/assets/colab-badge.svg\" alt=\"Open In Colab\"/></a>"
      ]
    },
    {
      "cell_type": "markdown",
      "source": [
        "# Setup\n",
        "\n"
      ],
      "metadata": {
        "id": "UbiwKYIrGwrO"
      }
    },
    {
      "cell_type": "code",
      "source": [
        "!pip install unidecode"
      ],
      "metadata": {
        "colab": {
          "base_uri": "https://localhost:8080/"
        },
        "id": "NsgJvaiJxUDC",
        "outputId": "a049526a-9db8-4385-99ce-d80bd46e33e1"
      },
      "execution_count": 5,
      "outputs": [
        {
          "output_type": "stream",
          "name": "stdout",
          "text": [
            "Collecting unidecode\n",
            "  Downloading Unidecode-1.3.6-py3-none-any.whl (235 kB)\n",
            "\u001b[?25l     \u001b[90m━━━━━━━━━━━━━━━━━━━━━━━━━━━━━━━━━━━━━━━━\u001b[0m \u001b[32m0.0/235.9 kB\u001b[0m \u001b[31m?\u001b[0m eta \u001b[36m-:--:--\u001b[0m\r\u001b[2K     \u001b[91m━━━━━━━━━━━━━━━━━━━━━━━━━━━━━━━━━━━━━━\u001b[0m\u001b[91m╸\u001b[0m \u001b[32m235.5/235.9 kB\u001b[0m \u001b[31m8.7 MB/s\u001b[0m eta \u001b[36m0:00:01\u001b[0m\r\u001b[2K     \u001b[90m━━━━━━━━━━━━━━━━━━━━━━━━━━━━━━━━━━━━━━━\u001b[0m \u001b[32m235.9/235.9 kB\u001b[0m \u001b[31m5.9 MB/s\u001b[0m eta \u001b[36m0:00:00\u001b[0m\n",
            "\u001b[?25hInstalling collected packages: unidecode\n",
            "Successfully installed unidecode-1.3.6\n"
          ]
        }
      ]
    },
    {
      "cell_type": "code",
      "source": [
        "!pip show unicode"
      ],
      "metadata": {
        "id": "DKGUjGWqVAot"
      },
      "execution_count": null,
      "outputs": []
    },
    {
      "cell_type": "code",
      "source": [
        "import pandas as pd\n",
        "from datetime import datetime\n",
        "import itertools as it\n",
        "import numpy as np\n",
        "from unidecode import unidecode"
      ],
      "metadata": {
        "id": "SuKUA1pqG2Ui"
      },
      "execution_count": 6,
      "outputs": []
    },
    {
      "cell_type": "markdown",
      "source": [
        "#Dados"
      ],
      "metadata": {
        "id": "_HeOx5wyGW0p"
      }
    },
    {
      "cell_type": "code",
      "source": [
        "df=pd.read_json('/content/drive/MyDrive/report_picpay.json')\n",
        "df"
      ],
      "metadata": {
        "id": "AjPbUUp6Gfno",
        "colab": {
          "base_uri": "https://localhost:8080/",
          "height": 423
        },
        "outputId": "799ec4bc-ef4a-40df-faed-ad87e15bc574"
      },
      "execution_count": null,
      "outputs": [
        {
          "output_type": "execute_result",
          "data": {
            "text/plain": [
              "         Campaign Name       App ID         Day  Impressions  Conversions\n",
              "0    PicPay | Adgrowth  vrv/2177890  2023-04-22          647            1\n",
              "1    PicPay | Adgrowth  vrv/2177890  2023-04-25          477            1\n",
              "2    PicPay | Adgrowth  vrv/2177890  2023-04-18          971            1\n",
              "3    PicPay | Adgrowth  vrv/2177890  2023-04-28          613            1\n",
              "4    PicPay | Adgrowth  vrv/2159834  2023-04-17          582            1\n",
              "..                 ...          ...         ...          ...          ...\n",
              "230  PicPay | Adgrowth   ia/1295280  2023-03-10            1            1\n",
              "231  PicPay | Adgrowth   ia/1215729  2023-03-14          212            1\n",
              "232  PicPay | Adgrowth   ia/1139330  2023-03-18          725            1\n",
              "233  PicPay | Adgrowth   ia/1139330  2023-03-14          306            1\n",
              "234  PicPay | Adgrowth   ia/1032688  2023-03-13          172            1\n",
              "\n",
              "[235 rows x 5 columns]"
            ],
            "text/html": [
              "\n",
              "  <div id=\"df-4f708f15-a736-4a9b-bf28-417bb5e5f665\">\n",
              "    <div class=\"colab-df-container\">\n",
              "      <div>\n",
              "<style scoped>\n",
              "    .dataframe tbody tr th:only-of-type {\n",
              "        vertical-align: middle;\n",
              "    }\n",
              "\n",
              "    .dataframe tbody tr th {\n",
              "        vertical-align: top;\n",
              "    }\n",
              "\n",
              "    .dataframe thead th {\n",
              "        text-align: right;\n",
              "    }\n",
              "</style>\n",
              "<table border=\"1\" class=\"dataframe\">\n",
              "  <thead>\n",
              "    <tr style=\"text-align: right;\">\n",
              "      <th></th>\n",
              "      <th>Campaign Name</th>\n",
              "      <th>App ID</th>\n",
              "      <th>Day</th>\n",
              "      <th>Impressions</th>\n",
              "      <th>Conversions</th>\n",
              "    </tr>\n",
              "  </thead>\n",
              "  <tbody>\n",
              "    <tr>\n",
              "      <th>0</th>\n",
              "      <td>PicPay | Adgrowth</td>\n",
              "      <td>vrv/2177890</td>\n",
              "      <td>2023-04-22</td>\n",
              "      <td>647</td>\n",
              "      <td>1</td>\n",
              "    </tr>\n",
              "    <tr>\n",
              "      <th>1</th>\n",
              "      <td>PicPay | Adgrowth</td>\n",
              "      <td>vrv/2177890</td>\n",
              "      <td>2023-04-25</td>\n",
              "      <td>477</td>\n",
              "      <td>1</td>\n",
              "    </tr>\n",
              "    <tr>\n",
              "      <th>2</th>\n",
              "      <td>PicPay | Adgrowth</td>\n",
              "      <td>vrv/2177890</td>\n",
              "      <td>2023-04-18</td>\n",
              "      <td>971</td>\n",
              "      <td>1</td>\n",
              "    </tr>\n",
              "    <tr>\n",
              "      <th>3</th>\n",
              "      <td>PicPay | Adgrowth</td>\n",
              "      <td>vrv/2177890</td>\n",
              "      <td>2023-04-28</td>\n",
              "      <td>613</td>\n",
              "      <td>1</td>\n",
              "    </tr>\n",
              "    <tr>\n",
              "      <th>4</th>\n",
              "      <td>PicPay | Adgrowth</td>\n",
              "      <td>vrv/2159834</td>\n",
              "      <td>2023-04-17</td>\n",
              "      <td>582</td>\n",
              "      <td>1</td>\n",
              "    </tr>\n",
              "    <tr>\n",
              "      <th>...</th>\n",
              "      <td>...</td>\n",
              "      <td>...</td>\n",
              "      <td>...</td>\n",
              "      <td>...</td>\n",
              "      <td>...</td>\n",
              "    </tr>\n",
              "    <tr>\n",
              "      <th>230</th>\n",
              "      <td>PicPay | Adgrowth</td>\n",
              "      <td>ia/1295280</td>\n",
              "      <td>2023-03-10</td>\n",
              "      <td>1</td>\n",
              "      <td>1</td>\n",
              "    </tr>\n",
              "    <tr>\n",
              "      <th>231</th>\n",
              "      <td>PicPay | Adgrowth</td>\n",
              "      <td>ia/1215729</td>\n",
              "      <td>2023-03-14</td>\n",
              "      <td>212</td>\n",
              "      <td>1</td>\n",
              "    </tr>\n",
              "    <tr>\n",
              "      <th>232</th>\n",
              "      <td>PicPay | Adgrowth</td>\n",
              "      <td>ia/1139330</td>\n",
              "      <td>2023-03-18</td>\n",
              "      <td>725</td>\n",
              "      <td>1</td>\n",
              "    </tr>\n",
              "    <tr>\n",
              "      <th>233</th>\n",
              "      <td>PicPay | Adgrowth</td>\n",
              "      <td>ia/1139330</td>\n",
              "      <td>2023-03-14</td>\n",
              "      <td>306</td>\n",
              "      <td>1</td>\n",
              "    </tr>\n",
              "    <tr>\n",
              "      <th>234</th>\n",
              "      <td>PicPay | Adgrowth</td>\n",
              "      <td>ia/1032688</td>\n",
              "      <td>2023-03-13</td>\n",
              "      <td>172</td>\n",
              "      <td>1</td>\n",
              "    </tr>\n",
              "  </tbody>\n",
              "</table>\n",
              "<p>235 rows × 5 columns</p>\n",
              "</div>\n",
              "      <button class=\"colab-df-convert\" onclick=\"convertToInteractive('df-4f708f15-a736-4a9b-bf28-417bb5e5f665')\"\n",
              "              title=\"Convert this dataframe to an interactive table.\"\n",
              "              style=\"display:none;\">\n",
              "        \n",
              "  <svg xmlns=\"http://www.w3.org/2000/svg\" height=\"24px\"viewBox=\"0 0 24 24\"\n",
              "       width=\"24px\">\n",
              "    <path d=\"M0 0h24v24H0V0z\" fill=\"none\"/>\n",
              "    <path d=\"M18.56 5.44l.94 2.06.94-2.06 2.06-.94-2.06-.94-.94-2.06-.94 2.06-2.06.94zm-11 1L8.5 8.5l.94-2.06 2.06-.94-2.06-.94L8.5 2.5l-.94 2.06-2.06.94zm10 10l.94 2.06.94-2.06 2.06-.94-2.06-.94-.94-2.06-.94 2.06-2.06.94z\"/><path d=\"M17.41 7.96l-1.37-1.37c-.4-.4-.92-.59-1.43-.59-.52 0-1.04.2-1.43.59L10.3 9.45l-7.72 7.72c-.78.78-.78 2.05 0 2.83L4 21.41c.39.39.9.59 1.41.59.51 0 1.02-.2 1.41-.59l7.78-7.78 2.81-2.81c.8-.78.8-2.07 0-2.86zM5.41 20L4 18.59l7.72-7.72 1.47 1.35L5.41 20z\"/>\n",
              "  </svg>\n",
              "      </button>\n",
              "      \n",
              "  <style>\n",
              "    .colab-df-container {\n",
              "      display:flex;\n",
              "      flex-wrap:wrap;\n",
              "      gap: 12px;\n",
              "    }\n",
              "\n",
              "    .colab-df-convert {\n",
              "      background-color: #E8F0FE;\n",
              "      border: none;\n",
              "      border-radius: 50%;\n",
              "      cursor: pointer;\n",
              "      display: none;\n",
              "      fill: #1967D2;\n",
              "      height: 32px;\n",
              "      padding: 0 0 0 0;\n",
              "      width: 32px;\n",
              "    }\n",
              "\n",
              "    .colab-df-convert:hover {\n",
              "      background-color: #E2EBFA;\n",
              "      box-shadow: 0px 1px 2px rgba(60, 64, 67, 0.3), 0px 1px 3px 1px rgba(60, 64, 67, 0.15);\n",
              "      fill: #174EA6;\n",
              "    }\n",
              "\n",
              "    [theme=dark] .colab-df-convert {\n",
              "      background-color: #3B4455;\n",
              "      fill: #D2E3FC;\n",
              "    }\n",
              "\n",
              "    [theme=dark] .colab-df-convert:hover {\n",
              "      background-color: #434B5C;\n",
              "      box-shadow: 0px 1px 3px 1px rgba(0, 0, 0, 0.15);\n",
              "      filter: drop-shadow(0px 1px 2px rgba(0, 0, 0, 0.3));\n",
              "      fill: #FFFFFF;\n",
              "    }\n",
              "  </style>\n",
              "\n",
              "      <script>\n",
              "        const buttonEl =\n",
              "          document.querySelector('#df-4f708f15-a736-4a9b-bf28-417bb5e5f665 button.colab-df-convert');\n",
              "        buttonEl.style.display =\n",
              "          google.colab.kernel.accessAllowed ? 'block' : 'none';\n",
              "\n",
              "        async function convertToInteractive(key) {\n",
              "          const element = document.querySelector('#df-4f708f15-a736-4a9b-bf28-417bb5e5f665');\n",
              "          const dataTable =\n",
              "            await google.colab.kernel.invokeFunction('convertToInteractive',\n",
              "                                                     [key], {});\n",
              "          if (!dataTable) return;\n",
              "\n",
              "          const docLinkHtml = 'Like what you see? Visit the ' +\n",
              "            '<a target=\"_blank\" href=https://colab.research.google.com/notebooks/data_table.ipynb>data table notebook</a>'\n",
              "            + ' to learn more about interactive tables.';\n",
              "          element.innerHTML = '';\n",
              "          dataTable['output_type'] = 'display_data';\n",
              "          await google.colab.output.renderOutput(dataTable, element);\n",
              "          const docLink = document.createElement('div');\n",
              "          docLink.innerHTML = docLinkHtml;\n",
              "          element.appendChild(docLink);\n",
              "        }\n",
              "      </script>\n",
              "    </div>\n",
              "  </div>\n",
              "  "
            ]
          },
          "metadata": {},
          "execution_count": 4
        }
      ]
    },
    {
      "cell_type": "markdown",
      "source": [
        "# Carregando dados do Google Colab"
      ],
      "metadata": {
        "id": "Ib-A5v7Ms8dL"
      }
    },
    {
      "cell_type": "markdown",
      "source": [
        "## Usando link"
      ],
      "metadata": {
        "id": "LDpvR_Q9tDY7"
      }
    },
    {
      "cell_type": "code",
      "source": [
        "# dataset = pd.read_csv('link do github')\n",
        "# dataset"
      ],
      "metadata": {
        "id": "Eb2OSUvOtATj"
      },
      "execution_count": null,
      "outputs": []
    },
    {
      "cell_type": "markdown",
      "source": [
        "## Carregando diretamente de sua máquina"
      ],
      "metadata": {
        "id": "4MKoQcIatlWh"
      }
    },
    {
      "cell_type": "markdown",
      "source": [
        "## Fazendo upload pelo Google Colab"
      ],
      "metadata": {
        "id": "yY2T9dDBu0YD"
      }
    },
    {
      "cell_type": "markdown",
      "source": [
        "![Captura de tela 2023-06-20 135618.png](data:image/png;base64,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)"
      ],
      "metadata": {
        "id": "iRle3ZAqvYar"
      }
    },
    {
      "cell_type": "markdown",
      "source": [
        "Apos o drive estar montado, escolhe-se o ficheiro que está"
      ],
      "metadata": {
        "id": "AbMwD28hvjP2"
      }
    },
    {
      "cell_type": "markdown",
      "source": [
        "# Operações entre conjuntos"
      ],
      "metadata": {
        "id": "M6OgZ1dmrM2r"
      }
    },
    {
      "cell_type": "markdown",
      "source": [
        "Dados dois dicts distintos, verificar elementos que têm em apenas um deles:"
      ],
      "metadata": {
        "id": "BkUHRnLcrp4S"
      }
    },
    {
      "cell_type": "code",
      "execution_count": null,
      "metadata": {
        "id": "-LhF4LfIrJ6m",
        "colab": {
          "base_uri": "https://localhost:8080/"
        },
        "outputId": "f985a368-5379-43d8-bb63-9250e1411ede"
      },
      "outputs": [
        {
          "output_type": "stream",
          "name": "stdout",
          "text": [
            "{'chave1', 'chave4'}\n"
          ]
        }
      ],
      "source": [
        "dict1 = {'chave1': 'valor1', 'chave2': 'valor2', 'chave3': 'valor3'}\n",
        "dict2 = {'chave2': 'valor2', 'chave3': 'valor3', 'chave4': 'valor4'}\n",
        "\n",
        "chaves_diferentes = set(dict1.keys()).symmetric_difference(set(dict2.keys()))\n",
        "\n",
        "print(chaves_diferentes)"
      ]
    },
    {
      "cell_type": "markdown",
      "source": [
        "Dados dois conjuntos distintos, verificar elementos que têm em apenas um deles:"
      ],
      "metadata": {
        "id": "hkWomLs-sAY_"
      }
    },
    {
      "cell_type": "code",
      "source": [
        "set1=[1,2,3,4]\n",
        "set2=[2,5,4]\n",
        "set_distinct=set(set1).symmetric_difference(set(set2))\n",
        "set_distinct"
      ],
      "metadata": {
        "id": "trysUp_WsIZN",
        "colab": {
          "base_uri": "https://localhost:8080/"
        },
        "outputId": "901146ba-986f-4cc9-86e2-174bc0c5dd35"
      },
      "execution_count": null,
      "outputs": [
        {
          "output_type": "execute_result",
          "data": {
            "text/plain": [
              "{1, 3, 5}"
            ]
          },
          "metadata": {},
          "execution_count": 7
        }
      ]
    },
    {
      "cell_type": "markdown",
      "source": [
        "Dados dois conjuntos distintos, verificar elementos que têm em apenas no primeiro conjunto:"
      ],
      "metadata": {
        "id": "W5i79YzFsnFo"
      }
    },
    {
      "cell_type": "code",
      "source": [
        "set1=[1,2,3,4]\n",
        "set2=[2,5,4]\n",
        "only_set1=set(set1)-set(set2)\n",
        "only_set1"
      ],
      "metadata": {
        "id": "1DcsDLh0s6ia",
        "colab": {
          "base_uri": "https://localhost:8080/"
        },
        "outputId": "78d35c13-da5d-49ea-f645-ecf0a380f1e1"
      },
      "execution_count": null,
      "outputs": [
        {
          "output_type": "execute_result",
          "data": {
            "text/plain": [
              "{1, 3}"
            ]
          },
          "metadata": {},
          "execution_count": 8
        }
      ]
    },
    {
      "cell_type": "markdown",
      "source": [
        "Dados dois conjuntos distintos, verificar elementos que estão simultâneamente nos dois conjuntos:"
      ],
      "metadata": {
        "id": "oqv7EcBtsvc2"
      }
    },
    {
      "cell_type": "code",
      "source": [
        "set1=[1,2,3,4]\n",
        "set2=[2,5,4]\n",
        "both=set(set1)&set(set2)\n",
        "both"
      ],
      "metadata": {
        "id": "dLLajeZEtMbI",
        "colab": {
          "base_uri": "https://localhost:8080/"
        },
        "outputId": "a54beb1a-5398-4542-e437-4f33521a3f28"
      },
      "execution_count": null,
      "outputs": [
        {
          "output_type": "execute_result",
          "data": {
            "text/plain": [
              "{2, 4}"
            ]
          },
          "metadata": {},
          "execution_count": 9
        }
      ]
    },
    {
      "cell_type": "markdown",
      "source": [
        "# Merge"
      ],
      "metadata": {
        "id": "HmvQHwarM2ds"
      }
    },
    {
      "cell_type": "markdown",
      "source": [
        "`pandas.merge(left, right, how='inner', on=None, left_on=None, right_on=None, left_index=False, right_index=False, sort=False, suffixes=('_x', '_y'), copy=None, indicator=False, validate=None)`\n",
        "\n",
        "**Parâmetros**\n",
        "\n",
        "* left: dataframe esquerdo ou série nomeada\n",
        "DataFrame correto ou série nomeada\n",
        "Objeto para mesclar.\n",
        "\n",
        "* how: {'left', 'right', 'outer', 'inner', 'cross'}, padrão 'inner'.Tipo de mesclagem a ser realizada.\n",
        "\n",
        "    * left: usa apenas as chaves do quadro esquerdo, semelhante a uma junção externa esquerda do SQL; preservar a ordem das chaves.\n",
        "\n",
        "    * direita: use apenas as chaves do quadro direito, semelhante a uma junção externa direita do SQL; preservar a ordem das chaves.\n",
        "\n",
        "    * exterior: usa a união de chaves de ambos os quadros, semelhante a uma junção externa completa do SQL; ordenar as chaves lexicograficamente.\n",
        "\n",
        "    * interno: usa a interseção de chaves de ambos os quadros, semelhante a uma junção interna do SQL; preservar a ordem das teclas esquerdas.\n",
        "\n",
        "    * cross: cria o produto cartesiano de ambos os quadros, preserva a ordem das teclas esquerdas.\n",
        "\n",
        "\n",
        "* on: label ou list\n",
        "Nomes ou índice da coluna para unir. Estes devem ser encontrados em ambos os DataFrames. Se for None o padrão será a interseção das colunas em ambos os DataFrames.\n",
        "\n",
        "* left_on: label, list, ou array-like\n",
        "Nomes das colunas ou índice para unir no DataFrame esquerdo. Também pode ser uma matriz ou lista de matrizes do comprimento do DataFrame esquerdo. Essas matrizes são tratadas como se fossem colunas.\n",
        "\n",
        "* right_on: label, list, ou array-like\n",
        "Nomes das colunas ou índice para unir no DataFrame direito. Também pode ser uma matriz ou lista de matrizes do comprimento do DataFrame esquerdo. Essas matrizes são tratadas como se fossem colunas.\n",
        "\n",
        "* left_index: bool. Default: Falso\n",
        "Use o índice do DataFrame esquerdo como a(s) chave(s) de junção. Se for um MultiIndex, o número de chaves no outro DataFrame (seja o índice ou um número de colunas) deve corresponder ao número de níveis.\n",
        "\n",
        "* right_index: bool. Default: Falso\n",
        "Use o índice do DataFrame direito como a(s) chave(s) de junção. Se for um MultiIndex, o número de chaves no outro DataFrame (seja o índice ou um número de colunas) deve corresponde\n",
        "\n",
        "* sort: bool. Default: False\n",
        "Classifique as chaves de junção lexicograficamente no DataFrame resultante. Se False, a ordem das chaves de junção depende do tipo de junção (como a palavra-chave).\n",
        "\n",
        "* suffixes: list-like (lista de sufixos), default is (“_x”, “_y”)\n",
        "Uma sequência de comprimento 2 em que cada elemento é opcionalmente uma string indicando o sufixo a ser adicionado aos nomes de coluna sobrepostos à esquerda e à direita , respectivamente. Passe um valor None em vez de uma string para indicar que o nome da coluna da esquerda ou da direita deve ser deixado como está, sem sufixo. Pelo menos um dos valores não deve ser Nenhum.\n",
        "\n",
        "* copy: bool. Default True\n",
        "Se False, evite copiar se possível.\n",
        "\n",
        "* indicator: bool ou str. Default Falso\n",
        "Se True, adiciona uma coluna ao DataFrame de saída chamada “_merge” com informações sobre a origem de cada linha. A coluna pode receber um nome diferente fornecendo um argumento de string. A coluna terá um tipo categórico com o valor de “left_only” para observações cuja chave de mesclagem aparece apenas no DataFrame esquerdo, “right_only” para observações cuja chave de mesclagem aparece apenas no DataFrame direito e “both” se a chave de mesclagem da observação é encontrado em ambos os DataFrames.\n",
        "\n",
        "* validate: str, opcional.\n",
        "Se especificado, verifica se a mesclagem é do tipo especificado:\n",
        "\n",
        "    * “one_to_one” ou “1:1”: verifique se as chaves de mesclagem são únicas nos conjuntos de dados esquerdo e direito.\n",
        "\n",
        "    * “one_to_many” ou “1:m”: verifique se as chaves de mesclagem são únicas no conjunto de dados esquerdo.\n",
        "\n",
        "    * “many_to_one” ou “m:1”: verifique se as chaves de mesclagem são únicas no conjunto de dados correto.\n",
        "\n",
        "    * “many_to_many” ou “m:m”: permitido, mas não resulta em verificações."
      ],
      "metadata": {
        "id": "kFvhEgVQNPJ9"
      }
    },
    {
      "cell_type": "code",
      "source": [
        "df1 = pd.DataFrame({'lkey': ['foo', 'bar', 'car', 'foo'],\n",
        "                    'value': [1, 2, 3, 5]})\n",
        "df2 = pd.DataFrame({'rkey': ['foo', 'bar', 'car', 'foo'],\n",
        "                    'value': [5, 6, 7, 8]})\n",
        "df1"
      ],
      "metadata": {
        "colab": {
          "base_uri": "https://localhost:8080/",
          "height": 175
        },
        "id": "6kZVszgvZL7b",
        "outputId": "ed00a8dc-4589-4be9-d9dd-bc01b0968400"
      },
      "execution_count": 10,
      "outputs": [
        {
          "output_type": "execute_result",
          "data": {
            "text/plain": [
              "  lkey  value\n",
              "0  foo      1\n",
              "1  bar      2\n",
              "2  car      3\n",
              "3  foo      5"
            ],
            "text/html": [
              "\n",
              "  <div id=\"df-0ca793f0-9a59-4954-b82c-83be163b309e\">\n",
              "    <div class=\"colab-df-container\">\n",
              "      <div>\n",
              "<style scoped>\n",
              "    .dataframe tbody tr th:only-of-type {\n",
              "        vertical-align: middle;\n",
              "    }\n",
              "\n",
              "    .dataframe tbody tr th {\n",
              "        vertical-align: top;\n",
              "    }\n",
              "\n",
              "    .dataframe thead th {\n",
              "        text-align: right;\n",
              "    }\n",
              "</style>\n",
              "<table border=\"1\" class=\"dataframe\">\n",
              "  <thead>\n",
              "    <tr style=\"text-align: right;\">\n",
              "      <th></th>\n",
              "      <th>lkey</th>\n",
              "      <th>value</th>\n",
              "    </tr>\n",
              "  </thead>\n",
              "  <tbody>\n",
              "    <tr>\n",
              "      <th>0</th>\n",
              "      <td>foo</td>\n",
              "      <td>1</td>\n",
              "    </tr>\n",
              "    <tr>\n",
              "      <th>1</th>\n",
              "      <td>bar</td>\n",
              "      <td>2</td>\n",
              "    </tr>\n",
              "    <tr>\n",
              "      <th>2</th>\n",
              "      <td>car</td>\n",
              "      <td>3</td>\n",
              "    </tr>\n",
              "    <tr>\n",
              "      <th>3</th>\n",
              "      <td>foo</td>\n",
              "      <td>5</td>\n",
              "    </tr>\n",
              "  </tbody>\n",
              "</table>\n",
              "</div>\n",
              "      <button class=\"colab-df-convert\" onclick=\"convertToInteractive('df-0ca793f0-9a59-4954-b82c-83be163b309e')\"\n",
              "              title=\"Convert this dataframe to an interactive table.\"\n",
              "              style=\"display:none;\">\n",
              "        \n",
              "  <svg xmlns=\"http://www.w3.org/2000/svg\" height=\"24px\"viewBox=\"0 0 24 24\"\n",
              "       width=\"24px\">\n",
              "    <path d=\"M0 0h24v24H0V0z\" fill=\"none\"/>\n",
              "    <path d=\"M18.56 5.44l.94 2.06.94-2.06 2.06-.94-2.06-.94-.94-2.06-.94 2.06-2.06.94zm-11 1L8.5 8.5l.94-2.06 2.06-.94-2.06-.94L8.5 2.5l-.94 2.06-2.06.94zm10 10l.94 2.06.94-2.06 2.06-.94-2.06-.94-.94-2.06-.94 2.06-2.06.94z\"/><path d=\"M17.41 7.96l-1.37-1.37c-.4-.4-.92-.59-1.43-.59-.52 0-1.04.2-1.43.59L10.3 9.45l-7.72 7.72c-.78.78-.78 2.05 0 2.83L4 21.41c.39.39.9.59 1.41.59.51 0 1.02-.2 1.41-.59l7.78-7.78 2.81-2.81c.8-.78.8-2.07 0-2.86zM5.41 20L4 18.59l7.72-7.72 1.47 1.35L5.41 20z\"/>\n",
              "  </svg>\n",
              "      </button>\n",
              "      \n",
              "  <style>\n",
              "    .colab-df-container {\n",
              "      display:flex;\n",
              "      flex-wrap:wrap;\n",
              "      gap: 12px;\n",
              "    }\n",
              "\n",
              "    .colab-df-convert {\n",
              "      background-color: #E8F0FE;\n",
              "      border: none;\n",
              "      border-radius: 50%;\n",
              "      cursor: pointer;\n",
              "      display: none;\n",
              "      fill: #1967D2;\n",
              "      height: 32px;\n",
              "      padding: 0 0 0 0;\n",
              "      width: 32px;\n",
              "    }\n",
              "\n",
              "    .colab-df-convert:hover {\n",
              "      background-color: #E2EBFA;\n",
              "      box-shadow: 0px 1px 2px rgba(60, 64, 67, 0.3), 0px 1px 3px 1px rgba(60, 64, 67, 0.15);\n",
              "      fill: #174EA6;\n",
              "    }\n",
              "\n",
              "    [theme=dark] .colab-df-convert {\n",
              "      background-color: #3B4455;\n",
              "      fill: #D2E3FC;\n",
              "    }\n",
              "\n",
              "    [theme=dark] .colab-df-convert:hover {\n",
              "      background-color: #434B5C;\n",
              "      box-shadow: 0px 1px 3px 1px rgba(0, 0, 0, 0.15);\n",
              "      filter: drop-shadow(0px 1px 2px rgba(0, 0, 0, 0.3));\n",
              "      fill: #FFFFFF;\n",
              "    }\n",
              "  </style>\n",
              "\n",
              "      <script>\n",
              "        const buttonEl =\n",
              "          document.querySelector('#df-0ca793f0-9a59-4954-b82c-83be163b309e button.colab-df-convert');\n",
              "        buttonEl.style.display =\n",
              "          google.colab.kernel.accessAllowed ? 'block' : 'none';\n",
              "\n",
              "        async function convertToInteractive(key) {\n",
              "          const element = document.querySelector('#df-0ca793f0-9a59-4954-b82c-83be163b309e');\n",
              "          const dataTable =\n",
              "            await google.colab.kernel.invokeFunction('convertToInteractive',\n",
              "                                                     [key], {});\n",
              "          if (!dataTable) return;\n",
              "\n",
              "          const docLinkHtml = 'Like what you see? Visit the ' +\n",
              "            '<a target=\"_blank\" href=https://colab.research.google.com/notebooks/data_table.ipynb>data table notebook</a>'\n",
              "            + ' to learn more about interactive tables.';\n",
              "          element.innerHTML = '';\n",
              "          dataTable['output_type'] = 'display_data';\n",
              "          await google.colab.output.renderOutput(dataTable, element);\n",
              "          const docLink = document.createElement('div');\n",
              "          docLink.innerHTML = docLinkHtml;\n",
              "          element.appendChild(docLink);\n",
              "        }\n",
              "      </script>\n",
              "    </div>\n",
              "  </div>\n",
              "  "
            ]
          },
          "metadata": {},
          "execution_count": 10
        }
      ]
    },
    {
      "cell_type": "code",
      "source": [
        "df2"
      ],
      "metadata": {
        "colab": {
          "base_uri": "https://localhost:8080/",
          "height": 175
        },
        "id": "L36fvFCDM581",
        "outputId": "964d3bfc-b158-4934-cf51-e4f17f06df6a"
      },
      "execution_count": 11,
      "outputs": [
        {
          "output_type": "execute_result",
          "data": {
            "text/plain": [
              "  rkey  value\n",
              "0  foo      5\n",
              "1  bar      6\n",
              "2  car      7\n",
              "3  foo      8"
            ],
            "text/html": [
              "\n",
              "  <div id=\"df-143e7345-5fd0-4bb1-9758-6adac45382f6\">\n",
              "    <div class=\"colab-df-container\">\n",
              "      <div>\n",
              "<style scoped>\n",
              "    .dataframe tbody tr th:only-of-type {\n",
              "        vertical-align: middle;\n",
              "    }\n",
              "\n",
              "    .dataframe tbody tr th {\n",
              "        vertical-align: top;\n",
              "    }\n",
              "\n",
              "    .dataframe thead th {\n",
              "        text-align: right;\n",
              "    }\n",
              "</style>\n",
              "<table border=\"1\" class=\"dataframe\">\n",
              "  <thead>\n",
              "    <tr style=\"text-align: right;\">\n",
              "      <th></th>\n",
              "      <th>rkey</th>\n",
              "      <th>value</th>\n",
              "    </tr>\n",
              "  </thead>\n",
              "  <tbody>\n",
              "    <tr>\n",
              "      <th>0</th>\n",
              "      <td>foo</td>\n",
              "      <td>5</td>\n",
              "    </tr>\n",
              "    <tr>\n",
              "      <th>1</th>\n",
              "      <td>bar</td>\n",
              "      <td>6</td>\n",
              "    </tr>\n",
              "    <tr>\n",
              "      <th>2</th>\n",
              "      <td>car</td>\n",
              "      <td>7</td>\n",
              "    </tr>\n",
              "    <tr>\n",
              "      <th>3</th>\n",
              "      <td>foo</td>\n",
              "      <td>8</td>\n",
              "    </tr>\n",
              "  </tbody>\n",
              "</table>\n",
              "</div>\n",
              "      <button class=\"colab-df-convert\" onclick=\"convertToInteractive('df-143e7345-5fd0-4bb1-9758-6adac45382f6')\"\n",
              "              title=\"Convert this dataframe to an interactive table.\"\n",
              "              style=\"display:none;\">\n",
              "        \n",
              "  <svg xmlns=\"http://www.w3.org/2000/svg\" height=\"24px\"viewBox=\"0 0 24 24\"\n",
              "       width=\"24px\">\n",
              "    <path d=\"M0 0h24v24H0V0z\" fill=\"none\"/>\n",
              "    <path d=\"M18.56 5.44l.94 2.06.94-2.06 2.06-.94-2.06-.94-.94-2.06-.94 2.06-2.06.94zm-11 1L8.5 8.5l.94-2.06 2.06-.94-2.06-.94L8.5 2.5l-.94 2.06-2.06.94zm10 10l.94 2.06.94-2.06 2.06-.94-2.06-.94-.94-2.06-.94 2.06-2.06.94z\"/><path d=\"M17.41 7.96l-1.37-1.37c-.4-.4-.92-.59-1.43-.59-.52 0-1.04.2-1.43.59L10.3 9.45l-7.72 7.72c-.78.78-.78 2.05 0 2.83L4 21.41c.39.39.9.59 1.41.59.51 0 1.02-.2 1.41-.59l7.78-7.78 2.81-2.81c.8-.78.8-2.07 0-2.86zM5.41 20L4 18.59l7.72-7.72 1.47 1.35L5.41 20z\"/>\n",
              "  </svg>\n",
              "      </button>\n",
              "      \n",
              "  <style>\n",
              "    .colab-df-container {\n",
              "      display:flex;\n",
              "      flex-wrap:wrap;\n",
              "      gap: 12px;\n",
              "    }\n",
              "\n",
              "    .colab-df-convert {\n",
              "      background-color: #E8F0FE;\n",
              "      border: none;\n",
              "      border-radius: 50%;\n",
              "      cursor: pointer;\n",
              "      display: none;\n",
              "      fill: #1967D2;\n",
              "      height: 32px;\n",
              "      padding: 0 0 0 0;\n",
              "      width: 32px;\n",
              "    }\n",
              "\n",
              "    .colab-df-convert:hover {\n",
              "      background-color: #E2EBFA;\n",
              "      box-shadow: 0px 1px 2px rgba(60, 64, 67, 0.3), 0px 1px 3px 1px rgba(60, 64, 67, 0.15);\n",
              "      fill: #174EA6;\n",
              "    }\n",
              "\n",
              "    [theme=dark] .colab-df-convert {\n",
              "      background-color: #3B4455;\n",
              "      fill: #D2E3FC;\n",
              "    }\n",
              "\n",
              "    [theme=dark] .colab-df-convert:hover {\n",
              "      background-color: #434B5C;\n",
              "      box-shadow: 0px 1px 3px 1px rgba(0, 0, 0, 0.15);\n",
              "      filter: drop-shadow(0px 1px 2px rgba(0, 0, 0, 0.3));\n",
              "      fill: #FFFFFF;\n",
              "    }\n",
              "  </style>\n",
              "\n",
              "      <script>\n",
              "        const buttonEl =\n",
              "          document.querySelector('#df-143e7345-5fd0-4bb1-9758-6adac45382f6 button.colab-df-convert');\n",
              "        buttonEl.style.display =\n",
              "          google.colab.kernel.accessAllowed ? 'block' : 'none';\n",
              "\n",
              "        async function convertToInteractive(key) {\n",
              "          const element = document.querySelector('#df-143e7345-5fd0-4bb1-9758-6adac45382f6');\n",
              "          const dataTable =\n",
              "            await google.colab.kernel.invokeFunction('convertToInteractive',\n",
              "                                                     [key], {});\n",
              "          if (!dataTable) return;\n",
              "\n",
              "          const docLinkHtml = 'Like what you see? Visit the ' +\n",
              "            '<a target=\"_blank\" href=https://colab.research.google.com/notebooks/data_table.ipynb>data table notebook</a>'\n",
              "            + ' to learn more about interactive tables.';\n",
              "          element.innerHTML = '';\n",
              "          dataTable['output_type'] = 'display_data';\n",
              "          await google.colab.output.renderOutput(dataTable, element);\n",
              "          const docLink = document.createElement('div');\n",
              "          docLink.innerHTML = docLinkHtml;\n",
              "          element.appendChild(docLink);\n",
              "        }\n",
              "      </script>\n",
              "    </div>\n",
              "  </div>\n",
              "  "
            ]
          },
          "metadata": {},
          "execution_count": 11
        }
      ]
    },
    {
      "cell_type": "code",
      "source": [
        "#Associa cada elemento lkey, que possui lkey=rkey,com todos os elementos de rkey\n",
        "# (foo5,foo8,bar6,car7)()\n",
        "df1.merge(df2, left_on='lkey', right_on='rkey')"
      ],
      "metadata": {
        "colab": {
          "base_uri": "https://localhost:8080/",
          "height": 237
        },
        "id": "d9eXaDTdao6G",
        "outputId": "1676f74b-d6b0-40c2-d965-4c9bf343d390"
      },
      "execution_count": 12,
      "outputs": [
        {
          "output_type": "execute_result",
          "data": {
            "text/plain": [
              "  lkey  value_x rkey  value_y\n",
              "0  foo        1  foo        5\n",
              "1  foo        1  foo        8\n",
              "2  foo        5  foo        5\n",
              "3  foo        5  foo        8\n",
              "4  bar        2  bar        6\n",
              "5  car        3  car        7"
            ],
            "text/html": [
              "\n",
              "  <div id=\"df-bc19d7d6-85bd-4865-a4a0-11970bb2a5ed\">\n",
              "    <div class=\"colab-df-container\">\n",
              "      <div>\n",
              "<style scoped>\n",
              "    .dataframe tbody tr th:only-of-type {\n",
              "        vertical-align: middle;\n",
              "    }\n",
              "\n",
              "    .dataframe tbody tr th {\n",
              "        vertical-align: top;\n",
              "    }\n",
              "\n",
              "    .dataframe thead th {\n",
              "        text-align: right;\n",
              "    }\n",
              "</style>\n",
              "<table border=\"1\" class=\"dataframe\">\n",
              "  <thead>\n",
              "    <tr style=\"text-align: right;\">\n",
              "      <th></th>\n",
              "      <th>lkey</th>\n",
              "      <th>value_x</th>\n",
              "      <th>rkey</th>\n",
              "      <th>value_y</th>\n",
              "    </tr>\n",
              "  </thead>\n",
              "  <tbody>\n",
              "    <tr>\n",
              "      <th>0</th>\n",
              "      <td>foo</td>\n",
              "      <td>1</td>\n",
              "      <td>foo</td>\n",
              "      <td>5</td>\n",
              "    </tr>\n",
              "    <tr>\n",
              "      <th>1</th>\n",
              "      <td>foo</td>\n",
              "      <td>1</td>\n",
              "      <td>foo</td>\n",
              "      <td>8</td>\n",
              "    </tr>\n",
              "    <tr>\n",
              "      <th>2</th>\n",
              "      <td>foo</td>\n",
              "      <td>5</td>\n",
              "      <td>foo</td>\n",
              "      <td>5</td>\n",
              "    </tr>\n",
              "    <tr>\n",
              "      <th>3</th>\n",
              "      <td>foo</td>\n",
              "      <td>5</td>\n",
              "      <td>foo</td>\n",
              "      <td>8</td>\n",
              "    </tr>\n",
              "    <tr>\n",
              "      <th>4</th>\n",
              "      <td>bar</td>\n",
              "      <td>2</td>\n",
              "      <td>bar</td>\n",
              "      <td>6</td>\n",
              "    </tr>\n",
              "    <tr>\n",
              "      <th>5</th>\n",
              "      <td>car</td>\n",
              "      <td>3</td>\n",
              "      <td>car</td>\n",
              "      <td>7</td>\n",
              "    </tr>\n",
              "  </tbody>\n",
              "</table>\n",
              "</div>\n",
              "      <button class=\"colab-df-convert\" onclick=\"convertToInteractive('df-bc19d7d6-85bd-4865-a4a0-11970bb2a5ed')\"\n",
              "              title=\"Convert this dataframe to an interactive table.\"\n",
              "              style=\"display:none;\">\n",
              "        \n",
              "  <svg xmlns=\"http://www.w3.org/2000/svg\" height=\"24px\"viewBox=\"0 0 24 24\"\n",
              "       width=\"24px\">\n",
              "    <path d=\"M0 0h24v24H0V0z\" fill=\"none\"/>\n",
              "    <path d=\"M18.56 5.44l.94 2.06.94-2.06 2.06-.94-2.06-.94-.94-2.06-.94 2.06-2.06.94zm-11 1L8.5 8.5l.94-2.06 2.06-.94-2.06-.94L8.5 2.5l-.94 2.06-2.06.94zm10 10l.94 2.06.94-2.06 2.06-.94-2.06-.94-.94-2.06-.94 2.06-2.06.94z\"/><path d=\"M17.41 7.96l-1.37-1.37c-.4-.4-.92-.59-1.43-.59-.52 0-1.04.2-1.43.59L10.3 9.45l-7.72 7.72c-.78.78-.78 2.05 0 2.83L4 21.41c.39.39.9.59 1.41.59.51 0 1.02-.2 1.41-.59l7.78-7.78 2.81-2.81c.8-.78.8-2.07 0-2.86zM5.41 20L4 18.59l7.72-7.72 1.47 1.35L5.41 20z\"/>\n",
              "  </svg>\n",
              "      </button>\n",
              "      \n",
              "  <style>\n",
              "    .colab-df-container {\n",
              "      display:flex;\n",
              "      flex-wrap:wrap;\n",
              "      gap: 12px;\n",
              "    }\n",
              "\n",
              "    .colab-df-convert {\n",
              "      background-color: #E8F0FE;\n",
              "      border: none;\n",
              "      border-radius: 50%;\n",
              "      cursor: pointer;\n",
              "      display: none;\n",
              "      fill: #1967D2;\n",
              "      height: 32px;\n",
              "      padding: 0 0 0 0;\n",
              "      width: 32px;\n",
              "    }\n",
              "\n",
              "    .colab-df-convert:hover {\n",
              "      background-color: #E2EBFA;\n",
              "      box-shadow: 0px 1px 2px rgba(60, 64, 67, 0.3), 0px 1px 3px 1px rgba(60, 64, 67, 0.15);\n",
              "      fill: #174EA6;\n",
              "    }\n",
              "\n",
              "    [theme=dark] .colab-df-convert {\n",
              "      background-color: #3B4455;\n",
              "      fill: #D2E3FC;\n",
              "    }\n",
              "\n",
              "    [theme=dark] .colab-df-convert:hover {\n",
              "      background-color: #434B5C;\n",
              "      box-shadow: 0px 1px 3px 1px rgba(0, 0, 0, 0.15);\n",
              "      filter: drop-shadow(0px 1px 2px rgba(0, 0, 0, 0.3));\n",
              "      fill: #FFFFFF;\n",
              "    }\n",
              "  </style>\n",
              "\n",
              "      <script>\n",
              "        const buttonEl =\n",
              "          document.querySelector('#df-bc19d7d6-85bd-4865-a4a0-11970bb2a5ed button.colab-df-convert');\n",
              "        buttonEl.style.display =\n",
              "          google.colab.kernel.accessAllowed ? 'block' : 'none';\n",
              "\n",
              "        async function convertToInteractive(key) {\n",
              "          const element = document.querySelector('#df-bc19d7d6-85bd-4865-a4a0-11970bb2a5ed');\n",
              "          const dataTable =\n",
              "            await google.colab.kernel.invokeFunction('convertToInteractive',\n",
              "                                                     [key], {});\n",
              "          if (!dataTable) return;\n",
              "\n",
              "          const docLinkHtml = 'Like what you see? Visit the ' +\n",
              "            '<a target=\"_blank\" href=https://colab.research.google.com/notebooks/data_table.ipynb>data table notebook</a>'\n",
              "            + ' to learn more about interactive tables.';\n",
              "          element.innerHTML = '';\n",
              "          dataTable['output_type'] = 'display_data';\n",
              "          await google.colab.output.renderOutput(dataTable, element);\n",
              "          const docLink = document.createElement('div');\n",
              "          docLink.innerHTML = docLinkHtml;\n",
              "          element.appendChild(docLink);\n",
              "        }\n",
              "      </script>\n",
              "    </div>\n",
              "  </div>\n",
              "  "
            ]
          },
          "metadata": {},
          "execution_count": 12
        }
      ]
    },
    {
      "cell_type": "markdown",
      "source": [
        "![left_join.png](data:image/png;base64,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)"
      ],
      "metadata": {
        "id": "clZsAr9sf6VS"
      }
    },
    {
      "cell_type": "code",
      "source": [
        "df1.merge(df2, left_on='lkey', right_on='rkey', suffixes=('_nome_esquerdo', ': nome da direita'))"
      ],
      "metadata": {
        "colab": {
          "base_uri": "https://localhost:8080/",
          "height": 237
        },
        "id": "UG8jDmNJgA2p",
        "outputId": "5f52a3d5-16df-4471-ce1a-29e2cf2dceb1"
      },
      "execution_count": 18,
      "outputs": [
        {
          "output_type": "execute_result",
          "data": {
            "text/plain": [
              "  lkey  value_nome_esquerdo rkey  value: nome da direita\n",
              "0  foo                    1  foo                       5\n",
              "1  foo                    1  foo                       8\n",
              "2  foo                    5  foo                       5\n",
              "3  foo                    5  foo                       8\n",
              "4  bar                    2  bar                       6\n",
              "5  car                    3  car                       7"
            ],
            "text/html": [
              "\n",
              "  <div id=\"df-e9e5e728-89f2-4bcc-ba7d-0f12fcbb7414\">\n",
              "    <div class=\"colab-df-container\">\n",
              "      <div>\n",
              "<style scoped>\n",
              "    .dataframe tbody tr th:only-of-type {\n",
              "        vertical-align: middle;\n",
              "    }\n",
              "\n",
              "    .dataframe tbody tr th {\n",
              "        vertical-align: top;\n",
              "    }\n",
              "\n",
              "    .dataframe thead th {\n",
              "        text-align: right;\n",
              "    }\n",
              "</style>\n",
              "<table border=\"1\" class=\"dataframe\">\n",
              "  <thead>\n",
              "    <tr style=\"text-align: right;\">\n",
              "      <th></th>\n",
              "      <th>lkey</th>\n",
              "      <th>value_nome_esquerdo</th>\n",
              "      <th>rkey</th>\n",
              "      <th>value: nome da direita</th>\n",
              "    </tr>\n",
              "  </thead>\n",
              "  <tbody>\n",
              "    <tr>\n",
              "      <th>0</th>\n",
              "      <td>foo</td>\n",
              "      <td>1</td>\n",
              "      <td>foo</td>\n",
              "      <td>5</td>\n",
              "    </tr>\n",
              "    <tr>\n",
              "      <th>1</th>\n",
              "      <td>foo</td>\n",
              "      <td>1</td>\n",
              "      <td>foo</td>\n",
              "      <td>8</td>\n",
              "    </tr>\n",
              "    <tr>\n",
              "      <th>2</th>\n",
              "      <td>foo</td>\n",
              "      <td>5</td>\n",
              "      <td>foo</td>\n",
              "      <td>5</td>\n",
              "    </tr>\n",
              "    <tr>\n",
              "      <th>3</th>\n",
              "      <td>foo</td>\n",
              "      <td>5</td>\n",
              "      <td>foo</td>\n",
              "      <td>8</td>\n",
              "    </tr>\n",
              "    <tr>\n",
              "      <th>4</th>\n",
              "      <td>bar</td>\n",
              "      <td>2</td>\n",
              "      <td>bar</td>\n",
              "      <td>6</td>\n",
              "    </tr>\n",
              "    <tr>\n",
              "      <th>5</th>\n",
              "      <td>car</td>\n",
              "      <td>3</td>\n",
              "      <td>car</td>\n",
              "      <td>7</td>\n",
              "    </tr>\n",
              "  </tbody>\n",
              "</table>\n",
              "</div>\n",
              "      <button class=\"colab-df-convert\" onclick=\"convertToInteractive('df-e9e5e728-89f2-4bcc-ba7d-0f12fcbb7414')\"\n",
              "              title=\"Convert this dataframe to an interactive table.\"\n",
              "              style=\"display:none;\">\n",
              "        \n",
              "  <svg xmlns=\"http://www.w3.org/2000/svg\" height=\"24px\"viewBox=\"0 0 24 24\"\n",
              "       width=\"24px\">\n",
              "    <path d=\"M0 0h24v24H0V0z\" fill=\"none\"/>\n",
              "    <path d=\"M18.56 5.44l.94 2.06.94-2.06 2.06-.94-2.06-.94-.94-2.06-.94 2.06-2.06.94zm-11 1L8.5 8.5l.94-2.06 2.06-.94-2.06-.94L8.5 2.5l-.94 2.06-2.06.94zm10 10l.94 2.06.94-2.06 2.06-.94-2.06-.94-.94-2.06-.94 2.06-2.06.94z\"/><path d=\"M17.41 7.96l-1.37-1.37c-.4-.4-.92-.59-1.43-.59-.52 0-1.04.2-1.43.59L10.3 9.45l-7.72 7.72c-.78.78-.78 2.05 0 2.83L4 21.41c.39.39.9.59 1.41.59.51 0 1.02-.2 1.41-.59l7.78-7.78 2.81-2.81c.8-.78.8-2.07 0-2.86zM5.41 20L4 18.59l7.72-7.72 1.47 1.35L5.41 20z\"/>\n",
              "  </svg>\n",
              "      </button>\n",
              "      \n",
              "  <style>\n",
              "    .colab-df-container {\n",
              "      display:flex;\n",
              "      flex-wrap:wrap;\n",
              "      gap: 12px;\n",
              "    }\n",
              "\n",
              "    .colab-df-convert {\n",
              "      background-color: #E8F0FE;\n",
              "      border: none;\n",
              "      border-radius: 50%;\n",
              "      cursor: pointer;\n",
              "      display: none;\n",
              "      fill: #1967D2;\n",
              "      height: 32px;\n",
              "      padding: 0 0 0 0;\n",
              "      width: 32px;\n",
              "    }\n",
              "\n",
              "    .colab-df-convert:hover {\n",
              "      background-color: #E2EBFA;\n",
              "      box-shadow: 0px 1px 2px rgba(60, 64, 67, 0.3), 0px 1px 3px 1px rgba(60, 64, 67, 0.15);\n",
              "      fill: #174EA6;\n",
              "    }\n",
              "\n",
              "    [theme=dark] .colab-df-convert {\n",
              "      background-color: #3B4455;\n",
              "      fill: #D2E3FC;\n",
              "    }\n",
              "\n",
              "    [theme=dark] .colab-df-convert:hover {\n",
              "      background-color: #434B5C;\n",
              "      box-shadow: 0px 1px 3px 1px rgba(0, 0, 0, 0.15);\n",
              "      filter: drop-shadow(0px 1px 2px rgba(0, 0, 0, 0.3));\n",
              "      fill: #FFFFFF;\n",
              "    }\n",
              "  </style>\n",
              "\n",
              "      <script>\n",
              "        const buttonEl =\n",
              "          document.querySelector('#df-e9e5e728-89f2-4bcc-ba7d-0f12fcbb7414 button.colab-df-convert');\n",
              "        buttonEl.style.display =\n",
              "          google.colab.kernel.accessAllowed ? 'block' : 'none';\n",
              "\n",
              "        async function convertToInteractive(key) {\n",
              "          const element = document.querySelector('#df-e9e5e728-89f2-4bcc-ba7d-0f12fcbb7414');\n",
              "          const dataTable =\n",
              "            await google.colab.kernel.invokeFunction('convertToInteractive',\n",
              "                                                     [key], {});\n",
              "          if (!dataTable) return;\n",
              "\n",
              "          const docLinkHtml = 'Like what you see? Visit the ' +\n",
              "            '<a target=\"_blank\" href=https://colab.research.google.com/notebooks/data_table.ipynb>data table notebook</a>'\n",
              "            + ' to learn more about interactive tables.';\n",
              "          element.innerHTML = '';\n",
              "          dataTable['output_type'] = 'display_data';\n",
              "          await google.colab.output.renderOutput(dataTable, element);\n",
              "          const docLink = document.createElement('div');\n",
              "          docLink.innerHTML = docLinkHtml;\n",
              "          element.appendChild(docLink);\n",
              "        }\n",
              "      </script>\n",
              "    </div>\n",
              "  </div>\n",
              "  "
            ]
          },
          "metadata": {},
          "execution_count": 18
        }
      ]
    },
    {
      "cell_type": "code",
      "source": [
        "# Mesclar DataFrames df1 e df2, mas gerar uma exceção se os DataFrames tiverem colunas sobrepostas\n",
        "# ValueError: columns overlap but no suffix specified: Index(['value'], dtype='object')\n",
        "df1.merge(df2, left_on='lkey', right_on='rkey', suffixes=(False, False))"
      ],
      "metadata": {
        "colab": {
          "base_uri": "https://localhost:8080/",
          "height": 327
        },
        "id": "Clf03dNmao8_",
        "outputId": "6bb2ade6-1ab8-47f4-9dca-6711be1462c6"
      },
      "execution_count": 19,
      "outputs": [
        {
          "output_type": "error",
          "ename": "ValueError",
          "evalue": "ignored",
          "traceback": [
            "\u001b[0;31m---------------------------------------------------------------------------\u001b[0m",
            "\u001b[0;31mValueError\u001b[0m                                Traceback (most recent call last)",
            "\u001b[0;32m<ipython-input-19-1bfc63fbb80b>\u001b[0m in \u001b[0;36m<cell line: 2>\u001b[0;34m()\u001b[0m\n\u001b[1;32m      1\u001b[0m \u001b[0;31m# Mesclar DataFrames df1 e df2, mas gerar uma exceção se os DataFrames tiverem colunas sobrepostas\u001b[0m\u001b[0;34m\u001b[0m\u001b[0;34m\u001b[0m\u001b[0m\n\u001b[0;32m----> 2\u001b[0;31m \u001b[0mdf1\u001b[0m\u001b[0;34m.\u001b[0m\u001b[0mmerge\u001b[0m\u001b[0;34m(\u001b[0m\u001b[0mdf2\u001b[0m\u001b[0;34m,\u001b[0m \u001b[0mleft_on\u001b[0m\u001b[0;34m=\u001b[0m\u001b[0;34m'lkey'\u001b[0m\u001b[0;34m,\u001b[0m \u001b[0mright_on\u001b[0m\u001b[0;34m=\u001b[0m\u001b[0;34m'rkey'\u001b[0m\u001b[0;34m,\u001b[0m \u001b[0msuffixes\u001b[0m\u001b[0;34m=\u001b[0m\u001b[0;34m(\u001b[0m\u001b[0;32mFalse\u001b[0m\u001b[0;34m,\u001b[0m \u001b[0;32mFalse\u001b[0m\u001b[0;34m)\u001b[0m\u001b[0;34m)\u001b[0m\u001b[0;34m\u001b[0m\u001b[0;34m\u001b[0m\u001b[0m\n\u001b[0m",
            "\u001b[0;32m/usr/local/lib/python3.10/dist-packages/pandas/core/frame.py\u001b[0m in \u001b[0;36mmerge\u001b[0;34m(self, right, how, on, left_on, right_on, left_index, right_index, sort, suffixes, copy, indicator, validate)\u001b[0m\n\u001b[1;32m  10091\u001b[0m         \u001b[0;32mfrom\u001b[0m \u001b[0mpandas\u001b[0m\u001b[0;34m.\u001b[0m\u001b[0mcore\u001b[0m\u001b[0;34m.\u001b[0m\u001b[0mreshape\u001b[0m\u001b[0;34m.\u001b[0m\u001b[0mmerge\u001b[0m \u001b[0;32mimport\u001b[0m \u001b[0mmerge\u001b[0m\u001b[0;34m\u001b[0m\u001b[0;34m\u001b[0m\u001b[0m\n\u001b[1;32m  10092\u001b[0m \u001b[0;34m\u001b[0m\u001b[0m\n\u001b[0;32m> 10093\u001b[0;31m         return merge(\n\u001b[0m\u001b[1;32m  10094\u001b[0m             \u001b[0mself\u001b[0m\u001b[0;34m,\u001b[0m\u001b[0;34m\u001b[0m\u001b[0;34m\u001b[0m\u001b[0m\n\u001b[1;32m  10095\u001b[0m             \u001b[0mright\u001b[0m\u001b[0;34m,\u001b[0m\u001b[0;34m\u001b[0m\u001b[0;34m\u001b[0m\u001b[0m\n",
            "\u001b[0;32m/usr/local/lib/python3.10/dist-packages/pandas/core/reshape/merge.py\u001b[0m in \u001b[0;36mmerge\u001b[0;34m(left, right, how, on, left_on, right_on, left_index, right_index, sort, suffixes, copy, indicator, validate)\u001b[0m\n\u001b[1;32m    122\u001b[0m         \u001b[0mvalidate\u001b[0m\u001b[0;34m=\u001b[0m\u001b[0mvalidate\u001b[0m\u001b[0;34m,\u001b[0m\u001b[0;34m\u001b[0m\u001b[0;34m\u001b[0m\u001b[0m\n\u001b[1;32m    123\u001b[0m     )\n\u001b[0;32m--> 124\u001b[0;31m     \u001b[0;32mreturn\u001b[0m \u001b[0mop\u001b[0m\u001b[0;34m.\u001b[0m\u001b[0mget_result\u001b[0m\u001b[0;34m(\u001b[0m\u001b[0mcopy\u001b[0m\u001b[0;34m=\u001b[0m\u001b[0mcopy\u001b[0m\u001b[0;34m)\u001b[0m\u001b[0;34m\u001b[0m\u001b[0;34m\u001b[0m\u001b[0m\n\u001b[0m\u001b[1;32m    125\u001b[0m \u001b[0;34m\u001b[0m\u001b[0m\n\u001b[1;32m    126\u001b[0m \u001b[0;34m\u001b[0m\u001b[0m\n",
            "\u001b[0;32m/usr/local/lib/python3.10/dist-packages/pandas/core/reshape/merge.py\u001b[0m in \u001b[0;36mget_result\u001b[0;34m(self, copy)\u001b[0m\n\u001b[1;32m    773\u001b[0m         \u001b[0mjoin_index\u001b[0m\u001b[0;34m,\u001b[0m \u001b[0mleft_indexer\u001b[0m\u001b[0;34m,\u001b[0m \u001b[0mright_indexer\u001b[0m \u001b[0;34m=\u001b[0m \u001b[0mself\u001b[0m\u001b[0;34m.\u001b[0m\u001b[0m_get_join_info\u001b[0m\u001b[0;34m(\u001b[0m\u001b[0;34m)\u001b[0m\u001b[0;34m\u001b[0m\u001b[0;34m\u001b[0m\u001b[0m\n\u001b[1;32m    774\u001b[0m \u001b[0;34m\u001b[0m\u001b[0m\n\u001b[0;32m--> 775\u001b[0;31m         result = self._reindex_and_concat(\n\u001b[0m\u001b[1;32m    776\u001b[0m             \u001b[0mjoin_index\u001b[0m\u001b[0;34m,\u001b[0m \u001b[0mleft_indexer\u001b[0m\u001b[0;34m,\u001b[0m \u001b[0mright_indexer\u001b[0m\u001b[0;34m,\u001b[0m \u001b[0mcopy\u001b[0m\u001b[0;34m=\u001b[0m\u001b[0mcopy\u001b[0m\u001b[0;34m\u001b[0m\u001b[0;34m\u001b[0m\u001b[0m\n\u001b[1;32m    777\u001b[0m         )\n",
            "\u001b[0;32m/usr/local/lib/python3.10/dist-packages/pandas/core/reshape/merge.py\u001b[0m in \u001b[0;36m_reindex_and_concat\u001b[0;34m(self, join_index, left_indexer, right_indexer, copy)\u001b[0m\n\u001b[1;32m    727\u001b[0m         \u001b[0mright\u001b[0m \u001b[0;34m=\u001b[0m \u001b[0mself\u001b[0m\u001b[0;34m.\u001b[0m\u001b[0mright\u001b[0m\u001b[0;34m[\u001b[0m\u001b[0;34m:\u001b[0m\u001b[0;34m]\u001b[0m\u001b[0;34m\u001b[0m\u001b[0;34m\u001b[0m\u001b[0m\n\u001b[1;32m    728\u001b[0m \u001b[0;34m\u001b[0m\u001b[0m\n\u001b[0;32m--> 729\u001b[0;31m         llabels, rlabels = _items_overlap_with_suffix(\n\u001b[0m\u001b[1;32m    730\u001b[0m             \u001b[0mself\u001b[0m\u001b[0;34m.\u001b[0m\u001b[0mleft\u001b[0m\u001b[0;34m.\u001b[0m\u001b[0m_info_axis\u001b[0m\u001b[0;34m,\u001b[0m \u001b[0mself\u001b[0m\u001b[0;34m.\u001b[0m\u001b[0mright\u001b[0m\u001b[0;34m.\u001b[0m\u001b[0m_info_axis\u001b[0m\u001b[0;34m,\u001b[0m \u001b[0mself\u001b[0m\u001b[0;34m.\u001b[0m\u001b[0msuffixes\u001b[0m\u001b[0;34m\u001b[0m\u001b[0;34m\u001b[0m\u001b[0m\n\u001b[1;32m    731\u001b[0m         )\n",
            "\u001b[0;32m/usr/local/lib/python3.10/dist-packages/pandas/core/reshape/merge.py\u001b[0m in \u001b[0;36m_items_overlap_with_suffix\u001b[0;34m(left, right, suffixes)\u001b[0m\n\u001b[1;32m   2456\u001b[0m \u001b[0;34m\u001b[0m\u001b[0m\n\u001b[1;32m   2457\u001b[0m     \u001b[0;32mif\u001b[0m \u001b[0;32mnot\u001b[0m \u001b[0mlsuffix\u001b[0m \u001b[0;32mand\u001b[0m \u001b[0;32mnot\u001b[0m \u001b[0mrsuffix\u001b[0m\u001b[0;34m:\u001b[0m\u001b[0;34m\u001b[0m\u001b[0;34m\u001b[0m\u001b[0m\n\u001b[0;32m-> 2458\u001b[0;31m         \u001b[0;32mraise\u001b[0m \u001b[0mValueError\u001b[0m\u001b[0;34m(\u001b[0m\u001b[0;34mf\"columns overlap but no suffix specified: {to_rename}\"\u001b[0m\u001b[0;34m)\u001b[0m\u001b[0;34m\u001b[0m\u001b[0;34m\u001b[0m\u001b[0m\n\u001b[0m\u001b[1;32m   2459\u001b[0m \u001b[0;34m\u001b[0m\u001b[0m\n\u001b[1;32m   2460\u001b[0m     \u001b[0;32mdef\u001b[0m \u001b[0mrenamer\u001b[0m\u001b[0;34m(\u001b[0m\u001b[0mx\u001b[0m\u001b[0;34m,\u001b[0m \u001b[0msuffix\u001b[0m\u001b[0;34m)\u001b[0m\u001b[0;34m:\u001b[0m\u001b[0;34m\u001b[0m\u001b[0;34m\u001b[0m\u001b[0m\n",
            "\u001b[0;31mValueError\u001b[0m: columns overlap but no suffix specified: Index(['value'], dtype='object')"
          ]
        }
      ]
    },
    {
      "cell_type": "code",
      "source": [
        "df1 = pd.DataFrame({'a': ['foo', 'bar'], 'b': [1, 2]})\n",
        "df2 = pd.DataFrame({'a': ['foo', 'baz'], 'c': [3, 4]})\n",
        "df1"
      ],
      "metadata": {
        "colab": {
          "base_uri": "https://localhost:8080/",
          "height": 112
        },
        "id": "AeogDrPmao_u",
        "outputId": "ba57102e-2da9-4e6e-ee53-0c03d1850e74"
      },
      "execution_count": 20,
      "outputs": [
        {
          "output_type": "execute_result",
          "data": {
            "text/plain": [
              "     a  b\n",
              "0  foo  1\n",
              "1  bar  2"
            ],
            "text/html": [
              "\n",
              "  <div id=\"df-4284775a-d7ac-4838-a4b7-685bd8745615\">\n",
              "    <div class=\"colab-df-container\">\n",
              "      <div>\n",
              "<style scoped>\n",
              "    .dataframe tbody tr th:only-of-type {\n",
              "        vertical-align: middle;\n",
              "    }\n",
              "\n",
              "    .dataframe tbody tr th {\n",
              "        vertical-align: top;\n",
              "    }\n",
              "\n",
              "    .dataframe thead th {\n",
              "        text-align: right;\n",
              "    }\n",
              "</style>\n",
              "<table border=\"1\" class=\"dataframe\">\n",
              "  <thead>\n",
              "    <tr style=\"text-align: right;\">\n",
              "      <th></th>\n",
              "      <th>a</th>\n",
              "      <th>b</th>\n",
              "    </tr>\n",
              "  </thead>\n",
              "  <tbody>\n",
              "    <tr>\n",
              "      <th>0</th>\n",
              "      <td>foo</td>\n",
              "      <td>1</td>\n",
              "    </tr>\n",
              "    <tr>\n",
              "      <th>1</th>\n",
              "      <td>bar</td>\n",
              "      <td>2</td>\n",
              "    </tr>\n",
              "  </tbody>\n",
              "</table>\n",
              "</div>\n",
              "      <button class=\"colab-df-convert\" onclick=\"convertToInteractive('df-4284775a-d7ac-4838-a4b7-685bd8745615')\"\n",
              "              title=\"Convert this dataframe to an interactive table.\"\n",
              "              style=\"display:none;\">\n",
              "        \n",
              "  <svg xmlns=\"http://www.w3.org/2000/svg\" height=\"24px\"viewBox=\"0 0 24 24\"\n",
              "       width=\"24px\">\n",
              "    <path d=\"M0 0h24v24H0V0z\" fill=\"none\"/>\n",
              "    <path d=\"M18.56 5.44l.94 2.06.94-2.06 2.06-.94-2.06-.94-.94-2.06-.94 2.06-2.06.94zm-11 1L8.5 8.5l.94-2.06 2.06-.94-2.06-.94L8.5 2.5l-.94 2.06-2.06.94zm10 10l.94 2.06.94-2.06 2.06-.94-2.06-.94-.94-2.06-.94 2.06-2.06.94z\"/><path d=\"M17.41 7.96l-1.37-1.37c-.4-.4-.92-.59-1.43-.59-.52 0-1.04.2-1.43.59L10.3 9.45l-7.72 7.72c-.78.78-.78 2.05 0 2.83L4 21.41c.39.39.9.59 1.41.59.51 0 1.02-.2 1.41-.59l7.78-7.78 2.81-2.81c.8-.78.8-2.07 0-2.86zM5.41 20L4 18.59l7.72-7.72 1.47 1.35L5.41 20z\"/>\n",
              "  </svg>\n",
              "      </button>\n",
              "      \n",
              "  <style>\n",
              "    .colab-df-container {\n",
              "      display:flex;\n",
              "      flex-wrap:wrap;\n",
              "      gap: 12px;\n",
              "    }\n",
              "\n",
              "    .colab-df-convert {\n",
              "      background-color: #E8F0FE;\n",
              "      border: none;\n",
              "      border-radius: 50%;\n",
              "      cursor: pointer;\n",
              "      display: none;\n",
              "      fill: #1967D2;\n",
              "      height: 32px;\n",
              "      padding: 0 0 0 0;\n",
              "      width: 32px;\n",
              "    }\n",
              "\n",
              "    .colab-df-convert:hover {\n",
              "      background-color: #E2EBFA;\n",
              "      box-shadow: 0px 1px 2px rgba(60, 64, 67, 0.3), 0px 1px 3px 1px rgba(60, 64, 67, 0.15);\n",
              "      fill: #174EA6;\n",
              "    }\n",
              "\n",
              "    [theme=dark] .colab-df-convert {\n",
              "      background-color: #3B4455;\n",
              "      fill: #D2E3FC;\n",
              "    }\n",
              "\n",
              "    [theme=dark] .colab-df-convert:hover {\n",
              "      background-color: #434B5C;\n",
              "      box-shadow: 0px 1px 3px 1px rgba(0, 0, 0, 0.15);\n",
              "      filter: drop-shadow(0px 1px 2px rgba(0, 0, 0, 0.3));\n",
              "      fill: #FFFFFF;\n",
              "    }\n",
              "  </style>\n",
              "\n",
              "      <script>\n",
              "        const buttonEl =\n",
              "          document.querySelector('#df-4284775a-d7ac-4838-a4b7-685bd8745615 button.colab-df-convert');\n",
              "        buttonEl.style.display =\n",
              "          google.colab.kernel.accessAllowed ? 'block' : 'none';\n",
              "\n",
              "        async function convertToInteractive(key) {\n",
              "          const element = document.querySelector('#df-4284775a-d7ac-4838-a4b7-685bd8745615');\n",
              "          const dataTable =\n",
              "            await google.colab.kernel.invokeFunction('convertToInteractive',\n",
              "                                                     [key], {});\n",
              "          if (!dataTable) return;\n",
              "\n",
              "          const docLinkHtml = 'Like what you see? Visit the ' +\n",
              "            '<a target=\"_blank\" href=https://colab.research.google.com/notebooks/data_table.ipynb>data table notebook</a>'\n",
              "            + ' to learn more about interactive tables.';\n",
              "          element.innerHTML = '';\n",
              "          dataTable['output_type'] = 'display_data';\n",
              "          await google.colab.output.renderOutput(dataTable, element);\n",
              "          const docLink = document.createElement('div');\n",
              "          docLink.innerHTML = docLinkHtml;\n",
              "          element.appendChild(docLink);\n",
              "        }\n",
              "      </script>\n",
              "    </div>\n",
              "  </div>\n",
              "  "
            ]
          },
          "metadata": {},
          "execution_count": 20
        }
      ]
    },
    {
      "cell_type": "code",
      "source": [
        "df2"
      ],
      "metadata": {
        "colab": {
          "base_uri": "https://localhost:8080/",
          "height": 112
        },
        "id": "gnJUsPUWapCa",
        "outputId": "3f09065b-d77a-4e6c-dac6-939f0892f5b6"
      },
      "execution_count": 21,
      "outputs": [
        {
          "output_type": "execute_result",
          "data": {
            "text/plain": [
              "     a  c\n",
              "0  foo  3\n",
              "1  baz  4"
            ],
            "text/html": [
              "\n",
              "  <div id=\"df-e6e87266-3260-4cfb-8040-c2e361835b51\">\n",
              "    <div class=\"colab-df-container\">\n",
              "      <div>\n",
              "<style scoped>\n",
              "    .dataframe tbody tr th:only-of-type {\n",
              "        vertical-align: middle;\n",
              "    }\n",
              "\n",
              "    .dataframe tbody tr th {\n",
              "        vertical-align: top;\n",
              "    }\n",
              "\n",
              "    .dataframe thead th {\n",
              "        text-align: right;\n",
              "    }\n",
              "</style>\n",
              "<table border=\"1\" class=\"dataframe\">\n",
              "  <thead>\n",
              "    <tr style=\"text-align: right;\">\n",
              "      <th></th>\n",
              "      <th>a</th>\n",
              "      <th>c</th>\n",
              "    </tr>\n",
              "  </thead>\n",
              "  <tbody>\n",
              "    <tr>\n",
              "      <th>0</th>\n",
              "      <td>foo</td>\n",
              "      <td>3</td>\n",
              "    </tr>\n",
              "    <tr>\n",
              "      <th>1</th>\n",
              "      <td>baz</td>\n",
              "      <td>4</td>\n",
              "    </tr>\n",
              "  </tbody>\n",
              "</table>\n",
              "</div>\n",
              "      <button class=\"colab-df-convert\" onclick=\"convertToInteractive('df-e6e87266-3260-4cfb-8040-c2e361835b51')\"\n",
              "              title=\"Convert this dataframe to an interactive table.\"\n",
              "              style=\"display:none;\">\n",
              "        \n",
              "  <svg xmlns=\"http://www.w3.org/2000/svg\" height=\"24px\"viewBox=\"0 0 24 24\"\n",
              "       width=\"24px\">\n",
              "    <path d=\"M0 0h24v24H0V0z\" fill=\"none\"/>\n",
              "    <path d=\"M18.56 5.44l.94 2.06.94-2.06 2.06-.94-2.06-.94-.94-2.06-.94 2.06-2.06.94zm-11 1L8.5 8.5l.94-2.06 2.06-.94-2.06-.94L8.5 2.5l-.94 2.06-2.06.94zm10 10l.94 2.06.94-2.06 2.06-.94-2.06-.94-.94-2.06-.94 2.06-2.06.94z\"/><path d=\"M17.41 7.96l-1.37-1.37c-.4-.4-.92-.59-1.43-.59-.52 0-1.04.2-1.43.59L10.3 9.45l-7.72 7.72c-.78.78-.78 2.05 0 2.83L4 21.41c.39.39.9.59 1.41.59.51 0 1.02-.2 1.41-.59l7.78-7.78 2.81-2.81c.8-.78.8-2.07 0-2.86zM5.41 20L4 18.59l7.72-7.72 1.47 1.35L5.41 20z\"/>\n",
              "  </svg>\n",
              "      </button>\n",
              "      \n",
              "  <style>\n",
              "    .colab-df-container {\n",
              "      display:flex;\n",
              "      flex-wrap:wrap;\n",
              "      gap: 12px;\n",
              "    }\n",
              "\n",
              "    .colab-df-convert {\n",
              "      background-color: #E8F0FE;\n",
              "      border: none;\n",
              "      border-radius: 50%;\n",
              "      cursor: pointer;\n",
              "      display: none;\n",
              "      fill: #1967D2;\n",
              "      height: 32px;\n",
              "      padding: 0 0 0 0;\n",
              "      width: 32px;\n",
              "    }\n",
              "\n",
              "    .colab-df-convert:hover {\n",
              "      background-color: #E2EBFA;\n",
              "      box-shadow: 0px 1px 2px rgba(60, 64, 67, 0.3), 0px 1px 3px 1px rgba(60, 64, 67, 0.15);\n",
              "      fill: #174EA6;\n",
              "    }\n",
              "\n",
              "    [theme=dark] .colab-df-convert {\n",
              "      background-color: #3B4455;\n",
              "      fill: #D2E3FC;\n",
              "    }\n",
              "\n",
              "    [theme=dark] .colab-df-convert:hover {\n",
              "      background-color: #434B5C;\n",
              "      box-shadow: 0px 1px 3px 1px rgba(0, 0, 0, 0.15);\n",
              "      filter: drop-shadow(0px 1px 2px rgba(0, 0, 0, 0.3));\n",
              "      fill: #FFFFFF;\n",
              "    }\n",
              "  </style>\n",
              "\n",
              "      <script>\n",
              "        const buttonEl =\n",
              "          document.querySelector('#df-e6e87266-3260-4cfb-8040-c2e361835b51 button.colab-df-convert');\n",
              "        buttonEl.style.display =\n",
              "          google.colab.kernel.accessAllowed ? 'block' : 'none';\n",
              "\n",
              "        async function convertToInteractive(key) {\n",
              "          const element = document.querySelector('#df-e6e87266-3260-4cfb-8040-c2e361835b51');\n",
              "          const dataTable =\n",
              "            await google.colab.kernel.invokeFunction('convertToInteractive',\n",
              "                                                     [key], {});\n",
              "          if (!dataTable) return;\n",
              "\n",
              "          const docLinkHtml = 'Like what you see? Visit the ' +\n",
              "            '<a target=\"_blank\" href=https://colab.research.google.com/notebooks/data_table.ipynb>data table notebook</a>'\n",
              "            + ' to learn more about interactive tables.';\n",
              "          element.innerHTML = '';\n",
              "          dataTable['output_type'] = 'display_data';\n",
              "          await google.colab.output.renderOutput(dataTable, element);\n",
              "          const docLink = document.createElement('div');\n",
              "          docLink.innerHTML = docLinkHtml;\n",
              "          element.appendChild(docLink);\n",
              "        }\n",
              "      </script>\n",
              "    </div>\n",
              "  </div>\n",
              "  "
            ]
          },
          "metadata": {},
          "execution_count": 21
        }
      ]
    },
    {
      "cell_type": "code",
      "source": [
        "df1.merge(df2, how='inner', on='a')"
      ],
      "metadata": {
        "colab": {
          "base_uri": "https://localhost:8080/",
          "height": 81
        },
        "id": "vxS6lLngapQT",
        "outputId": "c91d8c02-bc7d-4e57-b900-5926cc3f18f2"
      },
      "execution_count": 22,
      "outputs": [
        {
          "output_type": "execute_result",
          "data": {
            "text/plain": [
              "     a  b  c\n",
              "0  foo  1  3"
            ],
            "text/html": [
              "\n",
              "  <div id=\"df-02104d31-267a-4388-aa36-cee11d9d228d\">\n",
              "    <div class=\"colab-df-container\">\n",
              "      <div>\n",
              "<style scoped>\n",
              "    .dataframe tbody tr th:only-of-type {\n",
              "        vertical-align: middle;\n",
              "    }\n",
              "\n",
              "    .dataframe tbody tr th {\n",
              "        vertical-align: top;\n",
              "    }\n",
              "\n",
              "    .dataframe thead th {\n",
              "        text-align: right;\n",
              "    }\n",
              "</style>\n",
              "<table border=\"1\" class=\"dataframe\">\n",
              "  <thead>\n",
              "    <tr style=\"text-align: right;\">\n",
              "      <th></th>\n",
              "      <th>a</th>\n",
              "      <th>b</th>\n",
              "      <th>c</th>\n",
              "    </tr>\n",
              "  </thead>\n",
              "  <tbody>\n",
              "    <tr>\n",
              "      <th>0</th>\n",
              "      <td>foo</td>\n",
              "      <td>1</td>\n",
              "      <td>3</td>\n",
              "    </tr>\n",
              "  </tbody>\n",
              "</table>\n",
              "</div>\n",
              "      <button class=\"colab-df-convert\" onclick=\"convertToInteractive('df-02104d31-267a-4388-aa36-cee11d9d228d')\"\n",
              "              title=\"Convert this dataframe to an interactive table.\"\n",
              "              style=\"display:none;\">\n",
              "        \n",
              "  <svg xmlns=\"http://www.w3.org/2000/svg\" height=\"24px\"viewBox=\"0 0 24 24\"\n",
              "       width=\"24px\">\n",
              "    <path d=\"M0 0h24v24H0V0z\" fill=\"none\"/>\n",
              "    <path d=\"M18.56 5.44l.94 2.06.94-2.06 2.06-.94-2.06-.94-.94-2.06-.94 2.06-2.06.94zm-11 1L8.5 8.5l.94-2.06 2.06-.94-2.06-.94L8.5 2.5l-.94 2.06-2.06.94zm10 10l.94 2.06.94-2.06 2.06-.94-2.06-.94-.94-2.06-.94 2.06-2.06.94z\"/><path d=\"M17.41 7.96l-1.37-1.37c-.4-.4-.92-.59-1.43-.59-.52 0-1.04.2-1.43.59L10.3 9.45l-7.72 7.72c-.78.78-.78 2.05 0 2.83L4 21.41c.39.39.9.59 1.41.59.51 0 1.02-.2 1.41-.59l7.78-7.78 2.81-2.81c.8-.78.8-2.07 0-2.86zM5.41 20L4 18.59l7.72-7.72 1.47 1.35L5.41 20z\"/>\n",
              "  </svg>\n",
              "      </button>\n",
              "      \n",
              "  <style>\n",
              "    .colab-df-container {\n",
              "      display:flex;\n",
              "      flex-wrap:wrap;\n",
              "      gap: 12px;\n",
              "    }\n",
              "\n",
              "    .colab-df-convert {\n",
              "      background-color: #E8F0FE;\n",
              "      border: none;\n",
              "      border-radius: 50%;\n",
              "      cursor: pointer;\n",
              "      display: none;\n",
              "      fill: #1967D2;\n",
              "      height: 32px;\n",
              "      padding: 0 0 0 0;\n",
              "      width: 32px;\n",
              "    }\n",
              "\n",
              "    .colab-df-convert:hover {\n",
              "      background-color: #E2EBFA;\n",
              "      box-shadow: 0px 1px 2px rgba(60, 64, 67, 0.3), 0px 1px 3px 1px rgba(60, 64, 67, 0.15);\n",
              "      fill: #174EA6;\n",
              "    }\n",
              "\n",
              "    [theme=dark] .colab-df-convert {\n",
              "      background-color: #3B4455;\n",
              "      fill: #D2E3FC;\n",
              "    }\n",
              "\n",
              "    [theme=dark] .colab-df-convert:hover {\n",
              "      background-color: #434B5C;\n",
              "      box-shadow: 0px 1px 3px 1px rgba(0, 0, 0, 0.15);\n",
              "      filter: drop-shadow(0px 1px 2px rgba(0, 0, 0, 0.3));\n",
              "      fill: #FFFFFF;\n",
              "    }\n",
              "  </style>\n",
              "\n",
              "      <script>\n",
              "        const buttonEl =\n",
              "          document.querySelector('#df-02104d31-267a-4388-aa36-cee11d9d228d button.colab-df-convert');\n",
              "        buttonEl.style.display =\n",
              "          google.colab.kernel.accessAllowed ? 'block' : 'none';\n",
              "\n",
              "        async function convertToInteractive(key) {\n",
              "          const element = document.querySelector('#df-02104d31-267a-4388-aa36-cee11d9d228d');\n",
              "          const dataTable =\n",
              "            await google.colab.kernel.invokeFunction('convertToInteractive',\n",
              "                                                     [key], {});\n",
              "          if (!dataTable) return;\n",
              "\n",
              "          const docLinkHtml = 'Like what you see? Visit the ' +\n",
              "            '<a target=\"_blank\" href=https://colab.research.google.com/notebooks/data_table.ipynb>data table notebook</a>'\n",
              "            + ' to learn more about interactive tables.';\n",
              "          element.innerHTML = '';\n",
              "          dataTable['output_type'] = 'display_data';\n",
              "          await google.colab.output.renderOutput(dataTable, element);\n",
              "          const docLink = document.createElement('div');\n",
              "          docLink.innerHTML = docLinkHtml;\n",
              "          element.appendChild(docLink);\n",
              "        }\n",
              "      </script>\n",
              "    </div>\n",
              "  </div>\n",
              "  "
            ]
          },
          "metadata": {},
          "execution_count": 22
        }
      ]
    },
    {
      "cell_type": "markdown",
      "source": [],
      "metadata": {
        "id": "iF-_rJU-f3z0"
      }
    },
    {
      "cell_type": "code",
      "source": [],
      "metadata": {
        "id": "LgRzgwGMapTp"
      },
      "execution_count": null,
      "outputs": []
    },
    {
      "cell_type": "markdown",
      "source": [
        "# Função Lambda\n"
      ],
      "metadata": {
        "id": "8S_JQT40smuL"
      }
    },
    {
      "cell_type": "markdown",
      "source": [
        "Funções lambda são funções que são declaradas como variáveis, além disso, são funções que são descritas em apenas uma linha e funcionam como se houvesse a instrução return antes do comando."
      ],
      "metadata": {
        "id": "w306ycekajrQ"
      }
    },
    {
      "cell_type": "code",
      "source": [
        "def soma(numero1, numero2):\n",
        "    return numero1 + numero2"
      ],
      "metadata": {
        "id": "f76xrXZQaVnm"
      },
      "execution_count": null,
      "outputs": []
    },
    {
      "cell_type": "code",
      "source": [
        "soma_lambda = lambda numero1, numero2: numero1 + numero2"
      ],
      "metadata": {
        "id": "m0MmtulScUBh"
      },
      "execution_count": null,
      "outputs": []
    },
    {
      "cell_type": "code",
      "source": [
        "print(soma(3,4))"
      ],
      "metadata": {
        "id": "Q6vIEPsugEYK",
        "colab": {
          "base_uri": "https://localhost:8080/"
        },
        "outputId": "20466e05-2288-42c3-a1a3-1b0ec92f0974"
      },
      "execution_count": null,
      "outputs": [
        {
          "output_type": "stream",
          "name": "stdout",
          "text": [
            "7\n"
          ]
        }
      ]
    },
    {
      "cell_type": "code",
      "source": [
        "print(soma_lambda(3,4))"
      ],
      "metadata": {
        "id": "6ncU97xJgMyF",
        "colab": {
          "base_uri": "https://localhost:8080/"
        },
        "outputId": "4abf2a31-3d4d-42e8-840e-19d3609372f4"
      },
      "execution_count": null,
      "outputs": [
        {
          "output_type": "stream",
          "name": "stdout",
          "text": [
            "7\n"
          ]
        }
      ]
    },
    {
      "cell_type": "markdown",
      "source": [
        "Assim como uma função comum, é possível ter função lambda sem parâmetro."
      ],
      "metadata": {
        "id": "woT8yloLgboH"
      }
    },
    {
      "cell_type": "code",
      "source": [
        "obter_valor = lambda: 3 + 2"
      ],
      "metadata": {
        "id": "6rYrPNf_h5TH"
      },
      "execution_count": null,
      "outputs": []
    },
    {
      "cell_type": "code",
      "source": [
        "def obter_valor():\n",
        "    return 3 + 2"
      ],
      "metadata": {
        "id": "qRekn4ukgj9c"
      },
      "execution_count": null,
      "outputs": []
    },
    {
      "cell_type": "code",
      "source": [
        "print(obter_valor())"
      ],
      "metadata": {
        "id": "bDU9oDhah8vY",
        "colab": {
          "base_uri": "https://localhost:8080/"
        },
        "outputId": "d85937c9-54ff-4d20-ef9e-2703726f612e"
      },
      "execution_count": null,
      "outputs": [
        {
          "output_type": "stream",
          "name": "stdout",
          "text": [
            "5\n"
          ]
        }
      ]
    },
    {
      "cell_type": "markdown",
      "source": [
        "As funções lambdas são mais utilizadas em funções que utilizam outras funções como parâmetros."
      ],
      "metadata": {
        "id": "ZgxxGpFeiqcE"
      }
    },
    {
      "cell_type": "markdown",
      "source": [
        "* Exemplo 1: Suponha que dada uma lista de números, eu quero selecionar os números pares desta lista. Há duas maneiras de fazer isso:"
      ],
      "metadata": {
        "id": "zm7iI4WDi7Jd"
      }
    },
    {
      "cell_type": "code",
      "source": [
        "numeros = [0,2,3,4,5,7]\n",
        "def is_par(lista):\n",
        "    pares = []\n",
        "    for numero in lista:\n",
        "        if numero % 2 == 0:\n",
        "            pares.append(numero)\n",
        "\n",
        "    # Exibe os números\n",
        "    for par in pares:\n",
        "        print(par)\n",
        "\n",
        "is_par([2,5,7,8])"
      ],
      "metadata": {
        "id": "3Y4THtOejJZd",
        "colab": {
          "base_uri": "https://localhost:8080/"
        },
        "outputId": "ca5c63aa-b8b1-448c-fd59-0538c209d991"
      },
      "execution_count": null,
      "outputs": [
        {
          "output_type": "stream",
          "name": "stdout",
          "text": [
            "2\n",
            "8\n"
          ]
        }
      ]
    },
    {
      "cell_type": "code",
      "source": [
        "numeros = [0,2,3,4,5,7]\n",
        "pares = filter(lambda valor: valor % 2 == 0, numeros)\n",
        "\n",
        "for par in pares:\n",
        "    print(par)\n"
      ],
      "metadata": {
        "id": "gg_1oXfPjlwG",
        "colab": {
          "base_uri": "https://localhost:8080/"
        },
        "outputId": "94ab926b-200e-48cf-cdda-40f20abadb87"
      },
      "execution_count": null,
      "outputs": [
        {
          "output_type": "stream",
          "name": "stdout",
          "text": [
            "0\n",
            "2\n",
            "4\n"
          ]
        }
      ]
    },
    {
      "cell_type": "markdown",
      "source": [
        "Na segunda maneira de resolver o exemplo foi usada a função `filter`. Esta função recebe dois parâmetros: a lista que vai ser filtrada e a função que realiza o filtro da lista. Nesse caso foi a `função lambda` e a lista `numeros`."
      ],
      "metadata": {
        "id": "bc_gPzhXkGxp"
      }
    },
    {
      "cell_type": "markdown",
      "source": [
        "* Exemplo 2: Dada um dataframe com Nome, Idade, Sexo e Profissão, deseja-se criar uma nova coluna denominada \"Categoria\" em que o que deve ser preenchido satisfaz a seguinte regra:\n",
        "- Se o sexo for masculino e a idade for menor que 12 anos, coloca-se \"menino\".\n",
        "- Se a idade estiver entre 12 e 18 anos, coloca-se \"adolescente\".\n",
        "- Se a idade for maior que 18 anos e profissão estiver como nenhum, coloca-se \"desempregado\""
      ],
      "metadata": {
        "id": "ku_UuG39krvL"
      }
    },
    {
      "cell_type": "code",
      "source": [
        "import pandas as pd\n",
        "\n",
        "# Cria um DataFrame de exemplo\n",
        "data = {'Nome': ['João', 'Maria', 'Pedro', 'Ana'],\n",
        "        'Idade': [10, 15, 20, 25],\n",
        "        'Sexo': ['Masculino', 'Feminino', 'Masculino', 'Feminino'],\n",
        "        'Profissão': ['Estudante', 'Estudante', 'Nenhum', 'Nenhum']}\n",
        "df = pd.DataFrame(data)\n",
        "\n",
        "# Função para definir a categoria com base na idade, sexo e profissão\n",
        "def define_categoria(idade, sexo, profissao):\n",
        "    if idade < 12 and sexo == 'Masculino':\n",
        "        return 'Menino'\n",
        "    elif 12 <= idade <= 18:\n",
        "        return 'Adolescente'\n",
        "    elif idade > 18 and profissao == 'Nenhum':\n",
        "        return 'Desempregado'\n",
        "    else:\n",
        "        return ''\n",
        "\n",
        "# Aplica a função às colunas correspondentes e cria a nova coluna \"Categoria\"\n",
        "df['Categoria'] = df.apply(lambda x: define_categoria(x['Idade'], x['Sexo'], x['Profissão']), axis=1)\n",
        "\n",
        "# Exibe o DataFrame resultante\n",
        "print(df)\n"
      ],
      "metadata": {
        "id": "YEJZlsYxls9K",
        "colab": {
          "base_uri": "https://localhost:8080/"
        },
        "outputId": "ff1cd13d-1667-4168-acd4-112961eed152"
      },
      "execution_count": null,
      "outputs": [
        {
          "output_type": "stream",
          "name": "stdout",
          "text": [
            "    Nome  Idade       Sexo  Profissão     Categoria\n",
            "0   João     10  Masculino  Estudante        Menino\n",
            "1  Maria     15   Feminino  Estudante   Adolescente\n",
            "2  Pedro     20  Masculino     Nenhum  Desempregado\n",
            "3    Ana     25   Feminino     Nenhum  Desempregado\n"
          ]
        }
      ]
    },
    {
      "cell_type": "markdown",
      "source": [
        "* Exemplo 3: Faça um programa que escreva \"Minha primeira função\", esta escrita deve ser realizada a partir da chamada de uma função que foi declarada como uma expressão lambda."
      ],
      "metadata": {
        "id": "aGdMdamtl6Hv"
      }
    },
    {
      "cell_type": "code",
      "source": [
        "first_func=lambda: print(\"Minha primeira função\")\n",
        "first_func()"
      ],
      "metadata": {
        "id": "qAlBis2YmXT2",
        "colab": {
          "base_uri": "https://localhost:8080/"
        },
        "outputId": "447a096c-49de-4d04-d0cf-7744db35dfd4"
      },
      "execution_count": null,
      "outputs": [
        {
          "output_type": "stream",
          "name": "stdout",
          "text": [
            "Minha primeira função\n"
          ]
        }
      ]
    },
    {
      "cell_type": "markdown",
      "source": [
        "* Exemplo 4: Faça um programa que solicite o nome do usuário e a idade do usuário, depois disso exiba a mensagem: \"{nome} possui {idade} anos.\". Esta mensagem deve ser escrita em uma função lambda."
      ],
      "metadata": {
        "id": "4U5gg8A4njcc"
      }
    },
    {
      "cell_type": "code",
      "source": [
        "nome=input(\"Digite seu nome: \")\n",
        "idade= input(\"Idade\")\n",
        "\n",
        "resposta=lambda:print(f'{nome} tem {idade} anos')\n",
        "resposta()"
      ],
      "metadata": {
        "id": "QYL-qMpDmsHm"
      },
      "execution_count": null,
      "outputs": []
    },
    {
      "cell_type": "markdown",
      "source": [
        "* Exemplo 5: Faça um programa que solicite cinco números ao usuário, depois disso, exiba apenas os números maiores do que 10. Utilize a função filter para fazer isso."
      ],
      "metadata": {
        "id": "BEwkqytHnugH"
      }
    },
    {
      "cell_type": "code",
      "source": [
        "n1=int(input(\"Digite um número \"))\n",
        "n2=int(input(\"Digite outro número \"))\n",
        "n3=int(input(\"Digite outro número \"))\n",
        "n4=int(input(\"Digite outro número \"))\n",
        "n5=int(input(\"Digite outro número \"))\n",
        "lista=[n1,n2, n3, n4, n5]\n",
        "lista_maior=filter(lambda num: num>10,lista)\n",
        "12print(\"Os números maiores que 10 são:\")\n",
        "for numero in lista_maior:\n",
        "    print(f'* {numero}')"
      ],
      "metadata": {
        "id": "rgjhUQOvnxSg"
      },
      "execution_count": null,
      "outputs": []
    },
    {
      "cell_type": "code",
      "source": [],
      "metadata": {
        "id": "02sZ4xr4x6Vc"
      },
      "execution_count": null,
      "outputs": []
    },
    {
      "cell_type": "markdown",
      "source": [
        "# Diretórios e arquivos"
      ],
      "metadata": {
        "id": "2sauUG0Jx7MW"
      }
    },
    {
      "cell_type": "markdown",
      "source": [
        "Para trabalhar com comandos do sistema operacional, a biblioteca `os`pode nos auxiliar a fazer algumas operações dentro do seu computador, por exemplo:\n",
        "- Criar um diretório\n",
        "- Renomear um diretório existente.\n",
        "- Remover um diretório.\n",
        "- Mostrar o caminho para o seu diretório atual.\n",
        "\n",
        "Essa biblioteca é muito utilizada para fazer automação de processos no Python."
      ],
      "metadata": {
        "id": "nmHwWXAly0f0"
      }
    },
    {
      "cell_type": "code",
      "source": [
        "import os"
      ],
      "metadata": {
        "id": "8eKr-ROizd_y"
      },
      "execution_count": null,
      "outputs": []
    },
    {
      "cell_type": "markdown",
      "source": [
        " Para obter diversas informações do seu sistema em formato de dicionário usa-se `os.environ`"
      ],
      "metadata": {
        "id": "Efe-7vgo4XKD"
      }
    },
    {
      "cell_type": "code",
      "source": [
        "os.environ"
      ],
      "metadata": {
        "id": "-8AMACtS4LWX"
      },
      "execution_count": null,
      "outputs": []
    },
    {
      "cell_type": "markdown",
      "source": [
        "## Trabalhando com Pastas"
      ],
      "metadata": {
        "id": "xtMHy7ENz4xU"
      }
    },
    {
      "cell_type": "markdown",
      "source": [
        "## Trabalhando com Arquivos"
      ],
      "metadata": {
        "id": "esldiHXnz8Yj"
      }
    },
    {
      "cell_type": "markdown",
      "source": [
        "## Trabalhando com Diretórios"
      ],
      "metadata": {
        "id": "a9Ywfx7N0AyZ"
      }
    },
    {
      "cell_type": "markdown",
      "source": [
        "### Identificar o diretório atual"
      ],
      "metadata": {
        "id": "sdFAZ1ii58VU"
      }
    },
    {
      "cell_type": "code",
      "source": [
        "os.getcwd()"
      ],
      "metadata": {
        "id": "Ui7Lcy-a58zT"
      },
      "execution_count": null,
      "outputs": []
    },
    {
      "cell_type": "markdown",
      "source": [
        "### Mudar o diretório atual"
      ],
      "metadata": {
        "id": "VVn_4t2-6eZ5"
      }
    },
    {
      "cell_type": "code",
      "source": [
        "os.chdir(<novo_caminho>)\n"
      ],
      "metadata": {
        "id": "iPfVXdhJ6iIH"
      },
      "execution_count": null,
      "outputs": []
    },
    {
      "cell_type": "markdown",
      "source": [
        "OBS: Se você adicionar uma \\ na string e não adicionar o \"r\" , você receberá um erro, porque o símbolo \\ será tratado como um caractere especial. SEndo assim, ou coloca-se \"r\", ou troca-se duplo \\ ou até mesmo troca-se \\ por /\n",
        "```\n",
        "os.chdir(r\"C:\\Users\\estef\\Documents)\n",
        "```\n",
        "ou\n",
        "\n",
        "```\n",
        "os.chdir(\"C:\\\\Users\\\\estef\\\\Documents)\n",
        "```\n",
        "\n",
        "ou\n",
        "\n",
        "\n",
        "```\n",
        "os.chdir(\"C:/Users/estef/Documents)\n",
        "```\n",
        "\n"
      ],
      "metadata": {
        "id": "BN-KGElP60yn"
      }
    },
    {
      "cell_type": "markdown",
      "source": [
        "### Listar os elementos de um diretório"
      ],
      "metadata": {
        "id": "O0qoS8VYCT-e"
      }
    },
    {
      "cell_type": "markdown",
      "source": [
        "`os.listdir(<path>)`\n",
        "\n",
        "Retorna uma lista com os nomes de todos os arquivos e diretório que podem ser encontrados dentro de um diretório que você especifica quando chama a função.\n",
        "\n",
        "Se `<path>` estiver vazio, isto é, o comando `listdir` não tiver parâmetro, é mostrado todos os elementos do diretório atual."
      ],
      "metadata": {
        "id": "Za6soiuTCQSk"
      }
    },
    {
      "cell_type": "code",
      "source": [
        "os.listdir()"
      ],
      "metadata": {
        "id": "IzMOg_e-C6Zx"
      },
      "execution_count": null,
      "outputs": []
    },
    {
      "cell_type": "markdown",
      "source": [
        "Se for necessário filtrar apenas os arquivos de uma pasta específica, pode-se usar o comando `filter` junto com o comando `os.path.isfile` da seguinte maneira:\n",
        "\n",
        "```\n",
        "list(filter(os.path.isfile, os.listdir(<caminho>)))\n",
        "```\n",
        "\n",
        "E para filtrar apenas os diretórios, usa-se:\n",
        "\n",
        "```\n",
        "list(filter(os.path.isdir, os.listdir(<caminho>)))\n",
        "```\n",
        "\n",
        "\n"
      ],
      "metadata": {
        "id": "jiTwUc-OD-J9"
      }
    },
    {
      "cell_type": "markdown",
      "source": [
        "O comando fileter basicamente \"filtra\" os elementos do segundo argumento  baseado no valor booleano retornado quando chamada a função passada como primeiro argumento.\n",
        "\n",
        "\n",
        "\n",
        "```\n",
        "filter(<função>, <lista>)\n",
        "```\n",
        "\n"
      ],
      "metadata": {
        "id": "XBsjroepFO_I"
      }
    },
    {
      "cell_type": "markdown",
      "source": [
        "## Executar um comando em uma sub-shell\n",
        "\n",
        "O comando `system()` essa função pega um comando (como uma string) e o executa.\n",
        "\n",
        "Diferente de `listdir`, a função `system()` não retornará uma lista se você passar o comando `ls`, ela apenas exibirá a lista de arquivos e diretórios no stdout. Por isso, você deve usá-la apenas se deseja visualizar a lista sem trabalhar com ela no seu programa."
      ],
      "metadata": {
        "id": "vOfH1cXyGiJ_"
      }
    },
    {
      "cell_type": "code",
      "source": [
        "os.system(<comando>)"
      ],
      "metadata": {
        "id": "Rc2I1Op2HLCY"
      },
      "execution_count": null,
      "outputs": []
    },
    {
      "cell_type": "code",
      "source": [
        "os.system(\"ls\")"
      ],
      "metadata": {
        "id": "R1zgxunLHUYI"
      },
      "execution_count": null,
      "outputs": []
    },
    {
      "cell_type": "markdown",
      "source": [
        "OBS:\n",
        "\n",
        "O comando passado como argumento deve ser reconhecido pelo sistema operacional ou pelo ambiente em que você está trabalhando.\n",
        "\n",
        "No Windows, o valor de retorno é aquele retornado pelo shell do sistema após a execução do comando e, no Unix, o valor de retorno é o status de saída do processo codificado no formato especificado para wait()."
      ],
      "metadata": {
        "id": "-19QXFCGHqfz"
      }
    },
    {
      "cell_type": "code",
      "source": [
        "os.system(\"dir\")"
      ],
      "metadata": {
        "id": "bvUb2owBH8ff"
      },
      "execution_count": null,
      "outputs": []
    },
    {
      "cell_type": "markdown",
      "source": [
        "## Exemplos"
      ],
      "metadata": {
        "id": "TG_cSIhr0MHq"
      }
    },
    {
      "cell_type": "code",
      "source": [],
      "metadata": {
        "id": "Ig8hThQuLVoI"
      },
      "execution_count": null,
      "outputs": []
    },
    {
      "cell_type": "markdown",
      "source": [
        "1. Exemplo:\n",
        "\n",
        "Fazer um código percorrer por todos os arquivos de um diretório específico."
      ],
      "metadata": {
        "id": "PUVvvYts0Ync"
      }
    },
    {
      "cell_type": "code",
      "source": [
        "import os\n",
        "\n",
        "# Diretório contendo os arquivos\n",
        "diretorio = '/content/drive/MyDrive/pasta_teste'\n",
        "\n",
        "# Loop pelos arquivos no diretório\n",
        "for nome_arquivo in os.listdir(diretorio):\n",
        "    caminho_arquivo = os.path.join(diretorio, nome_arquivo)\n",
        "\n",
        "    # Código a ser executado para cada arquivo\n",
        "    # Abra o arquivo e faça as operações desejadas\n",
        "    with open(caminho_arquivo, 'r') as arquivo:\n",
        "        # Seu código aqui\n",
        "        # Exemplo: Ler o conteúdo do arquivo e imprimir na tela\n",
        "        conteudo = arquivo.read()\n",
        "        print(f'Conteúdo do arquivo {nome_arquivo}:')\n",
        "        print(conteudo)\n",
        "        print('--------'*5)\n"
      ],
      "metadata": {
        "id": "YoF7CF1A0OGv"
      },
      "execution_count": null,
      "outputs": []
    },
    {
      "cell_type": "markdown",
      "source": [
        "# Abrindo arquivos CSV"
      ],
      "metadata": {
        "id": "5eWbpe4ZQW9D"
      }
    },
    {
      "cell_type": "markdown",
      "source": [
        "O comando read_csv() do pandas possui vários parâmetros que permitem ajustar o comportamento da leitura de um arquivo CSV. Aqui estão alguns dos principais parâmetros e suas funções:\n",
        "\n",
        "* filepath_or_buffer: Especifica o caminho do arquivo CSV a ser lido. Pode ser um nome de arquivo, caminho absoluto ou URL.\n",
        "\n",
        "* sep: Define o separador de campos no arquivo CSV. O valor padrão é ',' (vírgula), mas pode ser alterado para outros caracteres, como '\\t' (tabulação).\n",
        "\n",
        "* header: Especifica a linha (ou linhas) que contém os nomes das colunas. O valor padrão é 'infer', que tenta inferir os nomes das colunas automaticamente. Pode ser definido como um número inteiro para indicar uma linha específica ou uma lista de inteiros para indicar múltiplas linhas.\n",
        "\n",
        "* index_col: Define a coluna que será usada como índice das linhas. Pode ser um nome de coluna ou número de coluna.\n",
        "\n",
        "* usecols: Especifica as colunas do arquivo CSV a serem carregadas. Pode ser uma lista de nomes de coluna ou uma lista de números de coluna.\n",
        "\n",
        "* dtype: Define o tipo de dados das colunas. Pode ser um dicionário que mapeia nomes de coluna para tipos de dados ou um tipo de dado único para todas as colunas.\n",
        "\n",
        "* skiprows: Permite pular um número específico de linhas no início do arquivo CSV.\n",
        "\n",
        "* na_values: Especifica os valores que devem ser considerados como valores ausentes (NaN).\n",
        "\n",
        "* parse_dates: Define as colunas que devem ser convertidas para o tipo de dados de data.\n",
        "\n",
        "Esses são apenas alguns dos parâmetros disponíveis no comando read_csv(). Existem outros parâmetros que permitem ajustar ainda mais o processo de leitura de um arquivo CSV no pandas. Para obter uma lista completa de todos os parâmetros disponíveis e suas funções, consulte a documentação oficial do pandas."
      ],
      "metadata": {
        "id": "J7L88unlQZwR"
      }
    },
    {
      "cell_type": "markdown",
      "source": [
        "## Abrindo grandes arquivos em csv"
      ],
      "metadata": {
        "id": "1ICugeEkLRFB"
      }
    },
    {
      "cell_type": "markdown",
      "source": [
        "Primeiramente, determine quanta memória o arquivo inteiro ocupará. Usaremos o parâmetro nrows de read_csv para limitar a quantidade de dados que carregamos para uma pequena amostra.\n",
        "\n",
        "\n",
        "\n",
        "```\n",
        " diamonds = pd.read_csv(\"data/diamonds.csv\", nrows=1000)\n",
        "```\n",
        "\n",
        "Com o método .info() é possível ver a quantidade de memória que os dados usam. Se ainda assim é necessário diminuir o tamanho dos dados, use o parâmetro dtype para read_csv para dizer a ele para usar os tipos numéricos corretos (ou menores).\n",
        "\n",
        "\n",
        "\n",
        "```\n",
        ">>> diamonds2 = pd.read_csv(\n",
        "...     \"data/diamonds.csv\",\n",
        "...     nrows=1000,\n",
        "...     dtype={\n",
        "...         \"carat\": np.float32,\n",
        "...         \"depth\": np.float32,\n",
        "...         \"table\": np.float32,\n",
        "...         \"x\": np.float32,\n",
        "...         \"y\": np.float32,\n",
        "...         \"z\": np.float32,\n",
        "...         \"price\": np.int16,\n",
        "...     },\n",
        "... )\n",
        ">>> diamonds2.info()\n",
        "<class 'pandas.core.frame.DataFrame'>\n",
        "RangeIndex: 1000 entries, 0 to 999\n",
        "Data columns (total 10 columns):\n",
        "carat      1000 non-null float32\n",
        "cut        1000 non-null object\n",
        "color      1000 non-null object\n",
        "clarity    1000 non-null object\n",
        "depth      1000 non-null float32\n",
        "table      1000 non-null float32\n",
        "price      1000 non-null int16\n",
        "x          1000 non-null float32\n",
        "y          1000 non-null float32\n",
        "z          1000 non-null float32\n",
        "dtypes: float32(6), int16(1), object(3)\n",
        "memory usage: 49.0+ KB\n",
        "\n",
        "```\n",
        "\n",
        "\n",
        "\n",
        "\n",
        "\n"
      ],
      "metadata": {
        "id": "kgJCnDskLogD"
      }
    },
    {
      "cell_type": "code",
      "source": [],
      "metadata": {
        "id": "u9Qzg3xLLbmI"
      },
      "execution_count": null,
      "outputs": []
    },
    {
      "cell_type": "markdown",
      "source": [
        "# Dataframes"
      ],
      "metadata": {
        "id": "Tc5FVq9WfpTz"
      }
    },
    {
      "cell_type": "markdown",
      "source": [
        "## Criando um dataframe do zero"
      ],
      "metadata": {
        "id": "C6qYZh7nGiXn"
      }
    },
    {
      "cell_type": "code",
      "source": [
        "\n",
        "fname = [\"Paul\", \"John\", \"Richard\", \"George\"]\n",
        "lname = [\"McCartney\", \"Lennon\", \"Starkey\", \"Harrison\"]\n",
        "birth = [1942, 1940, 1940, 1943]\n",
        "people = {\"first\": fname, \"last\": lname, \"birth\": birth}\n",
        "beatles = pd.DataFrame(people)\n",
        "beatles\n"
      ],
      "metadata": {
        "id": "aVZZBCHXGl-V"
      },
      "execution_count": null,
      "outputs": []
    },
    {
      "cell_type": "markdown",
      "source": [
        "####  Criando um arquivo csv com um dataframe pandas"
      ],
      "metadata": {
        "id": "Ok3SqEAm-S-E"
      }
    },
    {
      "cell_type": "code",
      "source": [
        "beatles"
      ],
      "metadata": {
        "id": "89NoH8pqHImL"
      },
      "execution_count": null,
      "outputs": []
    },
    {
      "cell_type": "markdown",
      "source": [
        "StringIO é uma classe em Python que permite trabalhar com strings como se fossem arquivos. É útil quando você precisa ler ou gravar dados em uma string em vez de um arquivo físico.\n",
        "\n",
        "O código abaixo `from io import StringIO` seguido por `fout = StringIO()` permite criar um objeto StringIO vazio chamado fout. O método `beatles.to_csv(fout)` grava os dados do DataFrame beatles em formato CSV dentro de fout. Em seguida, você pode acessar o conteúdo CSV gerado usando `fout.getvalue()`"
      ],
      "metadata": {
        "id": "YoMnRtMIIkFN"
      }
    },
    {
      "cell_type": "code",
      "source": [
        "from io import StringIO\n",
        "fout = StringIO()\n",
        "beatles.to_csv(fout)"
      ],
      "metadata": {
        "id": "3-U4aM6sHZu9"
      },
      "execution_count": null,
      "outputs": []
    },
    {
      "cell_type": "code",
      "source": [
        "print(fout.getvalue())"
      ],
      "metadata": {
        "id": "p44iqGuOHlEX"
      },
      "execution_count": null,
      "outputs": []
    },
    {
      "cell_type": "code",
      "source": [],
      "metadata": {
        "id": "CfLeBc7wMw9Z"
      },
      "execution_count": null,
      "outputs": []
    },
    {
      "cell_type": "markdown",
      "source": [
        "Ao chamar `fout.seek(0)`, você está movendo o indicador para a posição de byte zero (o início do arquivo). Isso significa que a próxima operação de leitura ou gravação será realizada a partir do início do arquivo."
      ],
      "metadata": {
        "id": "UHPIXpiFIM6h"
      }
    },
    {
      "cell_type": "code",
      "source": [
        "_ = fout.seek(0)\n",
        "pd.read_csv(fout)"
      ],
      "metadata": {
        "id": "yzJDab09HoTi"
      },
      "execution_count": null,
      "outputs": []
    },
    {
      "cell_type": "markdown",
      "source": [
        "## Percorrendo dados de um dataframe"
      ],
      "metadata": {
        "id": "ZAnRzuWEfsDc"
      }
    },
    {
      "cell_type": "markdown",
      "source": [
        "Sintaxe: `dataframe.iterrows()`"
      ],
      "metadata": {
        "id": "d7ebZKtgf8rJ"
      }
    },
    {
      "cell_type": "code",
      "source": [
        "# Exemplo de DataFrame\n",
        "df = pd.DataFrame({'a': [1, 2, 3, 4, 5],\n",
        "                   'b': ['foo', 'bar', 'foo', 'bar', 'foo'],\n",
        "                   'c': ['x', 'y', 'z', 'x', 'y']})\n",
        "\n",
        "for key, value in df.iterrows():\n",
        "    print(f' Para a={value.a} tem-se b={value.b} e c={value.c}')"
      ],
      "metadata": {
        "id": "k8Pq8jaDfvM2"
      },
      "execution_count": null,
      "outputs": []
    },
    {
      "cell_type": "markdown",
      "source": [
        "### Biblioteca itertools\n",
        "\n",
        "É uma biblioteca padrão do Python que fornece várias funções para trabalhar com iterações e manipulação de sequências"
      ],
      "metadata": {
        "id": "uiWSlfJdoLhy"
      }
    },
    {
      "cell_type": "code",
      "source": [
        "import itertools as it"
      ],
      "metadata": {
        "id": "1cKquB843TG9"
      },
      "execution_count": null,
      "outputs": []
    },
    {
      "cell_type": "markdown",
      "source": [
        "Agrupando itens iguais"
      ],
      "metadata": {
        "id": "1HFHHL4A3OZx"
      }
    },
    {
      "cell_type": "code",
      "source": [
        "# Exemplo de lista\n",
        "lista = [1, 1, 2, 2, 2, 3, 4, 4, 5]\n",
        "\n",
        "# Agrupar itens iguais\n",
        "grupos = it.groupby(lista)\n",
        "\n",
        "# Mostrar os grupos\n",
        "for chave, grupo in grupos:\n",
        "    print(f\"Item {chave}: {list(grupo)}\")\n",
        "\n"
      ],
      "metadata": {
        "id": "rG2X3Og3oZeg"
      },
      "execution_count": null,
      "outputs": []
    },
    {
      "cell_type": "markdown",
      "source": [
        "Todas as maneiras de ocupar três posições dos números 1 e 2:"
      ],
      "metadata": {
        "id": "rHwXsu6a22eD"
      }
    },
    {
      "cell_type": "code",
      "source": [
        "list(it.product([1,2],repeat=3))"
      ],
      "metadata": {
        "id": "4SYGM5iB2W1y"
      },
      "execution_count": null,
      "outputs": []
    },
    {
      "cell_type": "markdown",
      "source": [
        "Dada uma lista, mostra todas as permutações possíveis com os elementos da lista."
      ],
      "metadata": {
        "id": "RwHz3U3z3Znp"
      }
    },
    {
      "cell_type": "code",
      "source": [
        "list(it.permutations([1,2,3],2))"
      ],
      "metadata": {
        "id": "KcLqt8hB2W_M"
      },
      "execution_count": null,
      "outputs": []
    },
    {
      "cell_type": "markdown",
      "source": [
        "Dada uma lista, mostra todas as combinações possíveis com os elementos da lista."
      ],
      "metadata": {
        "id": "UJ85W-yV34_d"
      }
    },
    {
      "cell_type": "code",
      "source": [
        "list(it.combinations([1,2,3],2))"
      ],
      "metadata": {
        "id": "jwXXnyOM3w9e"
      },
      "execution_count": null,
      "outputs": []
    },
    {
      "cell_type": "markdown",
      "source": [
        "Dada uma lista, mostra todas as combinações, com repetição, possíveis com os elementos da lista.\n",
        "\n"
      ],
      "metadata": {
        "id": "8-S69tpo4B30"
      }
    },
    {
      "cell_type": "code",
      "source": [
        "list(it.combinations_with_replacement([1,2,3],2))"
      ],
      "metadata": {
        "id": "i8YhCQ8J4HQj"
      },
      "execution_count": null,
      "outputs": []
    },
    {
      "cell_type": "markdown",
      "source": [
        "Conta infinitamente, a partir do número dado x, de y em y, onde y é o segundo número dado,"
      ],
      "metadata": {
        "id": "rbCgY9yi7tA8"
      }
    },
    {
      "cell_type": "code",
      "source": [
        "#Iniciando do número 12, conta de 11 em 11 infinitamente\n",
        "#list(it.count(12,11))"
      ],
      "metadata": {
        "id": "M01NIz1v57jj"
      },
      "execution_count": null,
      "outputs": []
    },
    {
      "cell_type": "code",
      "source": [
        "list(it.repeat('Priscila', 3))"
      ],
      "metadata": {
        "id": "mJ4OMdz46adk"
      },
      "execution_count": null,
      "outputs": []
    },
    {
      "cell_type": "markdown",
      "source": [
        "Separa todas as string e as junta"
      ],
      "metadata": {
        "id": "uw2xa8Vy7Fjx"
      }
    },
    {
      "cell_type": "code",
      "source": [
        "list(it.chain('ABC', 'DEF','eu', '13'))"
      ],
      "metadata": {
        "id": "8F8Y-09E6zII"
      },
      "execution_count": null,
      "outputs": []
    },
    {
      "cell_type": "markdown",
      "source": [
        "Associa cada string da primeira lista com um número da segunda lista. As strings associadas ao número zero são descartadas na nova lista."
      ],
      "metadata": {
        "id": "NEnqg9pR7e4-"
      }
    },
    {
      "cell_type": "code",
      "source": [
        "list(it.compress('ABCDEF', [0,1,24,0,1,1]))"
      ],
      "metadata": {
        "id": "tN0c38RB7Q6T"
      },
      "execution_count": null,
      "outputs": []
    },
    {
      "cell_type": "markdown",
      "source": [
        "Dada uma lista A, cria uma sub lista B descartando os primeiros elementos de A que não satisfazem a condição dada."
      ],
      "metadata": {
        "id": "lbT_MMIk7_64"
      }
    },
    {
      "cell_type": "code",
      "source": [
        "list(it.dropwhile(lambda x: x<5, [1,4,6,4,1]))"
      ],
      "metadata": {
        "id": "0MKsLN3K8ADk"
      },
      "execution_count": null,
      "outputs": []
    },
    {
      "cell_type": "markdown",
      "source": [
        "Dada uma lista L e dois numeros A e B, o comando cria uma sublista de L, iniciando do elemento na posição A e terminando no elemento na posição B.\n",
        "\n",
        "\n",
        "\n",
        "```\n",
        "it.islice(L, A, B)\n",
        "```\n",
        "\n"
      ],
      "metadata": {
        "id": "F1mjxKHm9Sb-"
      }
    },
    {
      "cell_type": "code",
      "source": [
        "list(it.islice('ABCDEFGHIJ', 2, 8))"
      ],
      "metadata": {
        "id": "HeQnwH-18mIA"
      },
      "execution_count": null,
      "outputs": []
    },
    {
      "cell_type": "markdown",
      "source": [
        "Dada uma lista L, forma uma lista de pares dos elementos dessa lista, considerando as ordem, isto é, juntando os números vizinhos."
      ],
      "metadata": {
        "id": "yYgjzu6g9iU8"
      }
    },
    {
      "cell_type": "code",
      "source": [
        "list(it.pairwise('ABCDEFG') )"
      ],
      "metadata": {
        "id": "cV5jG1AM9wfk"
      },
      "execution_count": null,
      "outputs": []
    },
    {
      "cell_type": "markdown",
      "source": [
        "Dada uma função f e uma lista de tuplas (x,y,z,...), retorna uma lista formanda pelas imagens dessas tuplas pela função f."
      ],
      "metadata": {
        "id": "shSAdOJW--P1"
      }
    },
    {
      "cell_type": "code",
      "source": [
        "def soma(x,y,z):\n",
        "    return z*(x+y)\n",
        "\n",
        "list(it.starmap(soma, [(2,5,7), (3,2,2), (10,3,2)]))"
      ],
      "metadata": {
        "id": "lBinwWU9-AVV"
      },
      "execution_count": null,
      "outputs": []
    },
    {
      "cell_type": "markdown",
      "source": [
        "Dada as listas L1 e L2, esta função cria pares ordenados onde cada elemento de L1 está associado ao elemento de L2 que ocupa a mesma posição. Se uma das listas é menor que outra, o valor ausente será ocupado pela string colocada em fillvalue,\n",
        "\n",
        "\n",
        "\n",
        "```\n",
        "zip_longest(L1,L2,fillvalue='?')\n",
        "```\n",
        "\n"
      ],
      "metadata": {
        "id": "37--K-GZ_rYN"
      }
    },
    {
      "cell_type": "code",
      "source": [
        "list(it.zip_longest('ABCD', 'xy', fillvalue='?'))"
      ],
      "metadata": {
        "id": "fHjR7Haw_US4"
      },
      "execution_count": null,
      "outputs": []
    },
    {
      "cell_type": "markdown",
      "source": [
        "### Biblioteca Functools"
      ],
      "metadata": {
        "id": "kkborLW_BiZV"
      }
    },
    {
      "cell_type": "markdown",
      "source": [
        "Biblioteca que contém funções que atuam ou retornam outras funções."
      ],
      "metadata": {
        "id": "NXfBcFzUBonV"
      }
    },
    {
      "cell_type": "markdown",
      "source": [
        "#### `reduce(função, lista)`\n",
        "\n",
        "Aplica uma função em todos os elementos da lista."
      ],
      "metadata": {
        "id": "46wSv3vdEIrW"
      }
    },
    {
      "cell_type": "code",
      "source": [
        "import functools as func"
      ],
      "metadata": {
        "id": "-21Uy09oB1fC"
      },
      "execution_count": null,
      "outputs": []
    },
    {
      "cell_type": "code",
      "source": [
        "def add_num(a, b):\n",
        "   return a+b\n",
        "\n",
        "def prod_num(a, b):\n",
        "   return a*b\n",
        "\n",
        "def conc(a,b):\n",
        "    return str(a)+str(b)\n",
        "\n",
        "a = [1, 2, 3, 10, 8]\n",
        "print(func.reduce(add_num, a))\n",
        "print(func.reduce(prod_num, a))\n",
        "print(func.reduce(conc, a))\n"
      ],
      "metadata": {
        "id": "D09biL8fCmhH"
      },
      "execution_count": null,
      "outputs": []
    },
    {
      "cell_type": "markdown",
      "source": [
        "### `enumerate(lista)`\n",
        "\n",
        "Retorna uma lista enumerada"
      ],
      "metadata": {
        "id": "kCpEpLU8E0IX"
      }
    },
    {
      "cell_type": "code",
      "source": [
        "fruits = [\"grape\", \"apple\", \"mango\"]\n",
        "for i, j in enumerate(fruits):\n",
        "\tprint(i, j)"
      ],
      "metadata": {
        "id": "C6FzKaeTF-C6"
      },
      "execution_count": null,
      "outputs": []
    },
    {
      "cell_type": "markdown",
      "source": [
        "Esse comando é equivalente a"
      ],
      "metadata": {
        "id": "y-7qij0_GT0A"
      }
    },
    {
      "cell_type": "code",
      "source": [
        "for i in range(len(fruits)):\n",
        "\tprint(i, fruits[i])"
      ],
      "metadata": {
        "id": "u_RHjka1GXCX"
      },
      "execution_count": null,
      "outputs": []
    },
    {
      "cell_type": "markdown",
      "source": [
        "Se for necessário iniciar a enumeração com um número diferente dezero, é possível adicionar o parâmetro start.\n",
        "\n",
        "\n",
        "\n",
        "```\n",
        "fruits = [\"grape\", \"apple\", \"mango\"]\n",
        "for i, j in enumerate(fruits, start=1):\n",
        "\tprint(i, j)\n",
        "```\n",
        "\n"
      ],
      "metadata": {
        "id": "T7Aj5OqDGmLE"
      }
    },
    {
      "cell_type": "markdown",
      "source": [
        "## Filtrar dados de um dataframe"
      ],
      "metadata": {
        "id": "DDGYappxFudx"
      }
    },
    {
      "cell_type": "code",
      "source": [
        "\n",
        "# Exemplo de DataFrame\n",
        "df = pd.DataFrame({'a': [1, 2, 3, 4, 5],\n",
        "                   'b': ['foo', 'bar', 'foo', 'bar', 'foo'],\n",
        "                   'c': ['x', 'y', 'z', 'x', 'y']})\n",
        "\n",
        "# Lista de valores desejados para a coluna 'a'\n",
        "valores_desejados = [2, 4, 6]\n",
        "\n",
        "# Filtrar o DataFrame com base na lista de valores\n",
        "resultado = df[df['a'].isin(valores_desejados)]\n",
        "\n",
        "print(resultado)\n"
      ],
      "metadata": {
        "id": "kmFU_zZSF1F9"
      },
      "execution_count": null,
      "outputs": []
    },
    {
      "cell_type": "markdown",
      "source": [
        "### Filtrando dados usando itertools"
      ],
      "metadata": {
        "id": "yPqmDrC14YKc"
      }
    },
    {
      "cell_type": "markdown",
      "source": [
        "Dada uma lista, retorna uma lista excluindo os dados que não satisfazem determinada condição"
      ],
      "metadata": {
        "id": "RuYXQ33e4rEh"
      }
    },
    {
      "cell_type": "code",
      "source": [
        "list(it.filterfalse(lambda x: (3*x+1)%2, range(10)))"
      ],
      "metadata": {
        "id": "HsDHEvg24eIb"
      },
      "execution_count": null,
      "outputs": []
    },
    {
      "cell_type": "markdown",
      "source": [
        "## Selecionando colunas"
      ],
      "metadata": {
        "id": "H_SL4fbyk1B2"
      }
    },
    {
      "cell_type": "markdown",
      "source": [
        "### Selecionando colunas por tipo de dados"
      ],
      "metadata": {
        "id": "tyA_FX51k6Xq"
      }
    },
    {
      "cell_type": "code",
      "source": [
        "df.select_dtypes(include=[\"int\",\"number\",\"object\"]).head()"
      ],
      "metadata": {
        "id": "Ws42-ZxbmEz7"
      },
      "execution_count": null,
      "outputs": []
    },
    {
      "cell_type": "code",
      "source": [
        "df.select_dtypes(exclude=\"object\").head()"
      ],
      "metadata": {
        "id": "pBTjeMfomdTt"
      },
      "execution_count": null,
      "outputs": []
    },
    {
      "cell_type": "markdown",
      "source": [
        "### Selecionando colunas pelo nome"
      ],
      "metadata": {
        "id": "S6XnKiShk-H4"
      }
    },
    {
      "cell_type": "markdown",
      "source": [
        "O método `.filter` seleciona colunas inspecionando apenas os nomes das colunas e não os valores dos dados. Ele possui três parâmetros: items, like e regex, dos quais apenas um pode ser usado por vez.\n",
        "\n",
        "* O parâmetro like pega uma string e tenta localizar todos os nomes de colunas que contêm essa string exata em algum lugar do nome.\n",
        "\n",
        "* Para obter mais flexibilidade, você pode usar o parâmetro regex em vez de selecionar nomes de colunas por meio de uma expressão regular. Essa expressão regular específica,` r'\\d'`, representa todos os dígitos de zero a nove e corresponde a qualquer string com pelo menos um único dígito.\n"
      ],
      "metadata": {
        "id": "zd5tIDKhpgis"
      }
    },
    {
      "cell_type": "code",
      "source": [
        "df.filter(like='apf').head()"
      ],
      "metadata": {
        "id": "fK5L0T0hmkdp"
      },
      "execution_count": null,
      "outputs": []
    },
    {
      "cell_type": "code",
      "source": [
        "df.filter(items=[\"site_apf_id\", \"created_at\"])"
      ],
      "metadata": {
        "id": "sObBWWb3m0RS"
      },
      "execution_count": null,
      "outputs": []
    },
    {
      "cell_type": "code",
      "source": [
        " #procura todas as colunas que tem um dígito no nome\n",
        "df.filter(regex=r\"\\d\")"
      ],
      "metadata": {
        "id": "TQThlTImorWw"
      },
      "execution_count": null,
      "outputs": []
    },
    {
      "cell_type": "code",
      "source": [
        "#seleciona as colunas que posuem site ou created no nome\n",
        "df.filter(regex='site|created_at')"
      ],
      "metadata": {
        "id": "Wof2CiMEolX5"
      },
      "execution_count": null,
      "outputs": []
    },
    {
      "cell_type": "markdown",
      "source": [
        "### Reordenando a ordem das colunas\n",
        "\n"
      ],
      "metadata": {
        "id": "zlUiIAFayzEK"
      }
    },
    {
      "cell_type": "code",
      "source": [
        "df.head()"
      ],
      "metadata": {
        "id": "_BtaQ_gdy4o4"
      },
      "execution_count": null,
      "outputs": []
    },
    {
      "cell_type": "markdown",
      "source": [
        "Observe que as coluna do dataframe anterior aparecem na seguinte ordem: Campaingn Name, App ID, Day, Impressions, Conversions.\n",
        "\n",
        "Vamos reagrupá-las por ordem alfabetica."
      ],
      "metadata": {
        "id": "PsQ1x13MzHXB"
      }
    },
    {
      "cell_type": "code",
      "source": [
        "list(df.columns)"
      ],
      "metadata": {
        "id": "nfIPblY-zZBk"
      },
      "execution_count": null,
      "outputs": []
    },
    {
      "cell_type": "code",
      "source": [
        "lista_ordenada=sorted(list(df.columns))\n",
        "lista_ordenada\n"
      ],
      "metadata": {
        "id": "Z9d4HEt0zd3G"
      },
      "execution_count": null,
      "outputs": []
    },
    {
      "cell_type": "code",
      "source": [
        "df[lista_ordenada]"
      ],
      "metadata": {
        "id": "XpgoxfFXzd54"
      },
      "execution_count": null,
      "outputs": []
    },
    {
      "cell_type": "markdown",
      "source": [
        "## Agrupando dados de um dataframe"
      ],
      "metadata": {
        "id": "jFrPFUSk_ZiL"
      }
    },
    {
      "cell_type": "markdown",
      "source": [
        "### Groupby"
      ],
      "metadata": {
        "id": "vCkYMpZ-k-Dz"
      }
    },
    {
      "cell_type": "markdown",
      "source": [
        "Sintaxe:\n",
        "\n",
        "```\n",
        "DataFrame.groupby(by=None, axis=0, level=None, as_index=True, sort=True, group_keys=True, observed=False, dropna=True)\n",
        "```\n",
        "\n",
        "\n"
      ],
      "metadata": {
        "id": "AUoUlCfllAvU"
      }
    },
    {
      "cell_type": "markdown",
      "source": [
        "Agrupando uma coluna e somando as demais"
      ],
      "metadata": {
        "id": "AyT5XQbkAAIs"
      }
    },
    {
      "cell_type": "code",
      "source": [
        "df.groupby(by='App ID').sum()"
      ],
      "metadata": {
        "id": "Op9_RMd4ve6S"
      },
      "execution_count": null,
      "outputs": []
    },
    {
      "cell_type": "markdown",
      "source": [
        "Agrupando por App ID, somando a coluna Impressions e calculando a média da coluna Conversions"
      ],
      "metadata": {
        "id": "wnoPyKAlEsBh"
      }
    },
    {
      "cell_type": "code",
      "source": [
        "df.groupby('App ID').agg({'Impressions' : 'sum', 'Conversions' : 'mean'})"
      ],
      "metadata": {
        "id": "c-6Nn38ku6uf"
      },
      "execution_count": null,
      "outputs": []
    },
    {
      "cell_type": "markdown",
      "source": [
        "Dados da documentação"
      ],
      "metadata": {
        "id": "rnuO07qTAoKR"
      }
    },
    {
      "cell_type": "code",
      "source": [
        "speeds = pd.DataFrame(\n",
        "    [\n",
        "        (\"bird\", \"Falconiformes\", 389.0),\n",
        "        (\"bird\", \"Psittaciformes\", 24.0),\n",
        "        (\"mammal\", \"Carnivora\", 80.2),\n",
        "        (\"mammal\", \"Primates\", np.nan),\n",
        "        (\"mammal\", \"Carnivora\", 58),\n",
        "    ],\n",
        "    index=[\"falcon\", \"parrot\", \"lion\", \"monkey\", \"leopard\"],\n",
        "    columns=(\"class\", \"order\", \"max_speed\"),\n",
        ")\n",
        "speeds\n"
      ],
      "metadata": {
        "id": "EVHsrHwIAxnI"
      },
      "execution_count": null,
      "outputs": []
    },
    {
      "cell_type": "code",
      "source": [
        "speeds"
      ],
      "metadata": {
        "id": "Sj-h9rnNA_DW"
      },
      "execution_count": null,
      "outputs": []
    },
    {
      "cell_type": "code",
      "source": [
        "grouped_class = speeds.groupby(\"class\")\n",
        "\n",
        "grouped_order = speeds.groupby(\"order\")\n",
        "\n",
        "\n",
        "grouped_order_column = speeds.groupby(\"order\", axis=\"columns\")\n",
        "\n",
        "grouped_class_order = speeds.groupby([\"class\", \"order\"])"
      ],
      "metadata": {
        "id": "ogX1st5UA-Nv"
      },
      "execution_count": null,
      "outputs": []
    },
    {
      "cell_type": "code",
      "source": [
        "grouped_class.sum()"
      ],
      "metadata": {
        "id": "0lp6w6JvGKp7"
      },
      "execution_count": null,
      "outputs": []
    },
    {
      "cell_type": "code",
      "source": [
        "grouped_order.sum()"
      ],
      "metadata": {
        "id": "EET9kQc3Ho05"
      },
      "execution_count": null,
      "outputs": []
    },
    {
      "cell_type": "code",
      "source": [
        "grouped_class_order.sum()"
      ],
      "metadata": {
        "id": "_wkSMcMVIDRe"
      },
      "execution_count": null,
      "outputs": []
    },
    {
      "cell_type": "code",
      "source": [
        "grouped_order_column.sum() #Não será possível agrupar as colunas e somá-las"
      ],
      "metadata": {
        "id": "I9xxRohjIDVI"
      },
      "execution_count": null,
      "outputs": []
    },
    {
      "cell_type": "code",
      "source": [
        "grouped_class.first() #primeira max_speed de cada categoria"
      ],
      "metadata": {
        "id": "nnYshiyLIl6y"
      },
      "execution_count": null,
      "outputs": []
    },
    {
      "cell_type": "code",
      "source": [
        "grouped_class.last() #última max_speed de cada categoria"
      ],
      "metadata": {
        "id": "aKVS3w5NJgu2"
      },
      "execution_count": null,
      "outputs": []
    },
    {
      "cell_type": "markdown",
      "source": [
        "Agrupar por classificação"
      ],
      "metadata": {
        "id": "LOcgZ0LAJ_ft"
      }
    },
    {
      "cell_type": "code",
      "source": [
        "df2 = pd.DataFrame({\"X\": [\"B\", \"B\", \"A\", \"A\"], \"Y\": [1, 2, 3, 4]})\n",
        "df2"
      ],
      "metadata": {
        "id": "aO1p6kd0Jgyd"
      },
      "execution_count": null,
      "outputs": []
    },
    {
      "cell_type": "code",
      "source": [
        "df2.groupby([\"X\"]).sum()"
      ],
      "metadata": {
        "id": "uam8xRy2KGs-"
      },
      "execution_count": null,
      "outputs": []
    },
    {
      "cell_type": "code",
      "source": [
        "df2.groupby([\"X\"], sort=False).sum() #Agrupar pela coluna X e soma as demais, de maneira não ordenada"
      ],
      "metadata": {
        "id": "vF7stBUHKOZC"
      },
      "execution_count": null,
      "outputs": []
    },
    {
      "cell_type": "markdown",
      "source": [
        "Obter uma subtabela de uma tabela"
      ],
      "metadata": {
        "id": "SZeZzLeLKccP"
      }
    },
    {
      "cell_type": "code",
      "source": [
        "df3 = pd.DataFrame({\"X\": [\"A\", \"B\", \"A\", \"B\"], \"Y\": [1, 4, 3, 2]})"
      ],
      "metadata": {
        "id": "RqotmUAwKgIm"
      },
      "execution_count": null,
      "outputs": []
    },
    {
      "cell_type": "code",
      "source": [
        "df3"
      ],
      "metadata": {
        "id": "8L4Z45V3KiRo"
      },
      "execution_count": null,
      "outputs": []
    },
    {
      "cell_type": "code",
      "source": [
        "df3.groupby([\"X\"]).get_group(\"A\")"
      ],
      "metadata": {
        "id": "7Nm5dB3WKlpu"
      },
      "execution_count": null,
      "outputs": []
    },
    {
      "cell_type": "markdown",
      "source": [
        "Agrupar considerando NaN no agrupamento"
      ],
      "metadata": {
        "id": "mtSnOcB2LH4L"
      }
    },
    {
      "cell_type": "code",
      "source": [
        "df_list = [[1, 2, 3], [1, None, 4], [2, 1, 3], [1, 2, 2]]\n",
        "\n",
        "df_dropna = pd.DataFrame(df_list, columns=[\"a\", \"b\", \"c\"])\n",
        "\n",
        "df_dropna"
      ],
      "metadata": {
        "id": "h7o1rm1tLMGG"
      },
      "execution_count": null,
      "outputs": []
    },
    {
      "cell_type": "code",
      "source": [
        "df_dropna.groupby(by=[\"b\"], dropna=True).sum()"
      ],
      "metadata": {
        "id": "kkADnFTFLUJc"
      },
      "execution_count": null,
      "outputs": []
    },
    {
      "cell_type": "code",
      "source": [
        "df_dropna.groupby(by=[\"b\"], dropna=False).sum()"
      ],
      "metadata": {
        "id": "hm1RdX0oLXm_"
      },
      "execution_count": null,
      "outputs": []
    },
    {
      "cell_type": "markdown",
      "source": [
        "### Atributos do Group by"
      ],
      "metadata": {
        "id": "mJs8CtLbNJS6"
      }
    },
    {
      "cell_type": "markdown",
      "source": [
        "* gb.agg       \n",
        "* gb.boxplot    \n",
        "* gb.cummin     \n",
        "* gb.describe   \n",
        "* gb.filter     \n",
        "* gb.get_group  \n",
        "* gb.height     \n",
        "* gb.last       \n",
        "* gb.median     \n",
        "* gb.ngroups    \n",
        "* gb.plot       \n",
        "* gb.rank       \n",
        "* gb.std        \n",
        "* gb.transform\n",
        "* gb.aggregate  \n",
        "* gb.count      \n",
        "* gb.cumprod    \n",
        "* gb.dtype      \n",
        "* gb.first      \n",
        "* gb.groups     \n",
        "* gb.hist       \n",
        "* gb.max        \n",
        "* gb.min        \n",
        "* gb.nth        \n",
        "* gb.prod       \n",
        "* gb.resample   \n",
        "* gb.sum        \n",
        "* gb.var\n",
        "* gb.apply      \n",
        "* gb.cummax     \n",
        "* gb.cumsum     \n",
        "* gb.fillna     \n",
        "* gb.gender     \n",
        "* gb.head       \n",
        "* gb.indices    \n",
        "* gb.mean       \n",
        "* gb.name       \n",
        "* gb.ohlc       \n",
        "* gb.quantile   \n",
        "* gb.size       \n",
        "* gb.tail       \n",
        "* gb.weight"
      ],
      "metadata": {
        "id": "vDAUqiuoNRFq"
      }
    },
    {
      "cell_type": "markdown",
      "source": [
        "Exemplos:"
      ],
      "metadata": {
        "id": "q0wHC9lUONrl"
      }
    },
    {
      "cell_type": "code",
      "source": [
        "df_dropna.groupby(by=[\"b\"], dropna=False).size()"
      ],
      "metadata": {
        "id": "bqHgSM_gOA59"
      },
      "execution_count": null,
      "outputs": []
    },
    {
      "cell_type": "markdown",
      "source": [
        "### Iterando pelos grupos"
      ],
      "metadata": {
        "id": "OHaeAFK_PuGV"
      }
    },
    {
      "cell_type": "code",
      "source": [
        "df = pd.DataFrame(\n",
        "    {\n",
        "        \"A\": [\"foo\", \"bar\", \"foo\", \"bar\", \"foo\", \"bar\", \"foo\", \"foo\"],\n",
        "        \"B\": [\"one\", \"one\", \"two\", \"three\", \"two\", \"two\", \"one\", \"three\"],\n",
        "        \"C\": np.random.randn(8),\n",
        "        \"D\": np.random.randn(8),\n",
        "    }\n",
        ")\n",
        "df"
      ],
      "metadata": {
        "id": "EPnXIMhdQPTR"
      },
      "execution_count": null,
      "outputs": []
    },
    {
      "cell_type": "code",
      "source": [
        "grouped = df.groupby('A')\n",
        "\n",
        "print('---'*15 + 'name'+ '---'*15)\n",
        "for name, group in grouped:\n",
        "    print(name)\n",
        "\n",
        "\n",
        "print('---'*15 + 'group'+ '---'*15)\n",
        "for name, group in grouped:\n",
        "    print(group)\n"
      ],
      "metadata": {
        "id": "rhqCqUQwPzhK"
      },
      "execution_count": null,
      "outputs": []
    },
    {
      "cell_type": "code",
      "source": [
        "for name, group in df.groupby(['A', 'B']):\n",
        "    print(name)\n",
        "\n"
      ],
      "metadata": {
        "id": "LeZtM1XMQ7-C"
      },
      "execution_count": null,
      "outputs": []
    },
    {
      "cell_type": "code",
      "source": [
        "for name, group in df.groupby(['A', 'B']):\n",
        "    print(group)"
      ],
      "metadata": {
        "id": "hKUTzJ5wRAdr"
      },
      "execution_count": null,
      "outputs": []
    },
    {
      "cell_type": "markdown",
      "source": [
        "### Selecionando um subgrupo"
      ],
      "metadata": {
        "id": "1ScMNLeyRYOC"
      }
    },
    {
      "cell_type": "code",
      "source": [
        "grouped.get_group(\"bar\")"
      ],
      "metadata": {
        "id": "kW0EXlrIRatJ"
      },
      "execution_count": null,
      "outputs": []
    },
    {
      "cell_type": "code",
      "source": [
        "df"
      ],
      "metadata": {
        "id": "JDus4JLMRyV9"
      },
      "execution_count": null,
      "outputs": []
    },
    {
      "cell_type": "code",
      "source": [
        "grouped = df.groupby('A')"
      ],
      "metadata": {
        "id": "9Zq7rkP0R0NC"
      },
      "execution_count": null,
      "outputs": []
    },
    {
      "cell_type": "code",
      "source": [
        "grouped.get_group(\"bar\") # observe que que grouped está agrupado pela coluna A e por isso pode-se pegar o subgrupo \"bar\""
      ],
      "metadata": {
        "id": "aLOrnZULR2Zx"
      },
      "execution_count": null,
      "outputs": []
    },
    {
      "cell_type": "markdown",
      "source": [
        "### Métodos de agregação"
      ],
      "metadata": {
        "id": "huESW3R1eoQH"
      }
    },
    {
      "cell_type": "markdown",
      "source": [
        "* any()\n",
        "\n",
        "    Calcule se algum dos valores nos grupos é verdadeiro\n",
        "\n",
        "* all()\n",
        "\n",
        "Calcule se todos os valores nos grupos são verdadeiros\n",
        "\n",
        "* count()\n",
        "\n",
        "Calcule o número de valores não NA nos grupos\n",
        "\n",
        "* cov()*\n",
        "\n",
        "Calcular a covariância dos grupos\n",
        "\n",
        "* first()\n",
        "\n",
        "Calcular o primeiro valor de ocorrência em cada grupo\n",
        "\n",
        "* idxmax()*\n",
        "\n",
        "Calcule o índice do valor máximo em cada grupo\n",
        "\n",
        "* idxmin()*\n",
        "\n",
        "Calcule o índice do valor mínimo em cada grupo\n",
        "\n",
        "* last()\n",
        "\n",
        "Calcular o último valor ocorrido em cada grupo\n",
        "\n",
        "* max()\n",
        "\n",
        "Calcule o valor máximo em cada grupo\n",
        "\n",
        "* mean()\n",
        "\n",
        "Calcule a média de cada grupo\n",
        "\n",
        "* median()\n",
        "\n",
        "Calcule a mediana de cada grupo\n",
        "\n",
        "* min()\n",
        "\n",
        "Calcule o valor mínimo em cada grupo\n",
        "\n",
        "* nunique()\n",
        "\n",
        "Calcular o número de valores únicos em cada grupo\n",
        "\n",
        "* prod()\n",
        "\n",
        "Calcule o produto dos valores em cada grupo\n",
        "\n",
        "* quantile()\n",
        "\n",
        "Calcular um determinado quantil dos valores em cada grupo\n",
        "\n",
        "* sem()\n",
        "\n",
        "Calcule o erro padrão da média dos valores em cada grupo\n",
        "\n",
        "* size()\n",
        "\n",
        "Calcular o número de valores em cada grupo\n",
        "\n",
        "* skew()*\n",
        "\n",
        "Calcule a inclinação dos valores em cada grupo\n",
        "\n",
        "* std()\n",
        "\n",
        "Calcule o desvio padrão dos valores em cada grupo\n",
        "\n",
        "* sum()\n",
        "\n",
        "Calcular a soma dos valores em cada grupo\n",
        "\n",
        "* var()\n",
        "\n",
        "Calcule a variância dos valores em cada grupo"
      ],
      "metadata": {
        "id": "paRuLrpEesj5"
      }
    },
    {
      "cell_type": "code",
      "source": [
        "ll = [['foo', 1], ['foo', 2], ['foo', 2], ['bar', 1], ['bar', 1]]\n",
        "\n",
        "df4 = pd.DataFrame(ll, columns=[\"A\", \"B\"])\n",
        "\n",
        "df4"
      ],
      "metadata": {
        "id": "8sCsBmy_eqg2"
      },
      "execution_count": null,
      "outputs": []
    },
    {
      "cell_type": "code",
      "source": [
        "df4.groupby(\"A\")[\"B\"].nunique()"
      ],
      "metadata": {
        "id": "jEpLKBc7gd1q"
      },
      "execution_count": null,
      "outputs": []
    },
    {
      "cell_type": "markdown",
      "source": [
        "### Aplicando várias funções de agregação ao mesmo tempo"
      ],
      "metadata": {
        "id": "bYphJDadiFHV"
      }
    },
    {
      "cell_type": "code",
      "source": [
        "grouped = df.groupby(\"A\")\n",
        "\n",
        "grouped[\"C\"].agg([\"sum\", \"mean\", \"std\"])"
      ],
      "metadata": {
        "id": "gaH8JJrriKlC"
      },
      "execution_count": null,
      "outputs": []
    },
    {
      "cell_type": "markdown",
      "source": [
        "É possível renomear as colunas após aplicar as funções de agregação da seguinte maneira:"
      ],
      "metadata": {
        "id": "SWzUoyb2ic4c"
      }
    },
    {
      "cell_type": "code",
      "source": [
        "(\n",
        "    grouped[\"C\"]\n",
        "    .agg([\"sum\", \"mean\", \"std\"])\n",
        "    .rename(columns={\"sum\": \"foo\", \"mean\": \"bar\", \"std\": \"baz\"})\n",
        ")\n"
      ],
      "metadata": {
        "id": "xnFLDPWviiuG"
      },
      "execution_count": null,
      "outputs": []
    },
    {
      "cell_type": "markdown",
      "source": [
        "Aplicando funções diferentes para colunas diferentes"
      ],
      "metadata": {
        "id": "x3DmVxYXjHrh"
      }
    },
    {
      "cell_type": "code",
      "source": [
        "grouped.agg({\"C\": \"sum\", \"D\": lambda x: np.std(x, ddof=1)})"
      ],
      "metadata": {
        "id": "zwNIenkniRkm"
      },
      "execution_count": null,
      "outputs": []
    },
    {
      "cell_type": "markdown",
      "source": [
        "### Agrupando e fazendo a contagem distinta dos elementos de cada coluna para o agrupamento"
      ],
      "metadata": {
        "id": "Uw3t-Ms_nAdn"
      }
    },
    {
      "cell_type": "markdown",
      "source": [
        "\n",
        "\n",
        "```\n",
        "series.nunique()\n",
        "```\n",
        "\n",
        "\n",
        "Mostra o número de valores únicos em uma série ou em um DataFrame."
      ],
      "metadata": {
        "id": "tiW4XEt-mQ4Y"
      }
    },
    {
      "cell_type": "code",
      "source": [
        "# Exemplo de uma série\n",
        "s = pd.Series([1, 2, 3, 4, 5, 2, 4, 6, 4])\n",
        "\n",
        "# Calcular o número de valores únicos na série\n",
        "num_valores_unicos = s.nunique()\n",
        "\n",
        "print(num_valores_unicos)\n"
      ],
      "metadata": {
        "id": "-IvIDXDbmrdY"
      },
      "execution_count": null,
      "outputs": []
    },
    {
      "cell_type": "markdown",
      "source": [
        "Ex: Contagem de quantos amigos distintos cada pessoa possui."
      ],
      "metadata": {
        "id": "QJBfSkmVnTSQ"
      }
    },
    {
      "cell_type": "code",
      "source": [
        "# Exemplo de DataFrame\n",
        "df = pd.DataFrame({'nome': ['João', 'Maria', 'João', 'Pedro', 'Maria'],\n",
        "                   'amigo': ['Ana', 'João', 'Pedro', 'Ana', 'Carlos']})\n",
        "\n",
        "# Agrupar por \"nome\" e contar a quantidade distinta de \"amigo\"\n",
        "resultado = df.groupby('nome')['amigo'].nunique().reset_index()\n",
        "\n",
        "print(resultado)"
      ],
      "metadata": {
        "id": "BVgH-jpsnIZR"
      },
      "execution_count": null,
      "outputs": []
    },
    {
      "cell_type": "markdown",
      "source": [
        "## Excluindo itens repetidos de uma lista"
      ],
      "metadata": {
        "id": "t9RvZFyDpZ6e"
      }
    },
    {
      "cell_type": "markdown",
      "source": [
        "O `set()` é uma estrutura de dados que armazena apenas elementos únicos. Por exemplo:"
      ],
      "metadata": {
        "id": "-oKV1mgJplFz"
      }
    },
    {
      "cell_type": "code",
      "source": [
        "lista = [1, 1, 1, 1, 2, 2, 2, 2, 2, 2, 2, 3]\n",
        "\n",
        "lista_unica = list(set(lista))\n",
        "\n",
        "print(lista_unica)\n"
      ],
      "metadata": {
        "id": "M_T6QLY3ph5p"
      },
      "execution_count": null,
      "outputs": []
    },
    {
      "cell_type": "code",
      "source": [
        "import io\n",
        "dataset = pd.read_csv(io.BytesIO(uploaded['teste2.csv']))"
      ],
      "metadata": {
        "id": "FBfT_-5-ugi-"
      },
      "execution_count": null,
      "outputs": []
    },
    {
      "cell_type": "code",
      "source": [
        "from google.colab import files\n",
        "uploaded=files.upload()"
      ],
      "metadata": {
        "id": "YTFc8HxJudjd"
      },
      "execution_count": null,
      "outputs": []
    },
    {
      "cell_type": "code",
      "source": [
        "import pandas as pd\n",
        "\n",
        "# Exemplo de DataFrame\n",
        "df = pd.DataFrame({'nome': ['João', 'Maria', 'João', 'Pedro', 'Maria'],\n",
        "                   'amigo': ['Ana', 'João', 'Pedro', 'Ana', 'Carlos']})\n",
        "\n",
        "# Agrupar por \"nome\" e contar a quantidade distinta de \"amigo\"\n",
        "resultado = df.groupby('nome')['amigo'].nunique().reset_index()\n",
        "\n",
        "# Renomear a coluna resultante\n",
        "resultado.rename(columns={'amigo': 'quantidade_amigos_distintos'}, inplace=True)\n",
        "\n",
        "print(resultado)\n"
      ],
      "metadata": {
        "id": "uqCju1v0_fBL"
      },
      "execution_count": null,
      "outputs": []
    },
    {
      "cell_type": "markdown",
      "source": [
        "## Verificar dados repetidos de um dataset usando duplicated()"
      ],
      "metadata": {
        "id": "Kwzb4_2wZ5H4"
      }
    },
    {
      "cell_type": "markdown",
      "source": [
        "O método duplicated() em pandas é usado para identificar valores duplicados em um DataFrame ou em uma série. Aqui estão os principais parâmetros do método duplicated():\n",
        "\n",
        "* subset: Define as colunas a serem consideradas ao identificar valores duplicados. Pode ser uma lista de colunas ou uma única coluna. O valor padrão é None, o que significa que todas as colunas são consideradas.\n",
        "* keep: Controla qual ocorrência de valores duplicados será considerada como não duplicada. Alguns valores possíveis são:\n",
        "    * 'first': Marca todas as ocorrências duplicadas, exceto a primeira, como duplicadas.\n",
        "    * 'last': Marca todas as ocorrências duplicadas, exceto a última, como duplicadas.\n",
        "* False: Marca todas as ocorrências duplicadas como duplicadas.\n",
        "* inplace: Especifica se a operação deve ser aplicada diretamente ao DataFrame ou à série, ou se deve ser retornada uma cópia modificada. O valor padrão é False, o que significa que uma cópia modificada é retornada. Se definido como True, a operação é aplicada diretamente e nenhuma cópia é retornada."
      ],
      "metadata": {
        "id": "rEtWCRvIaI4o"
      }
    },
    {
      "cell_type": "code",
      "source": [
        "import pandas as pd\n",
        "df = pd.DataFrame({'nome': ['João', 'Maria', 'João', 'Pedro', 'Maria','Maria'],\n",
        "                   'amigo': ['Ana', 'Carlos', 'Pedro', 'João', 'Carlos','Carlos']})\n",
        "df"
      ],
      "metadata": {
        "id": "8Sp4r8PRZ9gZ"
      },
      "execution_count": null,
      "outputs": []
    },
    {
      "cell_type": "code",
      "source": [
        "df.duplicated(subset=['nome'])"
      ],
      "metadata": {
        "id": "uroVfmclasyr"
      },
      "execution_count": null,
      "outputs": []
    },
    {
      "cell_type": "code",
      "source": [
        "df.duplicated()"
      ],
      "metadata": {
        "id": "XNC-lkxId34O"
      },
      "execution_count": null,
      "outputs": []
    },
    {
      "cell_type": "code",
      "source": [
        "df.drop_duplicates(inplace=True)"
      ],
      "metadata": {
        "id": "qj_3oG4EeZek"
      },
      "execution_count": null,
      "outputs": []
    },
    {
      "cell_type": "code",
      "source": [
        "df"
      ],
      "metadata": {
        "id": "BDurHBmLejiJ"
      },
      "execution_count": null,
      "outputs": []
    },
    {
      "cell_type": "markdown",
      "source": [
        "## Excluindos linhas e colunas com dados nulos usando o comando Dropna()"
      ],
      "metadata": {
        "id": "jUw39xEVS4jk"
      }
    },
    {
      "cell_type": "markdown",
      "source": [
        "O método dropna() em pandas é usado para remover linhas ou colunas contendo valores ausentes (NaN) de um DataFrame. Aqui estão os principais parâmetros do método dropna():\n",
        "\n",
        "* axis: Especifica se as linhas ou colunas devem ser removidas. O valor padrão é 0 (linhas). Use axis=1 para remover colunas.\n",
        "* how: Define como deve ser tratada a remoção. Os valores possíveis são:\n",
        "    * 'any': Remove a linha ou coluna se houver pelo menos um valor NaN.\n",
        "    * 'all': Remove a linha ou coluna somente se todos os valores forem NaN.\n",
        "thresh: Especifica o número mínimo de valores não NaN necessários para manter a linha ou coluna. Se o número de valores não NaN for menor do que thresh, a linha ou coluna é removida.\n",
        "* subset: Define as colunas a serem consideradas ao remover linhas contendo valores NaN. Pode ser uma lista de colunas ou uma única coluna.\n",
        "* inplace: Especifica se a operação deve ser aplicada diretamente ao DataFrame ou se deve ser retornada uma cópia modificada. O valor padrão é False, o que significa que uma cópia modificada é retornada. Se definido como True, a operação é aplicada diretamente ao DataFrame e nenhuma cópia é retornada.\n",
        "ignore_index: Especifica se o índice do DataFrame resultante deve ser redefinido. O valor padrão é False. Se definido como True, o índice será redefinido começando de zero."
      ],
      "metadata": {
        "id": "rdccu40bS-2Y"
      }
    },
    {
      "cell_type": "markdown",
      "source": [
        "## Substituir dados ausentes usando .fillna()"
      ],
      "metadata": {
        "id": "VEZRVAcQXj2T"
      }
    },
    {
      "cell_type": "markdown",
      "source": [
        "O método fillna() em pandas é usado para preencher valores ausentes (NaN) em um DataFrame ou em uma série. Aqui estão os principais parâmetros do método fillna():\n",
        "\n",
        "* value: O valor a ser usado para preencher os valores ausentes. Pode ser um valor escalar, como um número ou uma string, ou um dicionário que mapeia colunas para valores específicos.\n",
        "* method: Define um método de preenchimento. Alguns valores possíveis são:\n",
        "    * 'pad' ou 'ffill': Preenche os valores ausentes com o valor anterior válido (forward fill), pode ser usado, por exemplo, para séries temporais.\n",
        "    * 'backfill' ou 'bfill': Preenche os valores ausentes com o próximo valor válido (backward fill).\n",
        "* axis: Especifica se o preenchimento deve ser feito ao longo das linhas (axis=0) ou colunas (axis=1).\n",
        "* inplace: Especifica se a operação deve ser aplicada diretamente ao DataFrame ou à série, ou se deve ser retornada uma cópia modificada. O valor padrão é False, o que significa que uma cópia modificada é retornada. Se definido como True, a operação é aplicada diretamente e nenhuma cópia é retornada.\n",
        "* limit: Especifica o número máximo de valores a serem preenchidos consecutivamente. É usado em conjunto com method='ffill' ou method='bfill' para limitar o preenchimento consecutivo.\n",
        "* downcast: Controla a conversão de tipos de dados após o preenchimento. Pode ser definido como 'infer' para inferir automaticamente o tipo de dados ou especificar um tipo de dados válido."
      ],
      "metadata": {
        "id": "yFCKDGTSXovC"
      }
    },
    {
      "cell_type": "markdown",
      "source": [
        "Pode-se usar um dicionário para que seja usando uma regra diferente de trocal valores NaN para cada coluna. Por exemplo:\n",
        "\n",
        "\n",
        "\n",
        "```\n",
        "df.fillna(value={'Coluna1': 'Não tem nada', 'Coluna2': 0, 'Coluna3': df['coluna3].mean()})\n",
        "```\n",
        "\n"
      ],
      "metadata": {
        "id": "XHFL0KCiYVD6"
      }
    },
    {
      "cell_type": "markdown",
      "source": [
        "## Tranformar um dados em outro usando map()"
      ],
      "metadata": {
        "id": "pZsjTDyUfLU2"
      }
    },
    {
      "cell_type": "code",
      "source": [
        "df = pd.DataFrame({'nome': ['João', 'Maria', 'João', 'Pedro', 'Maria','Maria', 'Luiza'],\n",
        "                   'amigo': ['Ana', 'Carlos', 'Pedro', 'João', 'Carlos','Carlos',np.NaN]})\n",
        "df"
      ],
      "metadata": {
        "id": "hiyiglp0fm4p"
      },
      "execution_count": null,
      "outputs": []
    },
    {
      "cell_type": "markdown",
      "source": [
        "Suponha que eu quero criar uma coluna que chama 'iniciais' e Considera as duas primeiras letras dos registros da coluna 'amigo'.\n",
        "\n",
        "Nesse caso vamos usar `df['amigo']`\n",
        "\n",
        "`df['amigo'].map(lambda x: função)`\n",
        "\n",
        "O `x` após o lambda representa os elementos de `df['amigo']`\n",
        "\n",
        "Queremos fazer o seguinte com os elementos da coluna \"amigo\":"
      ],
      "metadata": {
        "id": "rYRVWborfzr1"
      }
    },
    {
      "cell_type": "code",
      "source": [
        "str('Ana')[0:2]"
      ],
      "metadata": {
        "id": "1J2xqp-vgwH8"
      },
      "execution_count": null,
      "outputs": []
    },
    {
      "cell_type": "code",
      "source": [
        "str('df['amigo']')[0:2]"
      ],
      "metadata": {
        "id": "ZlijPzoHg_Rs"
      },
      "execution_count": null,
      "outputs": []
    },
    {
      "cell_type": "markdown",
      "source": [
        "Como `x` representa os elementos da coluna amigo, então:\n",
        "\n",
        "`str(x)[0:2]`\n",
        "\n",
        "Nesse caso, função = `str(x)[0:2]`, e fica:"
      ],
      "metadata": {
        "id": "_UKPUuB6hGEQ"
      }
    },
    {
      "cell_type": "code",
      "source": [
        "df['amigo'].map(lambda x: str(x)[0:2])"
      ],
      "metadata": {
        "id": "XnQ6PIUthXsR"
      },
      "execution_count": null,
      "outputs": []
    },
    {
      "cell_type": "markdown",
      "source": [
        "Portanto,"
      ],
      "metadata": {
        "id": "uubWq6AMhg4E"
      }
    },
    {
      "cell_type": "code",
      "source": [
        "df['iniciais']=df['amigo'].map(lambda x: str(x)[0:2])\n",
        "df"
      ],
      "metadata": {
        "id": "OeRspGeNhj02"
      },
      "execution_count": null,
      "outputs": []
    },
    {
      "cell_type": "markdown",
      "source": [
        "Se tivesse algum registro `NaN` suponha que eu gostaria que retornasse `NaN`, então desejamos que ocorra a seguinte condição:\n",
        "\n",
        "\n",
        "```\n",
        "if x is not np.NaN:\n",
        "    str(x)[0:2]\n",
        "else:\n",
        "    np.NaN\n",
        "```\n",
        "\n",
        "Podemos reescrever essa condição da forma reduzida da seguinte forma:\n",
        "\n",
        "\n",
        "```\n",
        "str(x)[0:2] if x is not np.NaN else np.NaN\n",
        "```\n",
        "\n",
        "E passar essa condição para a função `map`\n",
        "\n",
        "\n"
      ],
      "metadata": {
        "id": "LupiHIhTh2b4"
      }
    },
    {
      "cell_type": "code",
      "source": [
        "df['iniciais']=df['amigo'].map(lambda x: str(x)[0:2] if x is not np.NaN else np.NaN)\n",
        "df"
      ],
      "metadata": {
        "id": "eMjJl7LiiHXs"
      },
      "execution_count": null,
      "outputs": []
    },
    {
      "cell_type": "markdown",
      "source": [
        "## Tranformar um dados em outro usando replace()"
      ],
      "metadata": {
        "id": "EwDywmY-jsh9"
      }
    },
    {
      "cell_type": "markdown",
      "source": [
        "O método replace() em Python é usado para substituir valores em uma string por outros valores. Aqui estão os principais parâmetros do método replace():\n",
        "\n",
        "* old: O valor ou padrão a ser substituído na string.\n",
        "* new: O valor que substituirá o valor ou padrão antigo na string.\n",
        "* count (opcional): O número máximo de ocorrências a serem substituídas. Se não for especificado, todas as ocorrências serão substituídas.\n",
        "* flags (opcional): Uma ou várias flags para controlar o comportamento da substituição. As flags podem ser usadas para diferenciar maiúsculas de minúsculas, habilitar a correspondência multi-linha, entre outras."
      ],
      "metadata": {
        "id": "sF1_kC5Hj_vR"
      }
    },
    {
      "cell_type": "code",
      "source": [
        "string = \"Hello, World!\"\n",
        "new_string = string.replace(\"Hello\", \"Hi\")\n",
        "\n",
        "print(new_string)\n"
      ],
      "metadata": {
        "id": "WLM7ozPVjxgT"
      },
      "execution_count": null,
      "outputs": []
    },
    {
      "cell_type": "markdown",
      "source": [
        "Para trocar vários dados de maneiras diferentes simultaneamente é possível representar as alretações como uma lista da seguinte maneira:"
      ],
      "metadata": {
        "id": "-cuEWmUQkTeT"
      }
    },
    {
      "cell_type": "code",
      "source": [
        "df"
      ],
      "metadata": {
        "id": "xq-3huILkSiV"
      },
      "execution_count": null,
      "outputs": []
    },
    {
      "cell_type": "code",
      "source": [
        "df.replace(['João', 'Pedro', 'Luiza'],['Joãozinho','Pedrão', 'Lulu'])"
      ],
      "metadata": {
        "id": "C_-Iqatvkgqz"
      },
      "execution_count": null,
      "outputs": []
    },
    {
      "cell_type": "markdown",
      "source": [
        "## Discretização de dados - Como definir intervalos de valores para colocar um grupo usando cut()"
      ],
      "metadata": {
        "id": "Yxoy5D0nk9FN"
      }
    },
    {
      "cell_type": "code",
      "source": [
        "dfcut = pd.DataFrame({'nome': ['João', 'Maria', 'José', 'Pedro', 'Marta','Marcia', 'Luiza'],\n",
        "                   'idade': [12, 4, 2, 1, 15, 16,11]})"
      ],
      "metadata": {
        "id": "g6PltFhnmyt6"
      },
      "execution_count": null,
      "outputs": []
    },
    {
      "cell_type": "code",
      "source": [
        "intervalos=[0,5,10,15,20]"
      ],
      "metadata": {
        "id": "Dm7HZPOVlKQb"
      },
      "execution_count": null,
      "outputs": []
    },
    {
      "cell_type": "code",
      "source": [
        "dfcut['faixa etaria']=pd.cut(dfcut['idade'].to_numpy(), bins=intervalos)\n",
        "dfcut"
      ],
      "metadata": {
        "id": "XmOouY1NnPo_"
      },
      "execution_count": null,
      "outputs": []
    },
    {
      "cell_type": "code",
      "source": [
        "dfcut['faixa etaria']=pd.cut(dfcut['idade'].to_numpy(), bins=intervalos, labels=['<5','entre 5 e 10', 'entre 10 e 15', 'entre 15 e 20'])\n",
        "dfcut"
      ],
      "metadata": {
        "id": "MmiYtSGyoRTv"
      },
      "execution_count": null,
      "outputs": []
    },
    {
      "cell_type": "code",
      "source": [
        "dfcut['faixa etaria'].value_counts()"
      ],
      "metadata": {
        "id": "cBYEYGIHoj-v"
      },
      "execution_count": null,
      "outputs": []
    },
    {
      "cell_type": "markdown",
      "source": [
        "## Mostrar registros repetidos num dataframe"
      ],
      "metadata": {
        "id": "9P6eh0Ny9ryB"
      }
    },
    {
      "cell_type": "code",
      "source": [
        "data = {'Coluna1': [1, 1, 2, 3, 3, 4, 4],\n",
        "        'Coluna2': ['a', 'b', 'b', 'c', 'c', 'd', 'd']}\n",
        "df = pd.DataFrame(data)\n",
        "df\n"
      ],
      "metadata": {
        "id": "KXGq6veY9xTj"
      },
      "execution_count": null,
      "outputs": []
    },
    {
      "cell_type": "code",
      "source": [
        "duplicatas = df.duplicated(keep=False)"
      ],
      "metadata": {
        "id": "Xl-b7gGK93d9"
      },
      "execution_count": null,
      "outputs": []
    },
    {
      "cell_type": "code",
      "source": [
        "registros_duplicados = df.loc[duplicatas]"
      ],
      "metadata": {
        "id": "hFWiErrh96x-"
      },
      "execution_count": null,
      "outputs": []
    },
    {
      "cell_type": "code",
      "source": [
        "registros_duplicados"
      ],
      "metadata": {
        "id": "y8Zd_j_I992l"
      },
      "execution_count": null,
      "outputs": []
    },
    {
      "cell_type": "markdown",
      "source": [
        "## Excluir registros repetidos num dataframe"
      ],
      "metadata": {
        "id": "RBqy8dQf8fxh"
      }
    },
    {
      "cell_type": "code",
      "source": [
        "data = {'Coluna1': [1, 1, 2, 3, 3, 4, 4],\n",
        "        'Coluna2': ['a', 'b', 'b', 'c', 'c', 'd', 'd']}\n",
        "df = pd.DataFrame(data)\n",
        "df\n"
      ],
      "metadata": {
        "id": "GqoesVNJ8piD"
      },
      "execution_count": null,
      "outputs": []
    },
    {
      "cell_type": "code",
      "source": [
        "# Remover registros duplicados\n",
        "df_sem_duplicatas = df.drop_duplicates()\n",
        "\n",
        "df_sem_duplicatas"
      ],
      "metadata": {
        "id": "cUFSECUs8-Yw"
      },
      "execution_count": null,
      "outputs": []
    },
    {
      "cell_type": "markdown",
      "source": [
        "## Métodos para limpeza dos dados"
      ],
      "metadata": {
        "id": "4BldjKzv7foN"
      }
    },
    {
      "cell_type": "code",
      "source": [
        "df.select_dtypes(include=[\"float\",\"int\"])"
      ],
      "metadata": {
        "id": "3TefP6kA7oSG"
      },
      "execution_count": null,
      "outputs": []
    },
    {
      "cell_type": "code",
      "source": [
        "somar_colunas=df[\"Impressions\"].sum()"
      ],
      "metadata": {
        "id": "s_lnImuT7-rk"
      },
      "execution_count": null,
      "outputs": []
    },
    {
      "cell_type": "code",
      "source": [
        "max_coluna=df[\"Impressions\"].max()"
      ],
      "metadata": {
        "id": "r9WO7rHM8Uj6"
      },
      "execution_count": null,
      "outputs": []
    },
    {
      "cell_type": "code",
      "source": [
        "#substitui todos os valores NaN por \"vazio\"\n",
        "df[\"Impressions\"].fillna(\"vazio\")"
      ],
      "metadata": {
        "id": "zVtkpig48jiK"
      },
      "execution_count": null,
      "outputs": []
    },
    {
      "cell_type": "code",
      "source": [
        "#substitui os valores NaN pelo valor da mesma coluna na linha acima\n",
        "df.fillna(method=\"ffill\")"
      ],
      "metadata": {
        "id": "MdJ8yX3m-FLg"
      },
      "execution_count": null,
      "outputs": []
    },
    {
      "cell_type": "code",
      "source": [
        "#substitui os valores NaN pelo valor do dict valores, onde a coluna Conversions é colocado 89 e a coluna Impressions é usado \"Não sei\"\n",
        "valores = {\"Conversions\": 89, \"Impressions\": \"Não sei\"}\n",
        "df.fillna(value=valores)"
      ],
      "metadata": {
        "id": "rs-wlkOF-Q47"
      },
      "execution_count": null,
      "outputs": []
    },
    {
      "cell_type": "code",
      "source": [
        "#substitui os valores NaN pelo valor do dict valores,\n",
        "#onde a coluna Conversions é colocado 89 e a coluna Impressions é usado \"Não sei\" em apenas um elemento\n",
        "valores = {\"Conversions\": 89, \"Impressions\": \"Não sei\"}\n",
        "df.fillna(value=valores, limit=1)"
      ],
      "metadata": {
        "id": "9xvRtavQ-5-2"
      },
      "execution_count": null,
      "outputs": []
    },
    {
      "cell_type": "code",
      "source": [
        "df_teste = pd.DataFrame({'nome': ['João', 'Maria', 'João', 'Pedro', 'Maria'],\n",
        "                   'c1': [1,5,6,3,4],\n",
        "                    'c2': [12,54,32,42,47]})\n",
        "df_teste"
      ],
      "metadata": {
        "id": "V9ltQUHTDv83"
      },
      "execution_count": null,
      "outputs": []
    },
    {
      "cell_type": "code",
      "source": [
        "#soma o total de linhas\n",
        "df_teste.count()"
      ],
      "metadata": {
        "id": "8CKEW3jvEW20"
      },
      "execution_count": null,
      "outputs": []
    },
    {
      "cell_type": "code",
      "source": [
        "#soma o total de colunas\n",
        "df_teste.count(axis='columns')"
      ],
      "metadata": {
        "id": "fukuTbJ8EaS0"
      },
      "execution_count": null,
      "outputs": []
    },
    {
      "cell_type": "code",
      "source": [
        "df_teste.sum()"
      ],
      "metadata": {
        "id": "0fkBFA8uEutf"
      },
      "execution_count": null,
      "outputs": []
    },
    {
      "cell_type": "code",
      "source": [
        "#Alterar o parâmetro do eixo para 'colunas' altera a direção da operação para que possamos obter a soma\n",
        "#de itens não ausentes em cada linha\n",
        "df_teste[['c1','c2']].sum(axis='columns')"
      ],
      "metadata": {
        "id": "CDsD2sTfEyhR"
      },
      "execution_count": null,
      "outputs": []
    },
    {
      "cell_type": "code",
      "source": [],
      "metadata": {
        "id": "CU3ZANAwEyl4"
      },
      "execution_count": null,
      "outputs": []
    },
    {
      "cell_type": "markdown",
      "source": [
        "## Consultas em um dataset"
      ],
      "metadata": {
        "id": "meKNH7CJFjid"
      }
    },
    {
      "cell_type": "markdown",
      "source": [
        "### Query"
      ],
      "metadata": {
        "id": "T0ResMv1Fn0x"
      }
    },
    {
      "cell_type": "markdown",
      "source": [
        "A função queru é utilizada quando precisamos de uma expressão para encontrar o que buscamos, muito semelhante as queries de SQL.\n",
        "\n",
        "Sintaxe: `dataframe.query(condicao)`"
      ],
      "metadata": {
        "id": "0RGOzXS4Fppf"
      }
    },
    {
      "cell_type": "code",
      "source": [
        "df.query(('Impressions<500') and ('Conversions!=1'))"
      ],
      "metadata": {
        "id": "SwPu0oQjHAXw"
      },
      "execution_count": null,
      "outputs": []
    },
    {
      "cell_type": "code",
      "source": [
        "df['Day']=pd.to_datetime(df['Day']) #Convertendo a coluna Day para date\n",
        "dia=df['Day'].dt.month\n",
        "df.query('dia==2')\n"
      ],
      "metadata": {
        "id": "b60k6G-PH8-_"
      },
      "execution_count": null,
      "outputs": []
    },
    {
      "cell_type": "markdown",
      "source": [
        "## Excluir acentos dos registros de um dataframe"
      ],
      "metadata": {
        "id": "16-5oCUowg4g"
      }
    },
    {
      "cell_type": "markdown",
      "source": [
        "Para remover acentos de uma coluna em um DataFrame pandas, você pode utilizar a biblioteca unidecode. Esta biblioteca possui uma função `unidecode()` que permite remover acentos e converter caracteres acentuados para suas versões sem acento."
      ],
      "metadata": {
        "id": "qjV4tokWwoVf"
      }
    },
    {
      "cell_type": "code",
      "source": [
        "data = {'Coluna1': ['maçã', 'árvore', 'pêssego']}\n",
        "df = pd.DataFrame(data)\n",
        "df\n"
      ],
      "metadata": {
        "id": "QW_D70Rgw0SO"
      },
      "execution_count": null,
      "outputs": []
    },
    {
      "cell_type": "code",
      "source": [
        "# Remover acentos da coluna 'Coluna1'\n",
        "df['Coluna1'] = df['Coluna1'].apply(lambda x: unidecode(x))\n",
        "df"
      ],
      "metadata": {
        "id": "QfaGEWGoxFER"
      },
      "execution_count": null,
      "outputs": []
    },
    {
      "cell_type": "code",
      "source": [
        "unidecode('maçã')"
      ],
      "metadata": {
        "id": "lLO_rq2LhyRY"
      },
      "execution_count": null,
      "outputs": []
    },
    {
      "cell_type": "markdown",
      "source": [
        "## Diferença entre o método apply(), map() e applymap()"
      ],
      "metadata": {
        "id": "7AMquorx18U3"
      }
    },
    {
      "cell_type": "code",
      "source": [
        "df = pd.DataFrame({\n",
        "    'Col 1': [30,40,50,60],\n",
        "    'Col 2': [23,35,65,45],\n",
        "    'Col 3': [85,87,90,89],\n",
        "\n",
        "},index=[\"A\",\"B\",\"C\",\"D\"])\n",
        "df"
      ],
      "metadata": {
        "id": "m9Mu3Ofk2pLy"
      },
      "execution_count": null,
      "outputs": []
    },
    {
      "cell_type": "markdown",
      "source": [
        "applymap: Ele aplica a função a cada elemento do DataFrame.\n",
        "\n",
        "```dataframe.applymap(funcão,na_action=None)```\n",
        "\n"
      ],
      "metadata": {
        "id": "f4ZIp4dI3BqE"
      }
    },
    {
      "cell_type": "code",
      "source": [
        "scaled_df=df.applymap(lambda a: a*10)\n",
        "scaled_df"
      ],
      "metadata": {
        "id": "JLmCqtvi3A8_"
      },
      "execution_count": null,
      "outputs": []
    },
    {
      "cell_type": "markdown",
      "source": [
        "É possível obter o mesmo resultado usando o loop `for`"
      ],
      "metadata": {
        "id": "H0gPu1yj3fwa"
      }
    },
    {
      "cell_type": "code",
      "source": [
        "altered_df=df.applymap(lambda a: str(a)+\".00\")\n",
        "altered_df"
      ],
      "metadata": {
        "id": "9Gc5l_I33w4q"
      },
      "execution_count": null,
      "outputs": []
    },
    {
      "cell_type": "markdown",
      "source": [
        "map: Só podemos usar o método map() com a coluna particular de um DataFrame.\n",
        "\n",
        "``` df['coluna']=df['coluna'].map(lambda x: f(x) ```\n",
        "Nesse caso o x representa os elementos da coluna e f(x) será a função que será aplicada nesses elementos.\n"
      ],
      "metadata": {
        "id": "SbohrBAq6run"
      }
    },
    {
      "cell_type": "code",
      "source": [
        "df = pd.DataFrame({\n",
        "    'Col 1': [30,40,50,60],\n",
        "    'Col 2': [23,35,65,45],\n",
        "    'Col 3': [85,87,90,89],\n",
        "\n",
        "},index=[\"A\",\"B\",\"C\",\"D\"])\n",
        "df"
      ],
      "metadata": {
        "id": "PS73iBFB7X27"
      },
      "execution_count": null,
      "outputs": []
    },
    {
      "cell_type": "code",
      "source": [
        "df[\"Col 1\"]=df[\"Col 1\"].map(lambda x: x/100)\n",
        "df"
      ],
      "metadata": {
        "id": "vG5vvmaU7bQl"
      },
      "execution_count": null,
      "outputs": []
    },
    {
      "cell_type": "markdown",
      "source": [
        "O método ```apply``` pode alterar um dataframe inteiro ou apenas uma coluna do dataframe.\n",
        "\n",
        "````df.apply(lambda x: f(x)```"
      ],
      "metadata": {
        "id": "YSI3nLa_712J"
      }
    },
    {
      "cell_type": "code",
      "source": [
        "df = pd.DataFrame({\n",
        "    'Col 1': [30,40,50,60],\n",
        "    'Col 2': [23,35,65,45],\n",
        "    'Col 3': [85,87,90,89],\n",
        "\n",
        "},index=[\"A\",\"B\",\"C\",\"D\"])\n",
        "df"
      ],
      "metadata": {
        "id": "q4zu-tYO8Owc"
      },
      "execution_count": null,
      "outputs": []
    },
    {
      "cell_type": "code",
      "source": [
        "altered_df=df.apply(lambda x: x/100)\n",
        "altered_df"
      ],
      "metadata": {
        "id": "LuMrmFuH8LDO"
      },
      "execution_count": null,
      "outputs": []
    },
    {
      "cell_type": "code",
      "source": [
        "df[\"Col 1\"]=df[\"Col 1\"].apply(lambda x: x/100)\n",
        "df"
      ],
      "metadata": {
        "id": "C_bcsF2V8ZQa"
      },
      "execution_count": null,
      "outputs": []
    },
    {
      "cell_type": "markdown",
      "source": [
        "Outro exemplo:"
      ],
      "metadata": {
        "id": "qLmSsdFP9HyV"
      }
    },
    {
      "cell_type": "code",
      "source": [
        "frame = pd.DataFrame(np.random.randn(4, 3), columns=list('bde'), index=['Utah', 'Ohio', 'Texas', 'Oregon'])\n",
        "frame"
      ],
      "metadata": {
        "id": "tX_6ALOW9KyC"
      },
      "execution_count": null,
      "outputs": []
    },
    {
      "cell_type": "markdown",
      "source": [
        "# Dicionários"
      ],
      "metadata": {
        "id": "PrI5P8UYsD3h"
      }
    },
    {
      "cell_type": "markdown",
      "source": [
        "## Criando dicionários"
      ],
      "metadata": {
        "id": "z9-3rywSs1qH"
      }
    },
    {
      "cell_type": "code",
      "source": [
        "# Método usual\n",
        "dicio = {'primeiro': 1, 'segundo':  2, 'terceiro': 3}\n"
      ],
      "metadata": {
        "id": "O8fCJ1ZgsLwT"
      },
      "execution_count": null,
      "outputs": []
    },
    {
      "cell_type": "code",
      "source": [
        "# Não é usual mas é simples\n",
        "dicio2 = dict(primeiro=1, segundo=2, terceiro=3)"
      ],
      "metadata": {
        "id": "dgOq0mbQs4kx"
      },
      "execution_count": null,
      "outputs": []
    },
    {
      "cell_type": "code",
      "source": [
        "# Método diferente mas não é usual\n",
        "dicio_3 = dict(zip(['primeiro', 'segundo', 'terceiro'], [1, 2, 3]))\n"
      ],
      "metadata": {
        "id": "YfkPG8yxtJHU"
      },
      "execution_count": null,
      "outputs": []
    },
    {
      "cell_type": "code",
      "source": [
        "{x: x**2 for x in (2, 4, 6)}"
      ],
      "metadata": {
        "id": "voMMW_TTm_iB"
      },
      "execution_count": null,
      "outputs": []
    },
    {
      "cell_type": "code",
      "source": [
        "questions = ['name', 'quest', 'favorite color']\n",
        "answers = ['lancelot', 'the holy grail', 'blue']\n",
        "for q, a in zip(questions, answers):\n",
        "    print('What is your {0}?  It is {1}.'.format(q, a))"
      ],
      "metadata": {
        "id": "CNJpHuUGnZLR"
      },
      "execution_count": null,
      "outputs": []
    },
    {
      "cell_type": "code",
      "source": [
        "for i, v in enumerate(['tic', 'tac', 'toe']):\n",
        "    print(i, v)"
      ],
      "metadata": {
        "id": "sinZLLUinMGI"
      },
      "execution_count": null,
      "outputs": []
    },
    {
      "cell_type": "markdown",
      "source": [
        "## Obtendo chaves e valores"
      ],
      "metadata": {
        "id": "V6xnOzbauYGO"
      }
    },
    {
      "cell_type": "code",
      "source": [
        "dicio.keys()"
      ],
      "metadata": {
        "id": "sr-p7fh-uXPJ"
      },
      "execution_count": null,
      "outputs": []
    },
    {
      "cell_type": "code",
      "source": [
        "list(dicio.keys())"
      ],
      "metadata": {
        "id": "JhRwjCdwu508"
      },
      "execution_count": null,
      "outputs": []
    },
    {
      "cell_type": "code",
      "source": [
        "dicio.values()"
      ],
      "metadata": {
        "id": "K46YA8ydutJj"
      },
      "execution_count": null,
      "outputs": []
    },
    {
      "cell_type": "markdown",
      "source": [
        "\n",
        "## Ordenando um dicionário de acordo com os values"
      ],
      "metadata": {
        "id": "02Pu2GbGHsOC"
      }
    },
    {
      "cell_type": "code",
      "source": [
        "# Exemplo de dicionário\n",
        "dicionario = {'A': 5, 'B': 2, 'C': 8, 'D': 1}\n",
        "\n",
        "# Ordenar o dicionário pelos valores\n",
        "dicionario_ordenado = dict(sorted(dicionario.items(), key=lambda item: item[1]))\n",
        "\n",
        "print(dicionario_ordenado)\n"
      ],
      "metadata": {
        "id": "yGayCB8yH36v"
      },
      "execution_count": null,
      "outputs": []
    },
    {
      "cell_type": "markdown",
      "source": [
        "## Acessando dados de um dicionário"
      ],
      "metadata": {
        "id": "S3hPnhNFsHro"
      }
    },
    {
      "cell_type": "code",
      "source": [
        "dicio['primeiro']"
      ],
      "metadata": {
        "id": "2A2IPfDrsW48"
      },
      "execution_count": null,
      "outputs": []
    },
    {
      "cell_type": "markdown",
      "source": [
        "é equivalente a"
      ],
      "metadata": {
        "id": "odCmo27kffTi"
      }
    },
    {
      "cell_type": "code",
      "source": [
        "dicio.get('primeiro')"
      ],
      "metadata": {
        "id": "-olMu5ohsjCN"
      },
      "execution_count": null,
      "outputs": []
    },
    {
      "cell_type": "markdown",
      "source": [
        "## Percorrendo elementos de um dicionário"
      ],
      "metadata": {
        "id": "4iS1KbFRr-Yy"
      }
    },
    {
      "cell_type": "code",
      "source": [
        "for chave, valor in dicio.items():\n",
        "    print(f'Chave = {chave} e Valor = {valor}')\n"
      ],
      "metadata": {
        "id": "Fdv5W0-rvuVV"
      },
      "execution_count": null,
      "outputs": []
    },
    {
      "cell_type": "code",
      "source": [
        "for chave in dicio.keys():\n",
        "  print(f'Chave = {chave} e Valor = {dicio[chave]}')\n"
      ],
      "metadata": {
        "id": "mnT_5HcdvOjJ"
      },
      "execution_count": null,
      "outputs": []
    },
    {
      "cell_type": "code",
      "source": [
        "for valor in dicio.values():\n",
        "    print(f'Valor: {valor}')"
      ],
      "metadata": {
        "id": "Ltl_WH5IvdA9"
      },
      "execution_count": null,
      "outputs": []
    },
    {
      "cell_type": "markdown",
      "source": [
        "## Alterando o dicionário"
      ],
      "metadata": {
        "id": "hCcCUwwxwE8S"
      }
    },
    {
      "cell_type": "markdown",
      "source": [
        "### Atualizando"
      ],
      "metadata": {
        "id": "wprjw8qrwtH9"
      }
    },
    {
      "cell_type": "code",
      "source": [
        "# substituindo o primeiro elemento\n",
        "dicio.update({'primeiro': 'um'})\n",
        "dicio"
      ],
      "metadata": {
        "id": "sRGAPxj-wJFJ"
      },
      "execution_count": null,
      "outputs": []
    },
    {
      "cell_type": "code",
      "source": [
        "dicio.update(segundo='dois')\n",
        "dicio"
      ],
      "metadata": {
        "id": "xriKGWNFwhkL"
      },
      "execution_count": null,
      "outputs": []
    },
    {
      "cell_type": "markdown",
      "source": [
        "### Adicionando"
      ],
      "metadata": {
        "id": "1-aualOxxAsa"
      }
    },
    {
      "cell_type": "code",
      "source": [
        "dicio['quarto']=4\n",
        "dicio"
      ],
      "metadata": {
        "id": "7TdKlVJfxAH5"
      },
      "execution_count": null,
      "outputs": []
    },
    {
      "cell_type": "markdown",
      "source": [
        "### Copiando dicionário"
      ],
      "metadata": {
        "id": "lB9kYpL9x2bJ"
      }
    },
    {
      "cell_type": "code",
      "source": [
        "dicio_copia=dicio.copy()"
      ],
      "metadata": {
        "id": "19sVgKfJx4_r"
      },
      "execution_count": null,
      "outputs": []
    },
    {
      "cell_type": "markdown",
      "source": [
        "### Excluindo"
      ],
      "metadata": {
        "id": "1keAroCswxH4"
      }
    },
    {
      "cell_type": "markdown",
      "source": [
        "#### Excluindo um item pela chave"
      ],
      "metadata": {
        "id": "Mgp6riplxk6Z"
      }
    },
    {
      "cell_type": "code",
      "source": [
        "\n",
        "dicio.pop('primeiro')"
      ],
      "metadata": {
        "id": "FtSqrdzGwzQq"
      },
      "execution_count": null,
      "outputs": []
    },
    {
      "cell_type": "code",
      "source": [
        "dicio"
      ],
      "metadata": {
        "id": "wx6bokpjxVK2"
      },
      "execution_count": null,
      "outputs": []
    },
    {
      "cell_type": "markdown",
      "source": [
        "#### Excluindo o último item"
      ],
      "metadata": {
        "id": "XSRQCVFfxpD5"
      }
    },
    {
      "cell_type": "code",
      "source": [
        "dicio.popitem()"
      ],
      "metadata": {
        "id": "IEcs1zJ1xf6z"
      },
      "execution_count": null,
      "outputs": []
    },
    {
      "cell_type": "code",
      "source": [
        "dicio"
      ],
      "metadata": {
        "id": "i-ii7tpIxuVp"
      },
      "execution_count": null,
      "outputs": []
    },
    {
      "cell_type": "markdown",
      "source": [
        "#### Excluindo todos os itens de um dicionário"
      ],
      "metadata": {
        "id": "lP36t9UIySmF"
      }
    },
    {
      "cell_type": "code",
      "source": [
        "dicio.clear()"
      ],
      "metadata": {
        "id": "sT51AXTfyQ_x"
      },
      "execution_count": null,
      "outputs": []
    },
    {
      "cell_type": "code",
      "source": [
        "dicio"
      ],
      "metadata": {
        "id": "xtGwREKnyfg8"
      },
      "execution_count": null,
      "outputs": []
    },
    {
      "cell_type": "markdown",
      "source": [
        "#### Retornar o valor da chave ou criá-la caso não exista"
      ],
      "metadata": {
        "id": "aZoOEFkgywqX"
      }
    },
    {
      "cell_type": "code",
      "source": [
        "dicio = {'coleta': 'scrapy', 'dados': 200}"
      ],
      "metadata": {
        "id": "BYBlX0V8y83y"
      },
      "execution_count": null,
      "outputs": []
    },
    {
      "cell_type": "code",
      "source": [
        "set_dados = dicio.setdefault('dados')"
      ],
      "metadata": {
        "id": "3EVjoxB2zPg6"
      },
      "execution_count": null,
      "outputs": []
    },
    {
      "cell_type": "code",
      "source": [
        "# Como 'dados' já existia em dicio, então setdefault retorna o seu valor.\n",
        "print(set_dados)"
      ],
      "metadata": {
        "id": "CqS5r4LXzPlF"
      },
      "execution_count": null,
      "outputs": []
    },
    {
      "cell_type": "code",
      "source": [
        "print(dicio)"
      ],
      "metadata": {
        "id": "JUvx43nuzkqX"
      },
      "execution_count": null,
      "outputs": []
    },
    {
      "cell_type": "code",
      "source": [
        "# como 'data' não está em dicio, então ele criará uma chave 'data' com valor vazio\n",
        "set_data = dicio.setdefault('data')"
      ],
      "metadata": {
        "id": "HULkDX2tzxGi"
      },
      "execution_count": null,
      "outputs": []
    },
    {
      "cell_type": "code",
      "source": [
        "#Retorna o valor da chave criada\n",
        "print(set_data)"
      ],
      "metadata": {
        "id": "funUrI5Rz3Lw"
      },
      "execution_count": null,
      "outputs": []
    },
    {
      "cell_type": "code",
      "source": [
        "# Como não existe a chave 'teste', ele a criará com o valor 1.\n",
        "set_teste = dicio.setdefault('teste', 1)\n"
      ],
      "metadata": {
        "id": "OeA-m8in07Qu"
      },
      "execution_count": null,
      "outputs": []
    },
    {
      "cell_type": "code",
      "source": [
        "#retorna o valor da chave criada\n",
        "print(set_teste)"
      ],
      "metadata": {
        "id": "lZ4ZcxQ81T_C"
      },
      "execution_count": null,
      "outputs": []
    },
    {
      "cell_type": "code",
      "source": [
        "dicio"
      ],
      "metadata": {
        "id": "5Dla3kc31Yuq"
      },
      "execution_count": null,
      "outputs": []
    },
    {
      "cell_type": "markdown",
      "source": [
        "## Criando Dicionários a partir de lista de valores\n"
      ],
      "metadata": {
        "id": "9HSymHbQysjZ"
      }
    },
    {
      "cell_type": "markdown",
      "source": [
        "* Com `dict.fromkeys()` é possível criar um dicionário a partir de uma lista de chaves e um valor, que será usado em todas as chaves."
      ],
      "metadata": {
        "id": "dNUVYwlT1sG3"
      }
    },
    {
      "cell_type": "code",
      "source": [
        "chaves = ['chave1', 'chave2', 'chave3']\n",
        "valor = 0\n",
        "\n",
        "dicio = dict.fromkeys(chaves , valor)\n",
        "dicio"
      ],
      "metadata": {
        "id": "jqBmK08J1mcw"
      },
      "execution_count": null,
      "outputs": []
    },
    {
      "cell_type": "code",
      "source": [
        "#Observe que o valor sempre será o mesmo para todas as chaves, mesmo que seja uma lista\n",
        "chaves2 = ['chave1', 'chave2', 'chave3']\n",
        "valor2 = [1,2,3]\n",
        "\n",
        "dicio2 = dict.fromkeys(chaves2 , valor2)\n",
        "dicio2"
      ],
      "metadata": {
        "id": "ztNn3e6315DD"
      },
      "execution_count": null,
      "outputs": []
    },
    {
      "cell_type": "markdown",
      "source": [
        "## args e kwargs"
      ],
      "metadata": {
        "id": "aSK7M3FD28rL"
      }
    },
    {
      "cell_type": "markdown",
      "source": [
        "* `args` é uma convenção para tratar argumentos posicionais em uma função. Ele permite que uma função receba um número variável de argumentos posicionais, ou seja, argumentos que são passados sem especificar seu nome. Dentro da função, args é uma tupla que contém todos os argumentos posicionais fornecidos. É comum usar o nome args, mas o nome em si não é obrigatório - você pode usar qualquer outro nome, desde que seja precedido por um único asterisco *.\n",
        "\n",
        "O fato de ter * em frente ao argumento ao definir uma função, significa que pode-se definir quantos argumentos for necessário, e esses argumentos serão uma tupla."
      ],
      "metadata": {
        "id": "z2KyzXcKDyaE"
      }
    },
    {
      "cell_type": "code",
      "source": [
        "def funcao(args):\n",
        "    print(args)\n"
      ],
      "metadata": {
        "id": "sBm25CY53OCa"
      },
      "execution_count": null,
      "outputs": []
    },
    {
      "cell_type": "code",
      "source": [
        "funcao('oi')"
      ],
      "metadata": {
        "id": "TcxQ0KzD3Pht"
      },
      "execution_count": null,
      "outputs": []
    },
    {
      "cell_type": "code",
      "source": [
        "funcao('oi','ana')"
      ],
      "metadata": {
        "id": "kT7fLbIAEBgA"
      },
      "execution_count": null,
      "outputs": []
    },
    {
      "cell_type": "code",
      "source": [
        "def funcao2(*args):\n",
        "    print(args)"
      ],
      "metadata": {
        "id": "GK4h2k3aEzKW"
      },
      "execution_count": null,
      "outputs": []
    },
    {
      "cell_type": "code",
      "source": [
        "funcao2('oi')"
      ],
      "metadata": {
        "id": "mJAc1cEnE4ox"
      },
      "execution_count": null,
      "outputs": []
    },
    {
      "cell_type": "code",
      "source": [
        "funcao2('oi','ana')"
      ],
      "metadata": {
        "id": "l5b-5YHYFWu3"
      },
      "execution_count": null,
      "outputs": []
    },
    {
      "cell_type": "code",
      "source": [
        "funcao2(1,5,87,'sns')"
      ],
      "metadata": {
        "id": "xBb5x5JqEBQa"
      },
      "execution_count": null,
      "outputs": []
    },
    {
      "cell_type": "code",
      "source": [
        "funcao2(*regulagem) #mostra as keys"
      ],
      "metadata": {
        "id": "ELRz-pb1EeOf"
      },
      "execution_count": null,
      "outputs": []
    },
    {
      "cell_type": "code",
      "source": [
        "def funcao3(nome,*args):\n",
        "    print(f'{nome} os argumentos são {args}')"
      ],
      "metadata": {
        "id": "tSHA09yrEecC"
      },
      "execution_count": null,
      "outputs": []
    },
    {
      "cell_type": "code",
      "source": [
        "funcao3('ana',1.5,46)"
      ],
      "metadata": {
        "id": "YrB8_h3iEekF"
      },
      "execution_count": null,
      "outputs": []
    },
    {
      "cell_type": "code",
      "source": [
        "funcao3('pedro')"
      ],
      "metadata": {
        "id": "Tklm1KHeP7wW"
      },
      "execution_count": null,
      "outputs": []
    },
    {
      "cell_type": "markdown",
      "source": [
        "`kwards`  é uma convenção para tratar argumentos nomeados em uma função. Ele permite que uma função receba um número variável de argumentos nomeados, ou seja, argumentos que são passados especificando seu nome.\n",
        "Dentro da função, kwargs é um dicionário que contém todos os argumentos nomeados fornecidos."
      ],
      "metadata": {
        "id": "cDbe0mOPRIUm"
      }
    },
    {
      "cell_type": "markdown",
      "source": [
        "Diferenças entre args e kwards:\n",
        "\n",
        "\n",
        "1.   Em frente a um argumento args é necessário um único asterisco *, em frente ao kwards é necessário dois asteriscos **.\n",
        "2.   Dentro da função, args é uma tupla, isto é, a posição dos argumentos é importantes. Em kwards, dentro da função, kwards é um dict.\n",
        "3. Os argumentos de uma função definida de args, são argumentos de posição. Os argumentos kwards precisam dos nomes.\n",
        "4. Args usa-se quando queremos tratar os argumentos de maneira padronizada, por exemplo, usando um loop de repetição. Kwards pode-se criar condições para cada parâmetro de maneira diferente.\n",
        "\n"
      ],
      "metadata": {
        "id": "1ZdjEJ2ZRjx8"
      }
    },
    {
      "cell_type": "code",
      "source": [
        "def funcao4(nome,**args):\n",
        "    print(f'{nome} os argumentos são {args}')"
      ],
      "metadata": {
        "id": "RPil1TWFRHIk"
      },
      "execution_count": null,
      "outputs": []
    },
    {
      "cell_type": "code",
      "source": [
        "#Observe que o erro ocorre devido ao argumento 3 não possuir um nome\n",
        "funcao4('ana',3)"
      ],
      "metadata": {
        "id": "lQFQB9dfEerl"
      },
      "execution_count": null,
      "outputs": []
    },
    {
      "cell_type": "code",
      "source": [
        "funcao4('ana',numero1=3)"
      ],
      "metadata": {
        "id": "dv0KeRRVTXxy"
      },
      "execution_count": null,
      "outputs": []
    },
    {
      "cell_type": "code",
      "source": [
        "def funcao5(**argumentos):\n",
        "    print(argumentos)"
      ],
      "metadata": {
        "id": "AEqEUljUTxDO"
      },
      "execution_count": null,
      "outputs": []
    },
    {
      "cell_type": "code",
      "source": [
        "funcao5(gato=5,cao=89,bibila=8)"
      ],
      "metadata": {
        "id": "Qg0kZaJyUDwA"
      },
      "execution_count": null,
      "outputs": []
    },
    {
      "cell_type": "code",
      "source": [
        "def funcao6(**dados):\n",
        "    if 'idade' in dados:\n",
        "        print(dados.get('idade'))\n",
        "    else:\n",
        "        print(dados)"
      ],
      "metadata": {
        "id": "cI4Ucn7xVUj3"
      },
      "execution_count": null,
      "outputs": []
    },
    {
      "cell_type": "code",
      "source": [
        "funcao6(gato=5,cao=89,bibila=8)"
      ],
      "metadata": {
        "id": "DlJlSE3QV72y"
      },
      "execution_count": null,
      "outputs": []
    },
    {
      "cell_type": "code",
      "source": [
        "funcao6(gato=5, cao=89, ie=35)"
      ],
      "metadata": {
        "id": "iCELuhOsXJxC"
      },
      "execution_count": null,
      "outputs": []
    },
    {
      "cell_type": "code",
      "source": [
        "funcao6(nome='bajsl', idade=84)"
      ],
      "metadata": {
        "id": "3Rm2mERaXYzY"
      },
      "execution_count": null,
      "outputs": []
    },
    {
      "cell_type": "markdown",
      "source": [
        "## Dicionário aninhados"
      ],
      "metadata": {
        "id": "jxceXexGoPJN"
      }
    },
    {
      "cell_type": "markdown",
      "source": [
        "Dicionários aninhados são dicionários dentro de dicionários."
      ],
      "metadata": {
        "id": "neaXRQ_-oiF3"
      }
    },
    {
      "cell_type": "code",
      "source": [
        "nested_dict = { 'dict1': {'key_A': 'value_A'},\n",
        "                'dict2': {'key_B': 'value_B'}}"
      ],
      "metadata": {
        "id": "Dli3p7ngoSJq"
      },
      "execution_count": null,
      "outputs": []
    },
    {
      "cell_type": "code",
      "source": [
        "Dict = {1: 'Geeks', 2: 'For', 3: {'A' : 'Welcome', 'B' : 'To', 'C' : 'Geeks'}}"
      ],
      "metadata": {
        "id": "PFJvNDD3o28f"
      },
      "execution_count": null,
      "outputs": []
    },
    {
      "cell_type": "code",
      "source": [
        "nested_dict['dict1']"
      ],
      "metadata": {
        "id": "HuP7pQMvo2-w"
      },
      "execution_count": null,
      "outputs": []
    },
    {
      "cell_type": "code",
      "source": [
        "Dict[2]"
      ],
      "metadata": {
        "id": "T7xL9cwpo3A7"
      },
      "execution_count": null,
      "outputs": []
    },
    {
      "cell_type": "code",
      "source": [
        "Dict[3]"
      ],
      "metadata": {
        "id": "SrJf00MVo3Ej"
      },
      "execution_count": null,
      "outputs": []
    },
    {
      "cell_type": "code",
      "source": [
        "Dict[3]['A']"
      ],
      "metadata": {
        "id": "UKPvT-Y2pdbt"
      },
      "execution_count": null,
      "outputs": []
    },
    {
      "cell_type": "code",
      "source": [
        "dict3={1:{'a': 'um', 'b': 'dois', 'c': 'tres'},2:{'gato' : 12, 'rato': {'ave': 8, 'reptil':1}}}"
      ],
      "metadata": {
        "id": "NIbQ_C_kp1pP"
      },
      "execution_count": null,
      "outputs": []
    },
    {
      "cell_type": "code",
      "source": [
        "#Para acessar o 1 do reptil\n",
        "print(dict3[2])\n",
        "print(dict3[2]['rato'])\n",
        "print(dict3[2]['rato']['reptil'])"
      ],
      "metadata": {
        "id": "I83U4wZeqUUQ"
      },
      "execution_count": null,
      "outputs": []
    },
    {
      "cell_type": "code",
      "source": [],
      "metadata": {
        "id": "wJ0FtkMyqUXq"
      },
      "execution_count": null,
      "outputs": []
    },
    {
      "cell_type": "markdown",
      "source": [
        "# Data e Hora"
      ],
      "metadata": {
        "id": "PX3GLbEJFrLV"
      }
    },
    {
      "cell_type": "code",
      "source": [],
      "metadata": {
        "id": "b5Nm1gN-xDBh"
      },
      "execution_count": null,
      "outputs": []
    },
    {
      "cell_type": "markdown",
      "source": [
        "## Converter uma coluna de string para datetime"
      ],
      "metadata": {
        "id": "vT0VxE6AFukg"
      }
    },
    {
      "cell_type": "code",
      "source": [
        "coluna=pd.to_datetime(coluna)"
      ],
      "metadata": {
        "id": "asNSBC5zFtli"
      },
      "execution_count": null,
      "outputs": []
    },
    {
      "cell_type": "markdown",
      "source": [
        "# Extrair mês de data"
      ],
      "metadata": {
        "id": "mbyxm1DZGNgr"
      }
    },
    {
      "cell_type": "code",
      "source": [
        "from datetime import datetime\n",
        "\n",
        "# Supondo que você tenha uma variável 'data' contendo a data desejada\n",
        "data = '2023-06-14'\n",
        "\n",
        "# Converter a string para um objeto datetime\n",
        "data_objeto = datetime.strptime(data, '%Y-%m-%d')\n",
        "\n",
        "# Extrair o mês do objeto datetime\n",
        "mes = data_objeto.month\n",
        "\n",
        "print(mes)"
      ],
      "metadata": {
        "id": "eLlmqKMDGQHz"
      },
      "execution_count": null,
      "outputs": []
    },
    {
      "cell_type": "markdown",
      "source": [
        "# Timeit"
      ],
      "metadata": {
        "id": "47E7D2BrM0pz"
      }
    },
    {
      "cell_type": "markdown",
      "source": [
        "## Calcular tempo de processamento de uma linha de comando usando timeit"
      ],
      "metadata": {
        "id": "BC27Qf4DfHAD"
      }
    },
    {
      "cell_type": "code",
      "source": [
        "def f(x):\n",
        "    return x**2\n",
        "def g(x):\n",
        "    return x**4\n",
        "def h(x):\n",
        "    return x**8\n",
        "\n",
        "import timeit\n",
        "print(timeit.timeit('[func(42) for func in (f,g,h)]', globals=globals()))\n",
        "print(timeit.timeit('f(42)', globals=globals())) # Tempo para rodar f(42)\n",
        "print(timeit.timeit('f(3)', globals=globals())) # Tempo para rodar f(3)\n",
        "print(timeit.timeit('g(42)', globals=globals())) # Tempo para rodar g(42)\n",
        "print(timeit.timeit('g(3)', globals=globals())) # Tempo para rodar g(3))"
      ],
      "metadata": {
        "id": "mGXn229uM4hj"
      },
      "execution_count": null,
      "outputs": []
    },
    {
      "cell_type": "markdown",
      "source": [
        "## Calcular tempo de processamento de um algoritmo usando time"
      ],
      "metadata": {
        "id": "QVG3wZrie7hk"
      }
    },
    {
      "cell_type": "code",
      "source": [
        "start_time = time.time()\n",
        "treino.groupby('App ID').agg({'Impressions' : 'sum', 'Conversions' : 'sum'})\n",
        "end_time = time.time()\n",
        "execution_time = end_time - start_time\n",
        "print(execution_time)"
      ],
      "metadata": {
        "id": "x0TG9h4ce6hd"
      },
      "execution_count": null,
      "outputs": []
    }
  ]
}